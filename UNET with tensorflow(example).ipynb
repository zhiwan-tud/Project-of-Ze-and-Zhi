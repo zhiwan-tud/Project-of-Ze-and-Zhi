{
 "cells": [
  {
   "cell_type": "code",
   "execution_count": 1,
   "metadata": {
    "ExecuteTime": {
     "end_time": "2021-06-29T07:44:50.909479Z",
     "start_time": "2021-06-29T07:44:48.759240Z"
    }
   },
   "outputs": [],
   "source": [
    "import tensorflow as tf\n",
    "import numpy as np\n",
    "import os\n",
    "import matplotlib.pyplot as plt\n",
    "%matplotlib inline\n",
    "import glob"
   ]
  },
  {
   "cell_type": "code",
   "execution_count": 2,
   "metadata": {
    "ExecuteTime": {
     "end_time": "2021-06-29T07:44:51.539891Z",
     "start_time": "2021-06-29T07:44:50.909479Z"
    }
   },
   "outputs": [],
   "source": [
    "from tensorflow.compat.v1 import ConfigProto\n",
    "from tensorflow.compat.v1 import InteractiveSession\n",
    "\n",
    "config = ConfigProto()\n",
    "config.gpu_options.allow_growth = True\n",
    "session = InteractiveSession(config=config)"
   ]
  },
  {
   "cell_type": "code",
   "execution_count": 3,
   "metadata": {
    "ExecuteTime": {
     "end_time": "2021-06-29T07:44:51.570012Z",
     "start_time": "2021-06-29T07:44:51.539891Z"
    }
   },
   "outputs": [],
   "source": [
    "img = glob.glob(r'D:\\ML data\\tensorflow_material\\dataset\\unet\\images\\images\\train\\*\\*.png') #tf.io.glob.glob"
   ]
  },
  {
   "cell_type": "code",
   "execution_count": 4,
   "metadata": {
    "ExecuteTime": {
     "end_time": "2021-06-29T07:44:51.585970Z",
     "start_time": "2021-06-29T07:44:51.571009Z"
    }
   },
   "outputs": [
    {
     "data": {
      "text/plain": [
       "2975"
      ]
     },
     "execution_count": 4,
     "metadata": {},
     "output_type": "execute_result"
    }
   ],
   "source": [
    "len(img)"
   ]
  },
  {
   "cell_type": "code",
   "execution_count": 5,
   "metadata": {
    "ExecuteTime": {
     "end_time": "2021-06-29T07:44:51.600962Z",
     "start_time": "2021-06-29T07:44:51.586998Z"
    }
   },
   "outputs": [
    {
     "data": {
      "text/plain": [
       "['D:\\\\ML data\\\\tensorflow_material\\\\dataset\\\\unet\\\\images\\\\images\\\\train\\\\aachen\\\\aachen_000000_000019_leftImg8bit.png',\n",
       " 'D:\\\\ML data\\\\tensorflow_material\\\\dataset\\\\unet\\\\images\\\\images\\\\train\\\\aachen\\\\aachen_000001_000019_leftImg8bit.png',\n",
       " 'D:\\\\ML data\\\\tensorflow_material\\\\dataset\\\\unet\\\\images\\\\images\\\\train\\\\aachen\\\\aachen_000002_000019_leftImg8bit.png',\n",
       " 'D:\\\\ML data\\\\tensorflow_material\\\\dataset\\\\unet\\\\images\\\\images\\\\train\\\\aachen\\\\aachen_000003_000019_leftImg8bit.png',\n",
       " 'D:\\\\ML data\\\\tensorflow_material\\\\dataset\\\\unet\\\\images\\\\images\\\\train\\\\aachen\\\\aachen_000004_000019_leftImg8bit.png']"
      ]
     },
     "execution_count": 5,
     "metadata": {},
     "output_type": "execute_result"
    }
   ],
   "source": [
    "img[:5]"
   ]
  },
  {
   "cell_type": "code",
   "execution_count": 6,
   "metadata": {
    "ExecuteTime": {
     "end_time": "2021-06-29T07:44:51.663037Z",
     "start_time": "2021-06-29T07:44:51.601927Z"
    }
   },
   "outputs": [],
   "source": [
    "label = glob.glob(r'D:\\ML data\\tensorflow_material\\dataset\\unet\\gtFine\\train\\*\\*_gtFine_labelIds.png')"
   ]
  },
  {
   "cell_type": "code",
   "execution_count": 7,
   "metadata": {
    "ExecuteTime": {
     "end_time": "2021-06-29T07:44:51.678512Z",
     "start_time": "2021-06-29T07:44:51.664520Z"
    }
   },
   "outputs": [
    {
     "data": {
      "text/plain": [
       "2975"
      ]
     },
     "execution_count": 7,
     "metadata": {},
     "output_type": "execute_result"
    }
   ],
   "source": [
    "train_count = len(label)\n",
    "train_count"
   ]
  },
  {
   "cell_type": "code",
   "execution_count": 8,
   "metadata": {
    "ExecuteTime": {
     "end_time": "2021-06-29T07:44:51.693442Z",
     "start_time": "2021-06-29T07:44:51.679477Z"
    }
   },
   "outputs": [
    {
     "data": {
      "text/plain": [
       "['D:\\\\ML data\\\\tensorflow_material\\\\dataset\\\\unet\\\\gtFine\\\\train\\\\aachen\\\\aachen_000000_000019_gtFine_labelIds.png',\n",
       " 'D:\\\\ML data\\\\tensorflow_material\\\\dataset\\\\unet\\\\gtFine\\\\train\\\\aachen\\\\aachen_000001_000019_gtFine_labelIds.png',\n",
       " 'D:\\\\ML data\\\\tensorflow_material\\\\dataset\\\\unet\\\\gtFine\\\\train\\\\aachen\\\\aachen_000002_000019_gtFine_labelIds.png']"
      ]
     },
     "execution_count": 8,
     "metadata": {},
     "output_type": "execute_result"
    }
   ],
   "source": [
    "label[:3]"
   ]
  },
  {
   "cell_type": "code",
   "execution_count": 9,
   "metadata": {
    "ExecuteTime": {
     "end_time": "2021-06-29T07:44:51.708433Z",
     "start_time": "2021-06-29T07:44:51.694438Z"
    }
   },
   "outputs": [
    {
     "data": {
      "text/plain": [
       "['D:\\\\ML data\\\\tensorflow_material\\\\dataset\\\\unet\\\\images\\\\images\\\\train\\\\bremen\\\\bremen_000240_000019_leftImg8bit.png',\n",
       " 'D:\\\\ML data\\\\tensorflow_material\\\\dataset\\\\unet\\\\images\\\\images\\\\train\\\\bremen\\\\bremen_000241_000019_leftImg8bit.png',\n",
       " 'D:\\\\ML data\\\\tensorflow_material\\\\dataset\\\\unet\\\\images\\\\images\\\\train\\\\bremen\\\\bremen_000242_000019_leftImg8bit.png',\n",
       " 'D:\\\\ML data\\\\tensorflow_material\\\\dataset\\\\unet\\\\images\\\\images\\\\train\\\\bremen\\\\bremen_000243_000019_leftImg8bit.png',\n",
       " 'D:\\\\ML data\\\\tensorflow_material\\\\dataset\\\\unet\\\\images\\\\images\\\\train\\\\bremen\\\\bremen_000244_000019_leftImg8bit.png']"
      ]
     },
     "execution_count": 9,
     "metadata": {},
     "output_type": "execute_result"
    }
   ],
   "source": [
    "img[510:515]"
   ]
  },
  {
   "cell_type": "code",
   "execution_count": 10,
   "metadata": {
    "ExecuteTime": {
     "end_time": "2021-06-29T07:44:51.724390Z",
     "start_time": "2021-06-29T07:44:51.709398Z"
    }
   },
   "outputs": [
    {
     "data": {
      "text/plain": [
       "['D:\\\\ML data\\\\tensorflow_material\\\\dataset\\\\unet\\\\gtFine\\\\train\\\\bremen\\\\bremen_000240_000019_gtFine_labelIds.png',\n",
       " 'D:\\\\ML data\\\\tensorflow_material\\\\dataset\\\\unet\\\\gtFine\\\\train\\\\bremen\\\\bremen_000241_000019_gtFine_labelIds.png',\n",
       " 'D:\\\\ML data\\\\tensorflow_material\\\\dataset\\\\unet\\\\gtFine\\\\train\\\\bremen\\\\bremen_000242_000019_gtFine_labelIds.png',\n",
       " 'D:\\\\ML data\\\\tensorflow_material\\\\dataset\\\\unet\\\\gtFine\\\\train\\\\bremen\\\\bremen_000243_000019_gtFine_labelIds.png',\n",
       " 'D:\\\\ML data\\\\tensorflow_material\\\\dataset\\\\unet\\\\gtFine\\\\train\\\\bremen\\\\bremen_000244_000019_gtFine_labelIds.png']"
      ]
     },
     "execution_count": 10,
     "metadata": {},
     "output_type": "execute_result"
    }
   ],
   "source": [
    "label[510:515]"
   ]
  },
  {
   "cell_type": "code",
   "execution_count": 11,
   "metadata": {
    "ExecuteTime": {
     "end_time": "2021-06-29T07:44:51.740253Z",
     "start_time": "2021-06-29T07:44:51.725356Z"
    }
   },
   "outputs": [],
   "source": [
    "index = np.random.permutation(len(img))"
   ]
  },
  {
   "cell_type": "code",
   "execution_count": 12,
   "metadata": {
    "ExecuteTime": {
     "end_time": "2021-06-29T07:44:51.755828Z",
     "start_time": "2021-06-29T07:44:51.741232Z"
    }
   },
   "outputs": [],
   "source": [
    "img = np.array(img)[index]\n",
    "label = np.array(label)[index]"
   ]
  },
  {
   "cell_type": "code",
   "execution_count": 13,
   "metadata": {
    "ExecuteTime": {
     "end_time": "2021-06-29T07:44:51.771753Z",
     "start_time": "2021-06-29T07:44:51.756793Z"
    }
   },
   "outputs": [
    {
     "data": {
      "text/plain": [
       "array(['D:\\\\ML data\\\\tensorflow_material\\\\dataset\\\\unet\\\\images\\\\images\\\\train\\\\hanover\\\\hanover_000000_042581_leftImg8bit.png',\n",
       "       'D:\\\\ML data\\\\tensorflow_material\\\\dataset\\\\unet\\\\images\\\\images\\\\train\\\\tubingen\\\\tubingen_000040_000019_leftImg8bit.png',\n",
       "       'D:\\\\ML data\\\\tensorflow_material\\\\dataset\\\\unet\\\\images\\\\images\\\\train\\\\krefeld\\\\krefeld_000000_030111_leftImg8bit.png',\n",
       "       ...,\n",
       "       'D:\\\\ML data\\\\tensorflow_material\\\\dataset\\\\unet\\\\images\\\\images\\\\train\\\\dusseldorf\\\\dusseldorf_000216_000019_leftImg8bit.png',\n",
       "       'D:\\\\ML data\\\\tensorflow_material\\\\dataset\\\\unet\\\\images\\\\images\\\\train\\\\strasbourg\\\\strasbourg_000001_025426_leftImg8bit.png',\n",
       "       'D:\\\\ML data\\\\tensorflow_material\\\\dataset\\\\unet\\\\images\\\\images\\\\train\\\\ulm\\\\ulm_000071_000019_leftImg8bit.png'],\n",
       "      dtype='<U125')"
      ]
     },
     "execution_count": 13,
     "metadata": {},
     "output_type": "execute_result"
    }
   ],
   "source": [
    "img"
   ]
  },
  {
   "cell_type": "code",
   "execution_count": null,
   "metadata": {},
   "outputs": [],
   "source": []
  },
  {
   "cell_type": "code",
   "execution_count": 14,
   "metadata": {
    "ExecuteTime": {
     "end_time": "2021-06-29T07:44:51.786714Z",
     "start_time": "2021-06-29T07:44:51.772750Z"
    }
   },
   "outputs": [
    {
     "data": {
      "text/plain": [
       "array(['D:\\\\ML data\\\\tensorflow_material\\\\dataset\\\\unet\\\\images\\\\images\\\\train\\\\stuttgart\\\\stuttgart_000014_000019_leftImg8bit.png',\n",
       "       'D:\\\\ML data\\\\tensorflow_material\\\\dataset\\\\unet\\\\images\\\\images\\\\train\\\\erfurt\\\\erfurt_000007_000019_leftImg8bit.png',\n",
       "       'D:\\\\ML data\\\\tensorflow_material\\\\dataset\\\\unet\\\\images\\\\images\\\\train\\\\hamburg\\\\hamburg_000000_032906_leftImg8bit.png',\n",
       "       'D:\\\\ML data\\\\tensorflow_material\\\\dataset\\\\unet\\\\images\\\\images\\\\train\\\\weimar\\\\weimar_000048_000019_leftImg8bit.png',\n",
       "       'D:\\\\ML data\\\\tensorflow_material\\\\dataset\\\\unet\\\\images\\\\images\\\\train\\\\zurich\\\\zurich_000011_000019_leftImg8bit.png'],\n",
       "      dtype='<U125')"
      ]
     },
     "execution_count": 14,
     "metadata": {},
     "output_type": "execute_result"
    }
   ],
   "source": [
    "img[510:515]"
   ]
  },
  {
   "cell_type": "code",
   "execution_count": 15,
   "metadata": {
    "ExecuteTime": {
     "end_time": "2021-06-29T07:44:51.801705Z",
     "start_time": "2021-06-29T07:44:51.787710Z"
    }
   },
   "outputs": [
    {
     "data": {
      "text/plain": [
       "array(['D:\\\\ML data\\\\tensorflow_material\\\\dataset\\\\unet\\\\gtFine\\\\train\\\\stuttgart\\\\stuttgart_000014_000019_gtFine_labelIds.png',\n",
       "       'D:\\\\ML data\\\\tensorflow_material\\\\dataset\\\\unet\\\\gtFine\\\\train\\\\erfurt\\\\erfurt_000007_000019_gtFine_labelIds.png',\n",
       "       'D:\\\\ML data\\\\tensorflow_material\\\\dataset\\\\unet\\\\gtFine\\\\train\\\\hamburg\\\\hamburg_000000_032906_gtFine_labelIds.png',\n",
       "       'D:\\\\ML data\\\\tensorflow_material\\\\dataset\\\\unet\\\\gtFine\\\\train\\\\weimar\\\\weimar_000048_000019_gtFine_labelIds.png',\n",
       "       'D:\\\\ML data\\\\tensorflow_material\\\\dataset\\\\unet\\\\gtFine\\\\train\\\\zurich\\\\zurich_000011_000019_gtFine_labelIds.png'],\n",
       "      dtype='<U122')"
      ]
     },
     "execution_count": 15,
     "metadata": {},
     "output_type": "execute_result"
    }
   ],
   "source": [
    "label[510:515]"
   ]
  },
  {
   "cell_type": "code",
   "execution_count": 16,
   "metadata": {
    "ExecuteTime": {
     "end_time": "2021-06-29T07:44:51.817631Z",
     "start_time": "2021-06-29T07:44:51.802705Z"
    }
   },
   "outputs": [],
   "source": [
    "img_val = glob.glob(r'D:\\ML data\\tensorflow_material\\dataset\\unet\\images\\images\\val\\*\\*.png')\n",
    "label_val = glob.glob(r'D:\\ML data\\tensorflow_material\\dataset\\unet\\gtFine\\val\\*\\*_gtFine_labelIds.png')"
   ]
  },
  {
   "cell_type": "code",
   "execution_count": 17,
   "metadata": {
    "ExecuteTime": {
     "end_time": "2021-06-29T07:44:51.833636Z",
     "start_time": "2021-06-29T07:44:51.818628Z"
    }
   },
   "outputs": [
    {
     "data": {
      "text/plain": [
       "(500, 500)"
      ]
     },
     "execution_count": 17,
     "metadata": {},
     "output_type": "execute_result"
    }
   ],
   "source": [
    "val_count = len(img_val)\n",
    "len(img_val),len(label_val)"
   ]
  },
  {
   "cell_type": "code",
   "execution_count": 18,
   "metadata": {
    "ExecuteTime": {
     "end_time": "2021-06-29T07:44:51.849545Z",
     "start_time": "2021-06-29T07:44:51.834586Z"
    }
   },
   "outputs": [
    {
     "data": {
      "text/plain": [
       "['D:\\\\ML data\\\\tensorflow_material\\\\dataset\\\\unet\\\\images\\\\images\\\\val\\\\frankfurt\\\\frankfurt_000000_004617_leftImg8bit.png',\n",
       " 'D:\\\\ML data\\\\tensorflow_material\\\\dataset\\\\unet\\\\images\\\\images\\\\val\\\\frankfurt\\\\frankfurt_000000_005543_leftImg8bit.png',\n",
       " 'D:\\\\ML data\\\\tensorflow_material\\\\dataset\\\\unet\\\\images\\\\images\\\\val\\\\frankfurt\\\\frankfurt_000000_005898_leftImg8bit.png',\n",
       " 'D:\\\\ML data\\\\tensorflow_material\\\\dataset\\\\unet\\\\images\\\\images\\\\val\\\\frankfurt\\\\frankfurt_000000_006589_leftImg8bit.png',\n",
       " 'D:\\\\ML data\\\\tensorflow_material\\\\dataset\\\\unet\\\\images\\\\images\\\\val\\\\frankfurt\\\\frankfurt_000000_007365_leftImg8bit.png']"
      ]
     },
     "execution_count": 18,
     "metadata": {},
     "output_type": "execute_result"
    }
   ],
   "source": [
    "img_val[10:15]"
   ]
  },
  {
   "cell_type": "code",
   "execution_count": 19,
   "metadata": {
    "ExecuteTime": {
     "end_time": "2021-06-29T07:44:51.864505Z",
     "start_time": "2021-06-29T07:44:51.850544Z"
    }
   },
   "outputs": [
    {
     "data": {
      "text/plain": [
       "['D:\\\\ML data\\\\tensorflow_material\\\\dataset\\\\unet\\\\gtFine\\\\val\\\\frankfurt\\\\frankfurt_000000_004617_gtFine_labelIds.png',\n",
       " 'D:\\\\ML data\\\\tensorflow_material\\\\dataset\\\\unet\\\\gtFine\\\\val\\\\frankfurt\\\\frankfurt_000000_005543_gtFine_labelIds.png',\n",
       " 'D:\\\\ML data\\\\tensorflow_material\\\\dataset\\\\unet\\\\gtFine\\\\val\\\\frankfurt\\\\frankfurt_000000_005898_gtFine_labelIds.png',\n",
       " 'D:\\\\ML data\\\\tensorflow_material\\\\dataset\\\\unet\\\\gtFine\\\\val\\\\frankfurt\\\\frankfurt_000000_006589_gtFine_labelIds.png',\n",
       " 'D:\\\\ML data\\\\tensorflow_material\\\\dataset\\\\unet\\\\gtFine\\\\val\\\\frankfurt\\\\frankfurt_000000_007365_gtFine_labelIds.png']"
      ]
     },
     "execution_count": 19,
     "metadata": {},
     "output_type": "execute_result"
    }
   ],
   "source": [
    "label_val[10:15]"
   ]
  },
  {
   "cell_type": "code",
   "execution_count": 20,
   "metadata": {
    "ExecuteTime": {
     "end_time": "2021-06-29T07:44:51.895456Z",
     "start_time": "2021-06-29T07:44:51.865528Z"
    }
   },
   "outputs": [],
   "source": [
    "dataset_train = tf.data.Dataset.from_tensor_slices((img, label))"
   ]
  },
  {
   "cell_type": "code",
   "execution_count": 21,
   "metadata": {
    "ExecuteTime": {
     "end_time": "2021-06-29T07:44:51.911417Z",
     "start_time": "2021-06-29T07:44:51.896421Z"
    }
   },
   "outputs": [
    {
     "data": {
      "text/plain": [
       "<TensorSliceDataset shapes: ((), ()), types: (tf.string, tf.string)>"
      ]
     },
     "execution_count": 21,
     "metadata": {},
     "output_type": "execute_result"
    }
   ],
   "source": [
    "dataset_train"
   ]
  },
  {
   "cell_type": "code",
   "execution_count": 22,
   "metadata": {
    "ExecuteTime": {
     "end_time": "2021-06-29T07:44:51.927338Z",
     "start_time": "2021-06-29T07:44:51.915370Z"
    }
   },
   "outputs": [],
   "source": [
    "dataset_val = tf.data.Dataset.from_tensor_slices((img_val, label_val))"
   ]
  },
  {
   "cell_type": "code",
   "execution_count": 23,
   "metadata": {
    "ExecuteTime": {
     "end_time": "2021-06-29T07:44:51.943319Z",
     "start_time": "2021-06-29T07:44:51.931327Z"
    }
   },
   "outputs": [],
   "source": [
    "def read_png(path):\n",
    "    img = tf.io.read_file(path)\n",
    "    img = tf.image.decode_png(img, channels=3)\n",
    "    return img"
   ]
  },
  {
   "cell_type": "code",
   "execution_count": 24,
   "metadata": {
    "ExecuteTime": {
     "end_time": "2021-06-29T07:44:51.958715Z",
     "start_time": "2021-06-29T07:44:51.944293Z"
    }
   },
   "outputs": [],
   "source": [
    "def read_png_label(path):\n",
    "    img = tf.io.read_file(path)\n",
    "    img = tf.image.decode_png(img, channels=1)\n",
    "    return img"
   ]
  },
  {
   "cell_type": "code",
   "execution_count": 25,
   "metadata": {
    "ExecuteTime": {
     "end_time": "2021-06-29T07:44:52.035702Z",
     "start_time": "2021-06-29T07:44:51.959731Z"
    }
   },
   "outputs": [],
   "source": [
    "img_1 = read_png(img[0])\n",
    "label_1 = read_png_label(label[0])"
   ]
  },
  {
   "cell_type": "code",
   "execution_count": 26,
   "metadata": {
    "ExecuteTime": {
     "end_time": "2021-06-29T07:44:52.050670Z",
     "start_time": "2021-06-29T07:44:52.036648Z"
    }
   },
   "outputs": [
    {
     "data": {
      "text/plain": [
       "TensorShape([1024, 2048, 3])"
      ]
     },
     "execution_count": 26,
     "metadata": {},
     "output_type": "execute_result"
    }
   ],
   "source": [
    "img_1.shape"
   ]
  },
  {
   "cell_type": "code",
   "execution_count": 27,
   "metadata": {
    "ExecuteTime": {
     "end_time": "2021-06-29T07:44:52.065613Z",
     "start_time": "2021-06-29T07:44:52.051642Z"
    }
   },
   "outputs": [
    {
     "data": {
      "text/plain": [
       "TensorShape([1024, 2048, 1])"
      ]
     },
     "execution_count": 27,
     "metadata": {},
     "output_type": "execute_result"
    }
   ],
   "source": [
    "label_1.shape"
   ]
  },
  {
   "cell_type": "markdown",
   "metadata": {},
   "source": [
    "数据增强 "
   ]
  },
  {
   "cell_type": "markdown",
   "metadata": {},
   "source": [
    "1. 随机反转\n",
    "  tf.random.uniform()>0.5\n",
    "  img = tf.image.flip_left_right()需要同时反转保证一一对应\n",
    "2. 随机裁剪"
   ]
  },
  {
   "cell_type": "code",
   "execution_count": 28,
   "metadata": {
    "ExecuteTime": {
     "end_time": "2021-06-29T07:44:52.081556Z",
     "start_time": "2021-06-29T07:44:52.066593Z"
    }
   },
   "outputs": [],
   "source": [
    "concat_img = tf.concat([img_1,label_1], axis=-1)"
   ]
  },
  {
   "cell_type": "code",
   "execution_count": 29,
   "metadata": {
    "ExecuteTime": {
     "end_time": "2021-06-29T07:44:52.097136Z",
     "start_time": "2021-06-29T07:44:52.082525Z"
    }
   },
   "outputs": [
    {
     "data": {
      "text/plain": [
       "TensorShape([1024, 2048, 4])"
      ]
     },
     "execution_count": 29,
     "metadata": {},
     "output_type": "execute_result"
    }
   ],
   "source": [
    "concat_img.shape"
   ]
  },
  {
   "cell_type": "code",
   "execution_count": 30,
   "metadata": {
    "ExecuteTime": {
     "end_time": "2021-06-29T07:44:52.113124Z",
     "start_time": "2021-06-29T07:44:52.098105Z"
    }
   },
   "outputs": [],
   "source": [
    "def crop_img(img, mask):\n",
    "    concat_img = tf.concat([img, mask], axis=-1)\n",
    "    concat_img = tf.image.resize(concat_img, (280,280),\n",
    "                                method=tf.image.ResizeMethod.NEAREST_NEIGHBOR)\n",
    "    crop_img = tf.image.random_crop(concat_img, [256,256,4])\n",
    "    return crop_img[:,:,:3], crop_img[:,:,3:] #:表示需要这个维度，不然切成二维"
   ]
  },
  {
   "cell_type": "code",
   "execution_count": 31,
   "metadata": {
    "ExecuteTime": {
     "end_time": "2021-06-29T07:44:52.143814Z",
     "start_time": "2021-06-29T07:44:52.113945Z"
    }
   },
   "outputs": [],
   "source": [
    "img_1, label_1 =crop_img(img_1,label_1)"
   ]
  },
  {
   "cell_type": "code",
   "execution_count": 32,
   "metadata": {
    "ExecuteTime": {
     "end_time": "2021-06-29T07:44:52.159247Z",
     "start_time": "2021-06-29T07:44:52.144261Z"
    }
   },
   "outputs": [
    {
     "data": {
      "text/plain": [
       "TensorShape([256, 256, 1])"
      ]
     },
     "execution_count": 32,
     "metadata": {},
     "output_type": "execute_result"
    }
   ],
   "source": [
    "label_1.shape"
   ]
  },
  {
   "cell_type": "code",
   "execution_count": null,
   "metadata": {},
   "outputs": [],
   "source": []
  },
  {
   "cell_type": "code",
   "execution_count": null,
   "metadata": {},
   "outputs": [],
   "source": []
  },
  {
   "cell_type": "code",
   "execution_count": 33,
   "metadata": {
    "ExecuteTime": {
     "end_time": "2021-06-29T07:44:52.363938Z",
     "start_time": "2021-06-29T07:44:52.161234Z"
    }
   },
   "outputs": [
    {
     "data": {
      "text/plain": [
       "<matplotlib.image.AxesImage at 0x1f01272b5e0>"
      ]
     },
     "execution_count": 33,
     "metadata": {},
     "output_type": "execute_result"
    },
    {
     "data": {
      "image/png": "[encoded data removed]",
      "text/plain": [
       "<Figure size 432x288 with 2 Axes>"
      ]
     },
     "metadata": {
      "needs_background": "light"
     },
     "output_type": "display_data"
    }
   ],
   "source": [
    "plt.subplot(1,2,1)\n",
    "plt.imshow(img_1.numpy())\n",
    "plt.subplot(1,2,2)\n",
    "plt.imshow(np.squeeze(label_1.numpy()))"
   ]
  },
  {
   "cell_type": "code",
   "execution_count": 34,
   "metadata": {
    "ExecuteTime": {
     "end_time": "2021-06-29T07:44:52.379918Z",
     "start_time": "2021-06-29T07:44:52.364935Z"
    }
   },
   "outputs": [],
   "source": [
    "def normal(img, mask):\n",
    "    img = tf.cast(img, tf.float32)/127.5-1\n",
    "    mask = tf.cast(mask, tf.int32)\n",
    "    return img, mask"
   ]
  },
  {
   "cell_type": "code",
   "execution_count": 35,
   "metadata": {
    "ExecuteTime": {
     "end_time": "2021-06-29T07:44:52.394765Z",
     "start_time": "2021-06-29T07:44:52.380948Z"
    }
   },
   "outputs": [],
   "source": [
    "def load_image_train(img_path, mask_path):\n",
    "    img = read_png(img_path)\n",
    "    mask = read_png_label(mask_path)\n",
    "    \n",
    "    img,mask = crop_img(img, mask)\n",
    "    \n",
    "    if tf.random.uniform(())>0.5:\n",
    "        img = tf.image.flip_left_right(img)\n",
    "        mask = tf.image.flip_left_right(mask)\n",
    "        \n",
    "    img, mask=normal(img, mask)\n",
    "    \n",
    "    return img, mask"
   ]
  },
  {
   "cell_type": "code",
   "execution_count": 36,
   "metadata": {
    "ExecuteTime": {
     "end_time": "2021-06-29T07:44:52.409764Z",
     "start_time": "2021-06-29T07:44:52.395478Z"
    }
   },
   "outputs": [],
   "source": [
    "def load_image_val(img_path, mask_path):\n",
    "    img = read_png(img_path)\n",
    "    mask = read_png_label(mask_path)\n",
    "    \n",
    "    img = tf.image.resize(img, (256,256))\n",
    "    mask = tf.image.resize(mask, (256,256))\n",
    "    \n",
    "        \n",
    "    img, mask=normal(img, mask)\n",
    "    \n",
    "    return img, mask"
   ]
  },
  {
   "cell_type": "code",
   "execution_count": 37,
   "metadata": {
    "ExecuteTime": {
     "end_time": "2021-06-29T07:44:52.425267Z",
     "start_time": "2021-06-29T07:44:52.410764Z"
    }
   },
   "outputs": [],
   "source": [
    "BATCH_SIZE = 6\n",
    "BUFFER_SIZE = 300\n",
    "STEP_PER_EPOCH = train_count//BATCH_SIZE\n",
    "VAL_STEP = val_count//BATCH_SIZE"
   ]
  },
  {
   "cell_type": "code",
   "execution_count": 38,
   "metadata": {
    "ExecuteTime": {
     "end_time": "2021-06-29T07:44:52.440627Z",
     "start_time": "2021-06-29T07:44:52.426268Z"
    }
   },
   "outputs": [],
   "source": [
    "auto = tf.data.experimental.AUTOTUNE"
   ]
  },
  {
   "cell_type": "code",
   "execution_count": 39,
   "metadata": {
    "ExecuteTime": {
     "end_time": "2021-06-29T07:44:52.805311Z",
     "start_time": "2021-06-29T07:44:52.441333Z"
    }
   },
   "outputs": [],
   "source": [
    "dataset_train = dataset_train.map(load_image_train,num_parallel_calls=auto)\n",
    "dataset_val = dataset_val.map(load_image_val, num_parallel_calls=auto)"
   ]
  },
  {
   "cell_type": "code",
   "execution_count": 40,
   "metadata": {
    "ExecuteTime": {
     "end_time": "2021-06-29T07:44:53.164968Z",
     "start_time": "2021-06-29T07:44:52.806316Z"
    }
   },
   "outputs": [
    {
     "data": {
      "image/png": "[encoded data removed]",
      "text/plain": [
       "<Figure size 432x288 with 2 Axes>"
      ]
     },
     "metadata": {
      "needs_background": "light"
     },
     "output_type": "display_data"
    }
   ],
   "source": [
    "for i, m in dataset_train.take(1):\n",
    "    plt.subplot(1,2,1)\n",
    "    plt.imshow((i.numpy()+1)/2)\n",
    "    plt.subplot(1,2,2)\n",
    "    plt.imshow(np.squeeze(m.numpy()))"
   ]
  },
  {
   "cell_type": "code",
   "execution_count": 41,
   "metadata": {
    "ExecuteTime": {
     "end_time": "2021-06-29T07:44:53.181012Z",
     "start_time": "2021-06-29T07:44:53.165966Z"
    }
   },
   "outputs": [],
   "source": [
    "dataset_train = dataset_train.shuffle(BUFFER_SIZE).batch(BATCH_SIZE)"
   ]
  },
  {
   "cell_type": "code",
   "execution_count": 42,
   "metadata": {
    "ExecuteTime": {
     "end_time": "2021-06-29T07:44:53.197019Z",
     "start_time": "2021-06-29T07:44:53.183012Z"
    }
   },
   "outputs": [],
   "source": [
    "dataset_val = dataset_val.batch(BATCH_SIZE)"
   ]
  },
  {
   "cell_type": "markdown",
   "metadata": {},
   "source": [
    "定义UNET模型"
   ]
  },
  {
   "cell_type": "code",
   "execution_count": 43,
   "metadata": {
    "ExecuteTime": {
     "end_time": "2021-06-29T07:44:53.212026Z",
     "start_time": "2021-06-29T07:44:53.198020Z"
    }
   },
   "outputs": [],
   "source": [
    "class Downsample(tf.keras.layers.Layer):\n",
    "    def __init__(self,units):\n",
    "        super(Downsample, self).__init__()\n",
    "        self.conv1 = tf.keras.layers.Conv2D(units, kernel_size=3,\n",
    "                                            padding='same')\n",
    "        self.conv2 = tf.keras.layers.Conv2D(units, kernel_size=3,\n",
    "                                            padding='same')\n",
    "        self.pool = tf.keras.layers.MaxPooling2D()\n",
    "    def call(self, x, is_pool=True):\n",
    "        if is_pool:\n",
    "            x = self.pool(x)\n",
    "        x = self.conv1(x)\n",
    "        x = tf.nn.relu(x)\n",
    "        x = self.conv2(x)\n",
    "        x = tf.nn.relu(x)\n",
    "        return x"
   ]
  },
  {
   "cell_type": "code",
   "execution_count": 44,
   "metadata": {
    "ExecuteTime": {
     "end_time": "2021-06-29T07:44:53.227676Z",
     "start_time": "2021-06-29T07:44:53.212998Z"
    }
   },
   "outputs": [
    {
     "data": {
      "text/plain": [
       "<property at 0x1f07067e5e0>"
      ]
     },
     "execution_count": 44,
     "metadata": {},
     "output_type": "execute_result"
    }
   ],
   "source": [
    "Downsample.trainable_variables"
   ]
  },
  {
   "cell_type": "code",
   "execution_count": 45,
   "metadata": {
    "ExecuteTime": {
     "end_time": "2021-06-29T07:44:53.242736Z",
     "start_time": "2021-06-29T07:44:53.228679Z"
    }
   },
   "outputs": [],
   "source": [
    "class Upsample(tf.keras.layers.Layer):\n",
    "    def __init__(self, units):\n",
    "        super(Upsample, self).__init__()\n",
    "        self.conv1 = tf.keras.layers.Conv2D(units, kernel_size=3,\n",
    "                                            padding='same')\n",
    "        self.conv2 = tf.keras.layers.Conv2D(units, kernel_size=3,\n",
    "                                            padding='same')\n",
    "        self.deconv = tf.keras.layers.Conv2DTranspose(units//2,\n",
    "                                                      kernel_size=2,\n",
    "                                                      strides = 2,\n",
    "                                                      padding='same')\n",
    "    def call(self, x):\n",
    "        x = self.conv1(x)\n",
    "        x = tf.nn.relu(x)\n",
    "        x = self.conv2(x)\n",
    "        x = tf.nn.relu(x)\n",
    "        x = self.deconv(x)\n",
    "        x = tf.nn.relu(x)\n",
    "        return x       "
   ]
  },
  {
   "cell_type": "code",
   "execution_count": 46,
   "metadata": {
    "ExecuteTime": {
     "end_time": "2021-06-29T07:44:53.257674Z",
     "start_time": "2021-06-29T07:44:53.243714Z"
    }
   },
   "outputs": [],
   "source": [
    "class Unet_model(tf.keras.Model):\n",
    "    def __init__(self):\n",
    "        super(Unet_model, self).__init__()\n",
    "        self.down1 = Downsample(64) #chushihuabuyongchuli  is_pool\n",
    "        self.down2 = Downsample(128)\n",
    "        self.down3 = Downsample(256)\n",
    "        self.down4 = Downsample(512)\n",
    "        self.down5 = Downsample(1024)\n",
    "        \n",
    "        self.up = tf.keras.layers.Conv2DTranspose(512,\n",
    "                                                  kernel_size = 2,\n",
    "                                                  strides = 2,\n",
    "                                                  padding = 'same')\n",
    "        \n",
    "        self.up1 = Upsample(512)\n",
    "        self.up2 = Upsample(256)\n",
    "        self.up3 = Upsample(128)\n",
    "        \n",
    "        self.conv_last = Downsample(64)\n",
    "        \n",
    "        self.last = tf.keras.layers.Conv2D(34,\n",
    "                                           kernel_size=1,\n",
    "                                           padding='same')\n",
    "    def call(self, x):\n",
    "        x1 = self.down1(x, is_pool=False)\n",
    "        x2 = self.down2(x1)\n",
    "        x3 = self.down3(x2)\n",
    "        x4 = self.down4(x3)\n",
    "        x5 = self.down5(x4)\n",
    "        \n",
    "        x5 = self.up(x5)\n",
    "        \n",
    "        x5 = tf.concat([x4,x5], axis=-1)\n",
    "        x5 = self.up1(x5)\n",
    "        \n",
    "        x5 = tf.concat([x3,x5], axis=-1)\n",
    "        x5 = self.up2(x5)\n",
    "        \n",
    "        x5 = tf.concat([x2,x5], axis=-1)\n",
    "        x5 = self.up3(x5)\n",
    "        \n",
    "        x5 = tf.concat([x1,x5], axis=-1)\n",
    "        \n",
    "        x5 = self.conv_last(x5, is_pool=False)\n",
    "        \n",
    "        x5 = self.last(x5)\n",
    "        return x5"
   ]
  },
  {
   "cell_type": "code",
   "execution_count": 47,
   "metadata": {
    "ExecuteTime": {
     "end_time": "2021-06-29T07:44:53.303083Z",
     "start_time": "2021-06-29T07:44:53.258663Z"
    }
   },
   "outputs": [],
   "source": [
    "model = Unet_model()"
   ]
  },
  {
   "cell_type": "code",
   "execution_count": 48,
   "metadata": {
    "ExecuteTime": {
     "end_time": "2021-06-29T07:44:53.319003Z",
     "start_time": "2021-06-29T07:44:53.304081Z"
    }
   },
   "outputs": [
    {
     "data": {
      "text/plain": [
       "<__main__.Unet_model at 0x1f01fdedc40>"
      ]
     },
     "execution_count": 48,
     "metadata": {},
     "output_type": "execute_result"
    }
   ],
   "source": [
    "model"
   ]
  },
  {
   "cell_type": "code",
   "execution_count": 49,
   "metadata": {
    "ExecuteTime": {
     "end_time": "2021-06-29T07:44:53.335044Z",
     "start_time": "2021-06-29T07:44:53.319986Z"
    }
   },
   "outputs": [],
   "source": [
    "opt = tf.keras.optimizers.Adam(0.0001)"
   ]
  },
  {
   "cell_type": "code",
   "execution_count": 50,
   "metadata": {
    "ExecuteTime": {
     "end_time": "2021-06-29T07:44:53.350746Z",
     "start_time": "2021-06-29T07:44:53.336005Z"
    }
   },
   "outputs": [],
   "source": [
    "loss_function = tf.keras.losses.SparseCategoricalCrossentropy(from_logits=True) #labels is 0.1.2..."
   ]
  },
  {
   "cell_type": "code",
   "execution_count": 51,
   "metadata": {
    "ExecuteTime": {
     "end_time": "2021-06-29T07:44:53.366601Z",
     "start_time": "2021-06-29T07:44:53.351770Z"
    }
   },
   "outputs": [],
   "source": [
    "class MeanIOU(tf.keras.metrics.MeanIoU):\n",
    "    def __call__(self, y_true, y_pred):\n",
    "        y_pred = tf.argmax(y_pred, axis=-1)\n",
    "        return super().__call__(y_true,y_pred)"
   ]
  },
  {
   "cell_type": "code",
   "execution_count": 52,
   "metadata": {
    "ExecuteTime": {
     "end_time": "2021-06-29T07:44:53.396724Z",
     "start_time": "2021-06-29T07:44:53.367602Z"
    }
   },
   "outputs": [],
   "source": [
    "train_loss = tf.keras.metrics.Mean(name='train_loss')\n",
    "train_acc = tf.keras.metrics.SparseCategoricalAccuracy(name='train_acc')\n",
    "train_iou = MeanIOU(34, name='train_iou')\n",
    "\n",
    "test_loss = tf.keras.metrics.Mean(name='test_loss')\n",
    "test_acc = tf.keras.metrics.SparseCategoricalAccuracy(name='test_acc')\n",
    "test_iou = MeanIOU(34, name='test_iou')"
   ]
  },
  {
   "cell_type": "code",
   "execution_count": 53,
   "metadata": {
    "ExecuteTime": {
     "end_time": "2021-06-29T07:44:53.412237Z",
     "start_time": "2021-06-29T07:44:53.397672Z"
    }
   },
   "outputs": [],
   "source": [
    "@tf.function\n",
    "def train_step(images, labels):\n",
    "    with tf.GradientTape() as tape:\n",
    "        predictions = model(images)\n",
    "        loss = loss_function(labels, predictions)\n",
    "    gradients = tape.gradient(loss, model.trainable_variables)\n",
    "    opt.apply_gradients(zip(gradients,model.trainable_variables))\n",
    "    \n",
    "    train_loss(loss)\n",
    "    train_acc(labels, predictions)\n",
    "    train_iou(labels,predictions)"
   ]
  },
  {
   "cell_type": "code",
   "execution_count": 54,
   "metadata": {
    "ExecuteTime": {
     "end_time": "2021-06-29T07:44:53.427762Z",
     "start_time": "2021-06-29T07:44:53.413239Z"
    }
   },
   "outputs": [],
   "source": [
    "@tf.function\n",
    "def test_step(images, labels):\n",
    "    predictions = model(images)\n",
    "    t_loss = loss_function(labels, predictions)\n",
    "    \n",
    "    test_loss(t_loss)\n",
    "    test_acc(labels, predictions)\n",
    "    test_iou(labels, predictions)"
   ]
  },
  {
   "cell_type": "code",
   "execution_count": 55,
   "metadata": {
    "ExecuteTime": {
     "end_time": "2021-06-29T09:03:52.660504Z",
     "start_time": "2021-06-29T07:44:53.428787Z"
    }
   },
   "outputs": [
    {
     "name": "stdout",
     "output_type": "stream",
     "text": [
      "Epoch 1.0,                 Loss: 1.703, Accuracy: 50.554, IOU: 0.055,                 Test Loss: 1.382,  Test Accuacy: 56.188, Test IOU: 0.067\n",
      "Epoch 2.0,                 Loss: 1.140, Accuracy: 65.432, IOU: 0.092,                 Test Loss: 1.270,  Test Accuacy: 67.132, Test IOU: 0.096\n",
      "Epoch 3.0,                 Loss: 0.963, Accuracy: 73.059, IOU: 0.115,                 Test Loss: 1.084,  Test Accuacy: 71.445, Test IOU: 0.113\n",
      "Epoch 4.0,                 Loss: 0.860, Accuracy: 76.592, IOU: 0.130,                 Test Loss: 0.962,  Test Accuacy: 74.900, Test IOU: 0.136\n",
      "Epoch 5.0,                 Loss: 0.774, Accuracy: 79.111, IOU: 0.150,                 Test Loss: 0.933,  Test Accuacy: 75.890, Test IOU: 0.143\n",
      "Epoch 6.0,                 Loss: 0.733, Accuracy: 80.269, IOU: 0.159,                 Test Loss: 0.898,  Test Accuacy: 76.653, Test IOU: 0.144\n",
      "Epoch 7.0,                 Loss: 0.695, Accuracy: 81.216, IOU: 0.169,                 Test Loss: 0.888,  Test Accuacy: 77.578, Test IOU: 0.153\n",
      "Epoch 8.0,                 Loss: 0.666, Accuracy: 81.985, IOU: 0.178,                 Test Loss: 0.852,  Test Accuacy: 78.312, Test IOU: 0.166\n",
      "Epoch 9.0,                 Loss: 0.636, Accuracy: 82.693, IOU: 0.186,                 Test Loss: 0.798,  Test Accuacy: 79.799, Test IOU: 0.174\n",
      "Epoch 10.0,                 Loss: 0.617, Accuracy: 83.170, IOU: 0.192,                 Test Loss: 0.793,  Test Accuacy: 79.479, Test IOU: 0.180\n"
     ]
    }
   ],
   "source": [
    "EPOCHS = 10\n",
    "\n",
    "for epoch in range(EPOCHS):\n",
    "    #在下一个epoch开始时，重置评估指标\n",
    "    train_loss.reset_states()\n",
    "    train_acc.reset_states()\n",
    "    train_iou.reset_states()\n",
    "    test_loss.reset_states()\n",
    "    test_acc.reset_states()\n",
    "    test_iou.reset_states()\n",
    "    \n",
    "    for images, labels in dataset_train:\n",
    "        train_step(images, labels)\n",
    "        \n",
    "    for test_images, test_labels in dataset_val:\n",
    "        test_step(test_images, test_labels)\n",
    "        \n",
    "    template = 'Epoch {:.1f}, \\\n",
    "                Loss: {:.3f}, Accuracy: {:.3f}, IOU: {:.3f}, \\\n",
    "                Test Loss: {:.3f},  Test Accuacy: {:.3f}, Test IOU: {:.3f}'\n",
    "    \n",
    "    print(template.format(epoch+1,\n",
    "                          train_loss.result(),\n",
    "                          train_acc.result()*100,\n",
    "                          train_iou.result(),\n",
    "                          test_loss.result(),\n",
    "                          test_acc.result()*100,\n",
    "                          test_iou.result()\n",
    "                         ))"
   ]
  },
  {
   "cell_type": "code",
   "execution_count": null,
   "metadata": {},
   "outputs": [],
   "source": []
  }
 ],
 "metadata": {
  "kernelspec": {
   "display_name": "Python 3",
   "language": "python",
   "name": "python3"
  },
  "language_info": {
   "codemirror_mode": {
    "name": "ipython",
    "version": 3
   },
   "file_extension": ".py",
   "mimetype": "text/x-python",
   "name": "python",
   "nbconvert_exporter": "python",
   "pygments_lexer": "ipython3",
   "version": "3.8.10"
  },
  "toc": {
   "base_numbering": 1,
   "nav_menu": {},
   "number_sections": true,
   "sideBar": true,
   "skip_h1_title": false,
   "title_cell": "Table of Contents",
   "title_sidebar": "Contents",
   "toc_cell": false,
   "toc_position": {},
   "toc_section_display": true,
   "toc_window_display": false
  },
  "varInspector": {
   "cols": {
    "lenName": 16,
    "lenType": 16,
    "lenVar": 40
   },
   "kernels_config": {
    "python": {
     "delete_cmd_postfix": "",
     "delete_cmd_prefix": "del ",
     "library": "var_list.py",
     "varRefreshCmd": "print(var_dic_list())"
    },
    "r": {
     "delete_cmd_postfix": ") ",
     "delete_cmd_prefix": "rm(",
     "library": "var_list.r",
     "varRefreshCmd": "cat(var_dic_list()) "
    }
   },
   "types_to_exclude": [
    "module",
    "function",
    "builtin_function_or_method",
    "instance",
    "_Feature"
   ],
   "window_display": false
  }
 },
 "nbformat": 4,
 "nbformat_minor": 4
}
