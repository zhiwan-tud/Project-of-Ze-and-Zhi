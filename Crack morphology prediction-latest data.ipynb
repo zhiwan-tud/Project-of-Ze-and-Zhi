{
 "cells": [
  {
   "cell_type": "code",
   "execution_count": 1,
   "metadata": {
    "ExecuteTime": {
     "end_time": "2021-07-25T21:17:52.472862Z",
     "start_time": "2021-07-25T21:17:48.855922Z"
    }
   },
   "outputs": [],
   "source": [
    "import tensorflow as tf\n",
    "from tensorflow import keras\n",
    "import matplotlib.pyplot as plt\n",
    "%matplotlib inline\n",
    "import numpy as np\n",
    "import glob\n",
    "import os"
   ]
  },
  {
   "cell_type": "code",
   "execution_count": 2,
   "metadata": {
    "ExecuteTime": {
     "end_time": "2021-07-25T21:17:53.353910Z",
     "start_time": "2021-07-25T21:17:52.473891Z"
    }
   },
   "outputs": [],
   "source": [
    "from tensorflow.compat.v1 import ConfigProto\n",
    "from tensorflow.compat.v1 import InteractiveSession\n",
    "\n",
    "config = ConfigProto()\n",
    "config.gpu_options.allow_growth = True\n",
    "session = InteractiveSession(config=config)"
   ]
  },
  {
   "cell_type": "code",
   "execution_count": 3,
   "metadata": {
    "ExecuteTime": {
     "end_time": "2021-07-25T21:17:53.788892Z",
     "start_time": "2021-07-25T21:17:53.354881Z"
    }
   },
   "outputs": [
    {
     "data": {
      "text/plain": [
       "70000"
      ]
     },
     "execution_count": 3,
     "metadata": {},
     "output_type": "execute_result"
    }
   ],
   "source": [
    "img_path = glob.glob(r'D:\\ML data\\dataset\\ZC_dataset_3DCP\\3DCP_twoPhase_conclusion\\InputPicture\\*.bmp')\n",
    "\n",
    "len(img_path)"
   ]
  },
  {
   "cell_type": "code",
   "execution_count": 4,
   "metadata": {
    "ExecuteTime": {
     "end_time": "2021-07-25T21:17:54.228356Z",
     "start_time": "2021-07-25T21:17:53.790858Z"
    }
   },
   "outputs": [
    {
     "data": {
      "text/plain": [
       "70000"
      ]
     },
     "execution_count": 4,
     "metadata": {},
     "output_type": "execute_result"
    }
   ],
   "source": [
    "label = glob.glob(r'D:\\ML data\\dataset\\ZC_dataset_3DCP\\3DCP_twoPhase_conclusion\\OutputPicture_3DCP_0_70000\\*.bmp')\n",
    "len(label)"
   ]
  },
  {
   "cell_type": "code",
   "execution_count": 5,
   "metadata": {
    "ExecuteTime": {
     "end_time": "2021-07-25T21:17:54.244066Z",
     "start_time": "2021-07-25T21:17:54.230320Z"
    }
   },
   "outputs": [],
   "source": [
    "# img_train_path1 = glob.glob(r'D:\\ML data\\dataset\\ZC_dataset_3DCP\\3DCP_twoPhase_conclusion\\InputPicture\\*.bmp')\n",
    "\n",
    "# import os\n",
    " \n",
    "# path =r'D:\\ML data\\dataset\\ZC_dataset_3DCP\\3DCP_twoPhase_conclusion\\OutputPicture_3DCP_0_70000'\n",
    "# file_list = os.listdir(path)\n",
    " \n",
    "# for file in file_list:\n",
    "#     # 补0 9表示补0后名字共9位\n",
    "#     filename = file.zfill(9)\n",
    "#     # print(filename)\n",
    "#     new_name = ''.join(filename)\n",
    "#     os.rename(path + '\\\\' + file, path + '\\\\' + new_name)"
   ]
  },
  {
   "cell_type": "code",
   "execution_count": 6,
   "metadata": {
    "ExecuteTime": {
     "end_time": "2021-07-25T21:17:54.259025Z",
     "start_time": "2021-07-25T21:17:54.246064Z"
    }
   },
   "outputs": [
    {
     "data": {
      "text/plain": [
       "['D:\\\\ML data\\\\dataset\\\\ZC_dataset_3DCP\\\\3DCP_twoPhase_conclusion\\\\OutputPicture_3DCP_0_70000\\\\00001.bmp',\n",
       " 'D:\\\\ML data\\\\dataset\\\\ZC_dataset_3DCP\\\\3DCP_twoPhase_conclusion\\\\OutputPicture_3DCP_0_70000\\\\00002.bmp',\n",
       " 'D:\\\\ML data\\\\dataset\\\\ZC_dataset_3DCP\\\\3DCP_twoPhase_conclusion\\\\OutputPicture_3DCP_0_70000\\\\00003.bmp']"
      ]
     },
     "execution_count": 6,
     "metadata": {},
     "output_type": "execute_result"
    }
   ],
   "source": [
    "label[:3]"
   ]
  },
  {
   "cell_type": "code",
   "execution_count": 7,
   "metadata": {
    "ExecuteTime": {
     "end_time": "2021-07-25T21:17:54.274315Z",
     "start_time": "2021-07-25T21:17:54.262049Z"
    }
   },
   "outputs": [
    {
     "data": {
      "text/plain": [
       "['D:\\\\ML data\\\\dataset\\\\ZC_dataset_3DCP\\\\3DCP_twoPhase_conclusion\\\\InputPicture\\\\00511.bmp',\n",
       " 'D:\\\\ML data\\\\dataset\\\\ZC_dataset_3DCP\\\\3DCP_twoPhase_conclusion\\\\InputPicture\\\\00512.bmp',\n",
       " 'D:\\\\ML data\\\\dataset\\\\ZC_dataset_3DCP\\\\3DCP_twoPhase_conclusion\\\\InputPicture\\\\00513.bmp',\n",
       " 'D:\\\\ML data\\\\dataset\\\\ZC_dataset_3DCP\\\\3DCP_twoPhase_conclusion\\\\InputPicture\\\\00514.bmp',\n",
       " 'D:\\\\ML data\\\\dataset\\\\ZC_dataset_3DCP\\\\3DCP_twoPhase_conclusion\\\\InputPicture\\\\00515.bmp']"
      ]
     },
     "execution_count": 7,
     "metadata": {},
     "output_type": "execute_result"
    }
   ],
   "source": [
    "img_path[510:515]"
   ]
  },
  {
   "cell_type": "code",
   "execution_count": 8,
   "metadata": {
    "ExecuteTime": {
     "end_time": "2021-07-25T21:17:54.289579Z",
     "start_time": "2021-07-25T21:17:54.276975Z"
    }
   },
   "outputs": [
    {
     "data": {
      "text/plain": [
       "['D:\\\\ML data\\\\dataset\\\\ZC_dataset_3DCP\\\\3DCP_twoPhase_conclusion\\\\OutputPicture_3DCP_0_70000\\\\00511.bmp',\n",
       " 'D:\\\\ML data\\\\dataset\\\\ZC_dataset_3DCP\\\\3DCP_twoPhase_conclusion\\\\OutputPicture_3DCP_0_70000\\\\00512.bmp',\n",
       " 'D:\\\\ML data\\\\dataset\\\\ZC_dataset_3DCP\\\\3DCP_twoPhase_conclusion\\\\OutputPicture_3DCP_0_70000\\\\00513.bmp',\n",
       " 'D:\\\\ML data\\\\dataset\\\\ZC_dataset_3DCP\\\\3DCP_twoPhase_conclusion\\\\OutputPicture_3DCP_0_70000\\\\00514.bmp',\n",
       " 'D:\\\\ML data\\\\dataset\\\\ZC_dataset_3DCP\\\\3DCP_twoPhase_conclusion\\\\OutputPicture_3DCP_0_70000\\\\00515.bmp']"
      ]
     },
     "execution_count": 8,
     "metadata": {},
     "output_type": "execute_result"
    }
   ],
   "source": [
    "label[510:515]"
   ]
  },
  {
   "cell_type": "code",
   "execution_count": 9,
   "metadata": {
    "ExecuteTime": {
     "end_time": "2021-07-25T21:17:54.304908Z",
     "start_time": "2021-07-25T21:17:54.291543Z"
    }
   },
   "outputs": [],
   "source": [
    "index = np.random.permutation(len(img_path))"
   ]
  },
  {
   "cell_type": "code",
   "execution_count": 10,
   "metadata": {
    "ExecuteTime": {
     "end_time": "2021-07-25T21:17:54.432569Z",
     "start_time": "2021-07-25T21:17:54.306905Z"
    }
   },
   "outputs": [],
   "source": [
    "img = np.array(img_path)[index]\n",
    "label = np.array(label)[index]"
   ]
  },
  {
   "cell_type": "code",
   "execution_count": 11,
   "metadata": {
    "ExecuteTime": {
     "end_time": "2021-07-25T21:17:54.448217Z",
     "start_time": "2021-07-25T21:17:54.434562Z"
    }
   },
   "outputs": [
    {
     "data": {
      "text/plain": [
       "array([31545, 50290, 38253, ..., 45899, 53087, 65469])"
      ]
     },
     "execution_count": 11,
     "metadata": {},
     "output_type": "execute_result"
    }
   ],
   "source": [
    "index"
   ]
  },
  {
   "cell_type": "code",
   "execution_count": 12,
   "metadata": {
    "ExecuteTime": {
     "end_time": "2021-07-25T21:17:54.464160Z",
     "start_time": "2021-07-25T21:17:54.450172Z"
    }
   },
   "outputs": [
    {
     "data": {
      "text/plain": [
       "array(['D:\\\\ML data\\\\dataset\\\\ZC_dataset_3DCP\\\\3DCP_twoPhase_conclusion\\\\InputPicture\\\\25537.bmp',\n",
       "       'D:\\\\ML data\\\\dataset\\\\ZC_dataset_3DCP\\\\3DCP_twoPhase_conclusion\\\\InputPicture\\\\22657.bmp',\n",
       "       'D:\\\\ML data\\\\dataset\\\\ZC_dataset_3DCP\\\\3DCP_twoPhase_conclusion\\\\InputPicture\\\\41419.bmp',\n",
       "       'D:\\\\ML data\\\\dataset\\\\ZC_dataset_3DCP\\\\3DCP_twoPhase_conclusion\\\\InputPicture\\\\20381.bmp',\n",
       "       'D:\\\\ML data\\\\dataset\\\\ZC_dataset_3DCP\\\\3DCP_twoPhase_conclusion\\\\InputPicture\\\\05128.bmp'],\n",
       "      dtype='<U82')"
      ]
     },
     "execution_count": 12,
     "metadata": {},
     "output_type": "execute_result"
    }
   ],
   "source": [
    "img[510:515]"
   ]
  },
  {
   "cell_type": "code",
   "execution_count": 13,
   "metadata": {
    "ExecuteTime": {
     "end_time": "2021-07-25T21:17:54.479969Z",
     "start_time": "2021-07-25T21:17:54.467126Z"
    }
   },
   "outputs": [
    {
     "data": {
      "text/plain": [
       "array(['D:\\\\ML data\\\\dataset\\\\ZC_dataset_3DCP\\\\3DCP_twoPhase_conclusion\\\\OutputPicture_3DCP_0_70000\\\\25537.bmp',\n",
       "       'D:\\\\ML data\\\\dataset\\\\ZC_dataset_3DCP\\\\3DCP_twoPhase_conclusion\\\\OutputPicture_3DCP_0_70000\\\\22657.bmp',\n",
       "       'D:\\\\ML data\\\\dataset\\\\ZC_dataset_3DCP\\\\3DCP_twoPhase_conclusion\\\\OutputPicture_3DCP_0_70000\\\\41419.bmp',\n",
       "       'D:\\\\ML data\\\\dataset\\\\ZC_dataset_3DCP\\\\3DCP_twoPhase_conclusion\\\\OutputPicture_3DCP_0_70000\\\\20381.bmp',\n",
       "       'D:\\\\ML data\\\\dataset\\\\ZC_dataset_3DCP\\\\3DCP_twoPhase_conclusion\\\\OutputPicture_3DCP_0_70000\\\\05128.bmp'],\n",
       "      dtype='<U96')"
      ]
     },
     "execution_count": 13,
     "metadata": {},
     "output_type": "execute_result"
    }
   ],
   "source": [
    "label[510:515]"
   ]
  },
  {
   "cell_type": "code",
   "execution_count": 14,
   "metadata": {
    "ExecuteTime": {
     "end_time": "2021-07-25T21:17:54.495963Z",
     "start_time": "2021-07-25T21:17:54.481971Z"
    }
   },
   "outputs": [],
   "source": [
    "img_train = img[:60000]\n",
    "label_train = label[:60000]\n",
    "\n",
    "img_val = img[60000:]\n",
    "label_val = label[60000:]"
   ]
  },
  {
   "cell_type": "code",
   "execution_count": 15,
   "metadata": {
    "ExecuteTime": {
     "end_time": "2021-07-25T21:17:54.511950Z",
     "start_time": "2021-07-25T21:17:54.497961Z"
    }
   },
   "outputs": [
    {
     "data": {
      "text/plain": [
       "(10000, 10000)"
      ]
     },
     "execution_count": 15,
     "metadata": {},
     "output_type": "execute_result"
    }
   ],
   "source": [
    "len(img_val),len(label_val)"
   ]
  },
  {
   "cell_type": "code",
   "execution_count": 16,
   "metadata": {
    "ExecuteTime": {
     "end_time": "2021-07-25T21:17:54.527877Z",
     "start_time": "2021-07-25T21:17:54.513916Z"
    }
   },
   "outputs": [
    {
     "data": {
      "text/plain": [
       "array(['D:\\\\ML data\\\\dataset\\\\ZC_dataset_3DCP\\\\3DCP_twoPhase_conclusion\\\\InputPicture\\\\44495.bmp',\n",
       "       'D:\\\\ML data\\\\dataset\\\\ZC_dataset_3DCP\\\\3DCP_twoPhase_conclusion\\\\InputPicture\\\\64046.bmp',\n",
       "       'D:\\\\ML data\\\\dataset\\\\ZC_dataset_3DCP\\\\3DCP_twoPhase_conclusion\\\\InputPicture\\\\48383.bmp',\n",
       "       'D:\\\\ML data\\\\dataset\\\\ZC_dataset_3DCP\\\\3DCP_twoPhase_conclusion\\\\InputPicture\\\\14099.bmp',\n",
       "       'D:\\\\ML data\\\\dataset\\\\ZC_dataset_3DCP\\\\3DCP_twoPhase_conclusion\\\\InputPicture\\\\14616.bmp'],\n",
       "      dtype='<U82')"
      ]
     },
     "execution_count": 16,
     "metadata": {},
     "output_type": "execute_result"
    }
   ],
   "source": [
    "img_val[10:15]"
   ]
  },
  {
   "cell_type": "code",
   "execution_count": 17,
   "metadata": {
    "ExecuteTime": {
     "end_time": "2021-07-25T21:17:54.542838Z",
     "start_time": "2021-07-25T21:17:54.529873Z"
    }
   },
   "outputs": [
    {
     "data": {
      "text/plain": [
       "array(['D:\\\\ML data\\\\dataset\\\\ZC_dataset_3DCP\\\\3DCP_twoPhase_conclusion\\\\OutputPicture_3DCP_0_70000\\\\44495.bmp',\n",
       "       'D:\\\\ML data\\\\dataset\\\\ZC_dataset_3DCP\\\\3DCP_twoPhase_conclusion\\\\OutputPicture_3DCP_0_70000\\\\64046.bmp',\n",
       "       'D:\\\\ML data\\\\dataset\\\\ZC_dataset_3DCP\\\\3DCP_twoPhase_conclusion\\\\OutputPicture_3DCP_0_70000\\\\48383.bmp',\n",
       "       'D:\\\\ML data\\\\dataset\\\\ZC_dataset_3DCP\\\\3DCP_twoPhase_conclusion\\\\OutputPicture_3DCP_0_70000\\\\14099.bmp',\n",
       "       'D:\\\\ML data\\\\dataset\\\\ZC_dataset_3DCP\\\\3DCP_twoPhase_conclusion\\\\OutputPicture_3DCP_0_70000\\\\14616.bmp'],\n",
       "      dtype='<U96')"
      ]
     },
     "execution_count": 17,
     "metadata": {},
     "output_type": "execute_result"
    }
   ],
   "source": [
    "label_val[10:15]"
   ]
  },
  {
   "cell_type": "code",
   "execution_count": 18,
   "metadata": {
    "ExecuteTime": {
     "end_time": "2021-07-25T21:17:54.728341Z",
     "start_time": "2021-07-25T21:17:54.544833Z"
    }
   },
   "outputs": [],
   "source": [
    "dataset_train = tf.data.Dataset.from_tensor_slices((img_train, label_train))"
   ]
  },
  {
   "cell_type": "code",
   "execution_count": 19,
   "metadata": {
    "ExecuteTime": {
     "end_time": "2021-07-25T21:17:54.744257Z",
     "start_time": "2021-07-25T21:17:54.730342Z"
    }
   },
   "outputs": [
    {
     "data": {
      "text/plain": [
       "<TensorSliceDataset shapes: ((), ()), types: (tf.string, tf.string)>"
      ]
     },
     "execution_count": 19,
     "metadata": {},
     "output_type": "execute_result"
    }
   ],
   "source": [
    "dataset_train"
   ]
  },
  {
   "cell_type": "code",
   "execution_count": 20,
   "metadata": {
    "ExecuteTime": {
     "end_time": "2021-07-25T21:17:54.759914Z",
     "start_time": "2021-07-25T21:17:54.746950Z"
    }
   },
   "outputs": [
    {
     "data": {
      "text/plain": [
       "60000"
      ]
     },
     "execution_count": 20,
     "metadata": {},
     "output_type": "execute_result"
    }
   ],
   "source": [
    "len(dataset_train)"
   ]
  },
  {
   "cell_type": "code",
   "execution_count": 21,
   "metadata": {
    "ExecuteTime": {
     "end_time": "2021-07-25T21:17:54.807899Z",
     "start_time": "2021-07-25T21:17:54.761909Z"
    }
   },
   "outputs": [],
   "source": [
    "dataset_val = tf.data.Dataset.from_tensor_slices((img_val, label_val))"
   ]
  },
  {
   "cell_type": "code",
   "execution_count": 22,
   "metadata": {
    "ExecuteTime": {
     "end_time": "2021-07-25T21:17:54.824003Z",
     "start_time": "2021-07-25T21:17:54.814926Z"
    }
   },
   "outputs": [],
   "source": [
    "def read_bmp(path):\n",
    "    img = tf.io.read_file(path)\n",
    "    img = tf.image.decode_bmp(img, channels=1)\n",
    "    return img"
   ]
  },
  {
   "cell_type": "code",
   "execution_count": 23,
   "metadata": {
    "ExecuteTime": {
     "end_time": "2021-07-25T21:17:54.839960Z",
     "start_time": "2021-07-25T21:17:54.828996Z"
    }
   },
   "outputs": [],
   "source": [
    "def read_bmp_label(path):\n",
    "    img = tf.io.read_file(path)\n",
    "    img = tf.image.decode_bmp(img, channels=1)\n",
    "    return img"
   ]
  },
  {
   "cell_type": "code",
   "execution_count": 24,
   "metadata": {
    "ExecuteTime": {
     "end_time": "2021-07-25T21:17:54.855919Z",
     "start_time": "2021-07-25T21:17:54.841956Z"
    }
   },
   "outputs": [],
   "source": [
    "img_1 = read_bmp(img[0])\n",
    "label_1 = read_bmp_label(label[0])"
   ]
  },
  {
   "cell_type": "code",
   "execution_count": 25,
   "metadata": {
    "ExecuteTime": {
     "end_time": "2021-07-25T21:17:54.870879Z",
     "start_time": "2021-07-25T21:17:54.857914Z"
    }
   },
   "outputs": [
    {
     "data": {
      "text/plain": [
       "TensorShape([64, 64, 1])"
      ]
     },
     "execution_count": 25,
     "metadata": {},
     "output_type": "execute_result"
    }
   ],
   "source": [
    "img_1.shape"
   ]
  },
  {
   "cell_type": "code",
   "execution_count": 26,
   "metadata": {
    "ExecuteTime": {
     "end_time": "2021-07-25T21:17:54.885808Z",
     "start_time": "2021-07-25T21:17:54.872873Z"
    }
   },
   "outputs": [
    {
     "data": {
      "text/plain": [
       "TensorShape([64, 64, 1])"
      ]
     },
     "execution_count": 26,
     "metadata": {},
     "output_type": "execute_result"
    }
   ],
   "source": [
    "label_1.shape"
   ]
  },
  {
   "cell_type": "code",
   "execution_count": 27,
   "metadata": {
    "ExecuteTime": {
     "end_time": "2021-07-25T21:17:54.901713Z",
     "start_time": "2021-07-25T21:17:54.888800Z"
    }
   },
   "outputs": [],
   "source": [
    "def normal(img, mask):\n",
    "    img = tf.cast(img, tf.float32)/255\n",
    "    mask = tf.cast(mask, tf.int32)/255\n",
    "    return img, mask"
   ]
  },
  {
   "cell_type": "code",
   "execution_count": 28,
   "metadata": {
    "ExecuteTime": {
     "end_time": "2021-07-25T21:17:54.917723Z",
     "start_time": "2021-07-25T21:17:54.904704Z"
    }
   },
   "outputs": [],
   "source": [
    "def load_image_train(img_path, mask_path):\n",
    "    img = read_bmp(img_path)\n",
    "    mask = read_bmp_label(mask_path)\n",
    "    \n",
    "    img = tf.cast(img, tf.float32)\n",
    "    mask = tf.cast(mask, tf.int32) #change\n",
    "    \n",
    "#     img = tf.image.resize(img, (64,64))\n",
    "#     mask = tf.image.resize(mask, (64,64))\n",
    "    \n",
    "    img, mask=normal(img, mask)\n",
    "        \n",
    "    return img, mask"
   ]
  },
  {
   "cell_type": "code",
   "execution_count": 29,
   "metadata": {
    "ExecuteTime": {
     "end_time": "2021-07-25T21:17:54.933659Z",
     "start_time": "2021-07-25T21:17:54.919694Z"
    }
   },
   "outputs": [],
   "source": [
    "def load_image_val(img_path, mask_path):\n",
    "    img = read_bmp(img_path)\n",
    "    mask = read_bmp_label(mask_path)\n",
    "    \n",
    "    img = tf.cast(img, tf.float32)\n",
    "    mask = tf.cast(mask, tf.int32) #change\n",
    "    \n",
    "#     img = tf.image.resize(img, (64,64))\n",
    "#     mask = tf.image.resize(mask, (64,64))\n",
    "    \n",
    "    img, mask=normal(img, mask)\n",
    "    \n",
    "    return img, mask"
   ]
  },
  {
   "cell_type": "code",
   "execution_count": null,
   "metadata": {},
   "outputs": [],
   "source": []
  },
  {
   "cell_type": "code",
   "execution_count": null,
   "metadata": {},
   "outputs": [],
   "source": []
  },
  {
   "cell_type": "code",
   "execution_count": 30,
   "metadata": {
    "ExecuteTime": {
     "end_time": "2021-07-25T21:17:54.949257Z",
     "start_time": "2021-07-25T21:17:54.936300Z"
    }
   },
   "outputs": [],
   "source": [
    "BATCH_SIZE = 32\n",
    "BUFFER_SIZE = 300\n",
    "STEP_PER_EPOCH = len(img_train)//BATCH_SIZE\n",
    "# VAL_STEP = val_count//BATCH_SIZE"
   ]
  },
  {
   "cell_type": "code",
   "execution_count": 31,
   "metadata": {
    "ExecuteTime": {
     "end_time": "2021-07-25T21:17:54.964408Z",
     "start_time": "2021-07-25T21:17:54.952249Z"
    }
   },
   "outputs": [],
   "source": [
    "auto = tf.data.experimental.AUTOTUNE"
   ]
  },
  {
   "cell_type": "code",
   "execution_count": 32,
   "metadata": {
    "ExecuteTime": {
     "end_time": "2021-07-25T21:17:55.387235Z",
     "start_time": "2021-07-25T21:17:54.967581Z"
    }
   },
   "outputs": [],
   "source": [
    "dataset_train = dataset_train.map(load_image_train,num_parallel_calls=auto)\n",
    "dataset_val = dataset_val.map(load_image_val, num_parallel_calls=auto)"
   ]
  },
  {
   "cell_type": "code",
   "execution_count": 33,
   "metadata": {
    "ExecuteTime": {
     "end_time": "2021-07-25T21:17:55.403102Z",
     "start_time": "2021-07-25T21:17:55.389177Z"
    }
   },
   "outputs": [
    {
     "data": {
      "text/plain": [
       "60000"
      ]
     },
     "execution_count": 33,
     "metadata": {},
     "output_type": "execute_result"
    }
   ],
   "source": [
    "len(dataset_train)"
   ]
  },
  {
   "cell_type": "code",
   "execution_count": 34,
   "metadata": {
    "ExecuteTime": {
     "end_time": "2021-07-25T21:17:55.418271Z",
     "start_time": "2021-07-25T21:17:55.405097Z"
    }
   },
   "outputs": [
    {
     "data": {
      "text/plain": [
       "10000"
      ]
     },
     "execution_count": 34,
     "metadata": {},
     "output_type": "execute_result"
    }
   ],
   "source": [
    "len(dataset_val)"
   ]
  },
  {
   "cell_type": "code",
   "execution_count": 35,
   "metadata": {
    "ExecuteTime": {
     "end_time": "2021-07-25T21:17:55.846717Z",
     "start_time": "2021-07-25T21:17:55.420234Z"
    },
    "scrolled": false
   },
   "outputs": [
    {
     "data": {
      "image/png": "[encoded data removed]",
      "text/plain": [
       "<Figure size 432x288 with 2 Axes>"
      ]
     },
     "metadata": {
      "needs_background": "light"
     },
     "output_type": "display_data"
    }
   ],
   "source": [
    "for i, m in dataset_train.take(1):\n",
    "    plt.subplot(1,2,1)\n",
    "    plt.imshow(i.numpy())\n",
    "    plt.subplot(1,2,2)\n",
    "    plt.imshow(np.squeeze(m.numpy()))"
   ]
  },
  {
   "cell_type": "code",
   "execution_count": 36,
   "metadata": {
    "ExecuteTime": {
     "end_time": "2021-07-25T21:17:55.862576Z",
     "start_time": "2021-07-25T21:17:55.849678Z"
    }
   },
   "outputs": [],
   "source": [
    "dataset_train = dataset_train.shuffle(BUFFER_SIZE).batch(BATCH_SIZE)"
   ]
  },
  {
   "cell_type": "code",
   "execution_count": 37,
   "metadata": {
    "ExecuteTime": {
     "end_time": "2021-07-25T21:17:55.877856Z",
     "start_time": "2021-07-25T21:17:55.865215Z"
    }
   },
   "outputs": [],
   "source": [
    "dataset_val = dataset_val.batch(BATCH_SIZE)"
   ]
  },
  {
   "cell_type": "markdown",
   "metadata": {},
   "source": [
    "定义UNET模型"
   ]
  },
  {
   "cell_type": "code",
   "execution_count": 38,
   "metadata": {
    "ExecuteTime": {
     "end_time": "2021-07-25T21:17:55.892812Z",
     "start_time": "2021-07-25T21:17:55.879794Z"
    }
   },
   "outputs": [],
   "source": [
    "class Downsample(tf.keras.layers.Layer):\n",
    "    def __init__(self,units):\n",
    "        super(Downsample, self).__init__()\n",
    "        self.conv1 = tf.keras.layers.Conv2D(units, kernel_size=3,\n",
    "                                            padding='same')\n",
    "        self.conv2 = tf.keras.layers.Conv2D(units, kernel_size=3,\n",
    "                                            padding='same')\n",
    "        self.pool = tf.keras.layers.MaxPooling2D()\n",
    "    def call(self, x, is_pool=True):\n",
    "        if is_pool:\n",
    "            x = self.pool(x)\n",
    "        x = self.conv1(x)\n",
    "        x = tf.nn.relu(x)\n",
    "        x = self.conv2(x)\n",
    "        x = tf.nn.relu(x)\n",
    "        return x"
   ]
  },
  {
   "cell_type": "code",
   "execution_count": 39,
   "metadata": {
    "ExecuteTime": {
     "end_time": "2021-07-25T21:17:55.907782Z",
     "start_time": "2021-07-25T21:17:55.894810Z"
    }
   },
   "outputs": [
    {
     "data": {
      "text/plain": [
       "<property at 0x1639ffa05e0>"
      ]
     },
     "execution_count": 39,
     "metadata": {},
     "output_type": "execute_result"
    }
   ],
   "source": [
    "Downsample.trainable_variables"
   ]
  },
  {
   "cell_type": "code",
   "execution_count": 40,
   "metadata": {
    "ExecuteTime": {
     "end_time": "2021-07-25T21:17:55.923759Z",
     "start_time": "2021-07-25T21:17:55.909776Z"
    }
   },
   "outputs": [],
   "source": [
    "class Upsample(tf.keras.layers.Layer):\n",
    "    def __init__(self, units):\n",
    "        super(Upsample, self).__init__()\n",
    "        self.conv1 = tf.keras.layers.Conv2D(units, kernel_size=3,\n",
    "                                            padding='same')\n",
    "        self.conv2 = tf.keras.layers.Conv2D(units, kernel_size=3,\n",
    "                                            padding='same')\n",
    "        self.deconv = tf.keras.layers.Conv2DTranspose(units//2,\n",
    "                                                      kernel_size=2,\n",
    "                                                      strides = 2,\n",
    "                                                      padding='same')\n",
    "    def call(self, x):\n",
    "        x = self.conv1(x)\n",
    "        x = tf.nn.relu(x)\n",
    "        x = self.conv2(x)\n",
    "        x = tf.nn.relu(x)\n",
    "        x = self.deconv(x)\n",
    "        x = tf.nn.relu(x)\n",
    "        return x  "
   ]
  },
  {
   "cell_type": "code",
   "execution_count": 41,
   "metadata": {
    "ExecuteTime": {
     "end_time": "2021-07-25T21:17:55.939035Z",
     "start_time": "2021-07-25T21:17:55.926311Z"
    }
   },
   "outputs": [],
   "source": [
    "class Unet_model(tf.keras.Model):\n",
    "    def __init__(self):\n",
    "        super(Unet_model, self).__init__()\n",
    "        self.down1 = Downsample(64) #初始化不用处理  is_pool\n",
    "        self.down2 = Downsample(128)\n",
    "        self.down3 = Downsample(256)\n",
    "        self.down4 = Downsample(512)\n",
    "        self.down5 = Downsample(1024)\n",
    "        \n",
    "        self.up = tf.keras.layers.Conv2DTranspose(512,\n",
    "                                                  kernel_size = 2,\n",
    "                                                  strides = 2,\n",
    "                                                  padding = 'same')\n",
    "        \n",
    "        self.up1 = Upsample(512)\n",
    "        self.up2 = Upsample(256)\n",
    "        self.up3 = Upsample(128)\n",
    "        \n",
    "        self.conv_last = Downsample(64)\n",
    "        \n",
    "        self.last = tf.keras.layers.Conv2D(2,\n",
    "                                           kernel_size=1,\n",
    "                                           padding='same')\n",
    "    def call(self, x):\n",
    "        x1 = self.down1(x, is_pool=False)\n",
    "        x2 = self.down2(x1)\n",
    "        x3 = self.down3(x2)\n",
    "        x4 = self.down4(x3)\n",
    "        x5 = self.down5(x4)\n",
    "        \n",
    "        x5 = self.up(x5)\n",
    "        \n",
    "        x5 = tf.concat([x4,x5], axis=-1)\n",
    "        x5 = self.up1(x5)\n",
    "        \n",
    "        x5 = tf.concat([x3,x5], axis=-1)\n",
    "        x5 = self.up2(x5)\n",
    "        \n",
    "        x5 = tf.concat([x2,x5], axis=-1)\n",
    "        x5 = self.up3(x5)\n",
    "        \n",
    "        x5 = tf.concat([x1,x5], axis=-1)\n",
    "        \n",
    "        x5 = self.conv_last(x5, is_pool=False)\n",
    "        \n",
    "        x5 = self.last(x5)\n",
    "        return x5"
   ]
  },
  {
   "cell_type": "code",
   "execution_count": 42,
   "metadata": {
    "ExecuteTime": {
     "end_time": "2021-07-25T21:17:56.016930Z",
     "start_time": "2021-07-25T21:17:55.941032Z"
    }
   },
   "outputs": [],
   "source": [
    "model = Unet_model()"
   ]
  },
  {
   "cell_type": "code",
   "execution_count": 43,
   "metadata": {
    "ExecuteTime": {
     "end_time": "2021-07-25T21:17:56.032507Z",
     "start_time": "2021-07-25T21:17:56.018925Z"
    }
   },
   "outputs": [
    {
     "data": {
      "text/plain": [
       "<__main__.Unet_model at 0x163e1bf19a0>"
      ]
     },
     "execution_count": 43,
     "metadata": {},
     "output_type": "execute_result"
    }
   ],
   "source": [
    "model"
   ]
  },
  {
   "cell_type": "code",
   "execution_count": 44,
   "metadata": {
    "ExecuteTime": {
     "end_time": "2021-07-25T21:17:56.048493Z",
     "start_time": "2021-07-25T21:17:56.034501Z"
    }
   },
   "outputs": [],
   "source": [
    "opt = tf.keras.optimizers.Adam(0.0001)"
   ]
  },
  {
   "cell_type": "code",
   "execution_count": 45,
   "metadata": {
    "ExecuteTime": {
     "end_time": "2021-07-25T21:17:56.064475Z",
     "start_time": "2021-07-25T21:17:56.050452Z"
    }
   },
   "outputs": [],
   "source": [
    "loss_function = tf.keras.losses.SparseCategoricalCrossentropy(from_logits=True) #labels is 0.1.2..."
   ]
  },
  {
   "cell_type": "code",
   "execution_count": 46,
   "metadata": {
    "ExecuteTime": {
     "end_time": "2021-07-25T21:17:56.079609Z",
     "start_time": "2021-07-25T21:17:56.067625Z"
    }
   },
   "outputs": [],
   "source": [
    "class MeanIOU(tf.keras.metrics.MeanIoU):\n",
    "    def __call__(self, y_true, y_pred):\n",
    "        y_pred = tf.argmax(y_pred, axis=-1)\n",
    "        return super().__call__(y_true,y_pred)"
   ]
  },
  {
   "cell_type": "code",
   "execution_count": 47,
   "metadata": {
    "ExecuteTime": {
     "end_time": "2021-07-25T21:17:56.141787Z",
     "start_time": "2021-07-25T21:17:56.082621Z"
    }
   },
   "outputs": [],
   "source": [
    "train_loss = tf.keras.metrics.Mean(name='train_loss')\n",
    "train_acc = tf.keras.metrics.SparseCategoricalAccuracy(name='train_acc')\n",
    "train_iou = MeanIOU(2, name='train_iou')\n",
    "\n",
    "test_loss = tf.keras.metrics.Mean(name='test_loss')\n",
    "test_acc = tf.keras.metrics.SparseCategoricalAccuracy(name='test_acc')\n",
    "test_iou = MeanIOU(2, name='test_iou')"
   ]
  },
  {
   "cell_type": "code",
   "execution_count": 48,
   "metadata": {
    "ExecuteTime": {
     "end_time": "2021-07-25T21:17:56.156749Z",
     "start_time": "2021-07-25T21:17:56.143783Z"
    }
   },
   "outputs": [],
   "source": [
    "@tf.function\n",
    "def train_step(images, labels):\n",
    "    with tf.GradientTape() as tape:\n",
    "        predictions = model(images)\n",
    "        loss = loss_function(labels, predictions)\n",
    "        \n",
    "    gradients = tape.gradient(loss, model.trainable_variables)\n",
    "    opt.apply_gradients(zip(gradients,model.trainable_variables))\n",
    "    \n",
    "    train_loss(loss)\n",
    "    train_acc(labels, predictions)\n",
    "    train_iou(labels,predictions)"
   ]
  },
  {
   "cell_type": "code",
   "execution_count": 49,
   "metadata": {
    "ExecuteTime": {
     "end_time": "2021-07-25T21:17:56.171992Z",
     "start_time": "2021-07-25T21:17:56.158743Z"
    }
   },
   "outputs": [],
   "source": [
    "@tf.function\n",
    "def test_step(images, labels):\n",
    "    predictions = model(images)\n",
    "    t_loss = loss_function(labels, predictions)\n",
    "    \n",
    "    test_loss(t_loss)\n",
    "    test_acc(labels, predictions)\n",
    "    test_iou(labels, predictions)"
   ]
  },
  {
   "cell_type": "code",
   "execution_count": 50,
   "metadata": {
    "ExecuteTime": {
     "end_time": "2021-07-26T06:31:49.108666Z",
     "start_time": "2021-07-25T21:17:56.173986Z"
    }
   },
   "outputs": [
    {
     "name": "stdout",
     "output_type": "stream",
     "text": [
      "Epoch 1.0,                 Loss: 0.047, Accuracy: 98.695, IOU: 0.633,                 Test Loss: 0.033,  Test Accuacy: 98.882, Test IOU: 0.692\n",
      "Epoch 2.0,                 Loss: 0.031, Accuracy: 98.914, IOU: 0.696,                 Test Loss: 0.031,  Test Accuacy: 98.933, Test IOU: 0.697\n",
      "Epoch 3.0,                 Loss: 0.029, Accuracy: 98.960, IOU: 0.707,                 Test Loss: 0.029,  Test Accuacy: 98.962, Test IOU: 0.706\n",
      "Epoch 4.0,                 Loss: 0.028, Accuracy: 99.013, IOU: 0.720,                 Test Loss: 0.028,  Test Accuacy: 98.996, Test IOU: 0.712\n",
      "Epoch 5.0,                 Loss: 0.026, Accuracy: 99.074, IOU: 0.736,                 Test Loss: 0.027,  Test Accuacy: 99.028, Test IOU: 0.729\n",
      "Epoch 6.0,                 Loss: 0.023, Accuracy: 99.139, IOU: 0.752,                 Test Loss: 0.025,  Test Accuacy: 99.096, Test IOU: 0.744\n",
      "Epoch 7.0,                 Loss: 0.021, Accuracy: 99.209, IOU: 0.770,                 Test Loss: 0.025,  Test Accuacy: 99.138, Test IOU: 0.755\n",
      "Epoch 8.0,                 Loss: 0.019, Accuracy: 99.275, IOU: 0.789,                 Test Loss: 0.023,  Test Accuacy: 99.185, Test IOU: 0.769\n",
      "Epoch 9.0,                 Loss: 0.016, Accuracy: 99.339, IOU: 0.807,                 Test Loss: 0.023,  Test Accuacy: 99.222, Test IOU: 0.778\n",
      "Epoch 10.0,                 Loss: 0.015, Accuracy: 99.404, IOU: 0.826,                 Test Loss: 0.022,  Test Accuacy: 99.249, Test IOU: 0.789\n",
      "Epoch 11.0,                 Loss: 0.013, Accuracy: 99.468, IOU: 0.844,                 Test Loss: 0.021,  Test Accuacy: 99.285, Test IOU: 0.799\n",
      "Epoch 12.0,                 Loss: 0.012, Accuracy: 99.528, IOU: 0.861,                 Test Loss: 0.021,  Test Accuacy: 99.325, Test IOU: 0.810\n",
      "Epoch 13.0,                 Loss: 0.010, Accuracy: 99.583, IOU: 0.876,                 Test Loss: 0.020,  Test Accuacy: 99.363, Test IOU: 0.819\n",
      "Epoch 14.0,                 Loss: 0.009, Accuracy: 99.626, IOU: 0.889,                 Test Loss: 0.020,  Test Accuacy: 99.388, Test IOU: 0.827\n",
      "Epoch 15.0,                 Loss: 0.009, Accuracy: 99.663, IOU: 0.899,                 Test Loss: 0.020,  Test Accuacy: 99.402, Test IOU: 0.832\n",
      "Epoch 16.0,                 Loss: 0.008, Accuracy: 99.696, IOU: 0.908,                 Test Loss: 0.020,  Test Accuacy: 99.439, Test IOU: 0.840\n",
      "Epoch 17.0,                 Loss: 0.007, Accuracy: 99.724, IOU: 0.916,                 Test Loss: 0.019,  Test Accuacy: 99.465, Test IOU: 0.847\n",
      "Epoch 18.0,                 Loss: 0.007, Accuracy: 99.748, IOU: 0.923,                 Test Loss: 0.019,  Test Accuacy: 99.477, Test IOU: 0.851\n",
      "Epoch 19.0,                 Loss: 0.006, Accuracy: 99.770, IOU: 0.929,                 Test Loss: 0.019,  Test Accuacy: 99.502, Test IOU: 0.856\n",
      "Epoch 20.0,                 Loss: 0.006, Accuracy: 99.789, IOU: 0.935,                 Test Loss: 0.019,  Test Accuacy: 99.504, Test IOU: 0.858\n",
      "Epoch 21.0,                 Loss: 0.005, Accuracy: 99.806, IOU: 0.940,                 Test Loss: 0.019,  Test Accuacy: 99.523, Test IOU: 0.862\n",
      "Epoch 22.0,                 Loss: 0.005, Accuracy: 99.823, IOU: 0.945,                 Test Loss: 0.019,  Test Accuacy: 99.533, Test IOU: 0.865\n",
      "Epoch 23.0,                 Loss: 0.004, Accuracy: 99.835, IOU: 0.949,                 Test Loss: 0.019,  Test Accuacy: 99.548, Test IOU: 0.869\n",
      "Epoch 24.0,                 Loss: 0.004, Accuracy: 99.849, IOU: 0.953,                 Test Loss: 0.019,  Test Accuacy: 99.561, Test IOU: 0.872\n",
      "Epoch 25.0,                 Loss: 0.004, Accuracy: 99.858, IOU: 0.955,                 Test Loss: 0.019,  Test Accuacy: 99.564, Test IOU: 0.874\n",
      "Epoch 26.0,                 Loss: 0.004, Accuracy: 99.869, IOU: 0.959,                 Test Loss: 0.019,  Test Accuacy: 99.571, Test IOU: 0.875\n",
      "Epoch 27.0,                 Loss: 0.003, Accuracy: 99.877, IOU: 0.961,                 Test Loss: 0.019,  Test Accuacy: 99.584, Test IOU: 0.879\n",
      "Epoch 28.0,                 Loss: 0.003, Accuracy: 99.884, IOU: 0.963,                 Test Loss: 0.019,  Test Accuacy: 99.593, Test IOU: 0.881\n",
      "Epoch 29.0,                 Loss: 0.003, Accuracy: 99.891, IOU: 0.966,                 Test Loss: 0.019,  Test Accuacy: 99.587, Test IOU: 0.880\n",
      "Epoch 30.0,                 Loss: 0.003, Accuracy: 99.898, IOU: 0.968,                 Test Loss: 0.019,  Test Accuacy: 99.608, Test IOU: 0.885\n",
      "Epoch 31.0,                 Loss: 0.003, Accuracy: 99.904, IOU: 0.970,                 Test Loss: 0.019,  Test Accuacy: 99.598, Test IOU: 0.883\n",
      "Epoch 32.0,                 Loss: 0.003, Accuracy: 99.909, IOU: 0.971,                 Test Loss: 0.020,  Test Accuacy: 99.617, Test IOU: 0.888\n",
      "Epoch 33.0,                 Loss: 0.002, Accuracy: 99.914, IOU: 0.973,                 Test Loss: 0.019,  Test Accuacy: 99.618, Test IOU: 0.888\n",
      "Epoch 34.0,                 Loss: 0.002, Accuracy: 99.918, IOU: 0.974,                 Test Loss: 0.020,  Test Accuacy: 99.617, Test IOU: 0.887\n",
      "Epoch 35.0,                 Loss: 0.002, Accuracy: 99.921, IOU: 0.975,                 Test Loss: 0.020,  Test Accuacy: 99.628, Test IOU: 0.890\n",
      "Epoch 36.0,                 Loss: 0.002, Accuracy: 99.925, IOU: 0.976,                 Test Loss: 0.019,  Test Accuacy: 99.632, Test IOU: 0.892\n",
      "Epoch 37.0,                 Loss: 0.002, Accuracy: 99.929, IOU: 0.977,                 Test Loss: 0.019,  Test Accuacy: 99.628, Test IOU: 0.890\n",
      "Epoch 38.0,                 Loss: 0.002, Accuracy: 99.932, IOU: 0.978,                 Test Loss: 0.020,  Test Accuacy: 99.633, Test IOU: 0.892\n",
      "Epoch 39.0,                 Loss: 0.002, Accuracy: 99.935, IOU: 0.979,                 Test Loss: 0.019,  Test Accuacy: 99.642, Test IOU: 0.894\n",
      "Epoch 40.0,                 Loss: 0.002, Accuracy: 99.937, IOU: 0.980,                 Test Loss: 0.021,  Test Accuacy: 99.638, Test IOU: 0.893\n",
      "Epoch 41.0,                 Loss: 0.002, Accuracy: 99.939, IOU: 0.981,                 Test Loss: 0.020,  Test Accuacy: 99.644, Test IOU: 0.895\n",
      "Epoch 42.0,                 Loss: 0.002, Accuracy: 99.942, IOU: 0.981,                 Test Loss: 0.019,  Test Accuacy: 99.636, Test IOU: 0.893\n",
      "Epoch 43.0,                 Loss: 0.002, Accuracy: 99.944, IOU: 0.982,                 Test Loss: 0.020,  Test Accuacy: 99.640, Test IOU: 0.894\n",
      "Epoch 44.0,                 Loss: 0.002, Accuracy: 99.945, IOU: 0.982,                 Test Loss: 0.019,  Test Accuacy: 99.648, Test IOU: 0.896\n",
      "Epoch 45.0,                 Loss: 0.002, Accuracy: 99.948, IOU: 0.983,                 Test Loss: 0.020,  Test Accuacy: 99.649, Test IOU: 0.896\n",
      "Epoch 46.0,                 Loss: 0.001, Accuracy: 99.949, IOU: 0.984,                 Test Loss: 0.020,  Test Accuacy: 99.651, Test IOU: 0.897\n",
      "Epoch 47.0,                 Loss: 0.001, Accuracy: 99.950, IOU: 0.984,                 Test Loss: 0.020,  Test Accuacy: 99.633, Test IOU: 0.892\n",
      "Epoch 48.0,                 Loss: 0.001, Accuracy: 99.952, IOU: 0.984,                 Test Loss: 0.017,  Test Accuacy: 99.653, Test IOU: 0.897\n",
      "Epoch 49.0,                 Loss: 0.001, Accuracy: 99.951, IOU: 0.984,                 Test Loss: 0.019,  Test Accuacy: 99.652, Test IOU: 0.897\n",
      "Epoch 50.0,                 Loss: 0.001, Accuracy: 99.953, IOU: 0.985,                 Test Loss: 0.020,  Test Accuacy: 99.665, Test IOU: 0.901\n"
     ]
    }
   ],
   "source": [
    "EPOCHS = 50\n",
    "\n",
    "for epoch in range(EPOCHS):\n",
    "    #在下一个epoch开始时，重置评估指标\n",
    "    train_loss.reset_states()\n",
    "    train_acc.reset_states()\n",
    "    train_iou.reset_states()\n",
    "    test_loss.reset_states()\n",
    "    test_acc.reset_states()\n",
    "    test_iou.reset_states()\n",
    "    \n",
    "    for images, labels in dataset_train:\n",
    "        train_step(images, labels)\n",
    "        \n",
    "    for test_images, test_labels in dataset_val:\n",
    "        test_step(test_images, test_labels)\n",
    "        \n",
    "    template = 'Epoch {:.1f}, \\\n",
    "                Loss: {:.3f}, Accuracy: {:.3f}, IOU: {:.3f}, \\\n",
    "                Test Loss: {:.3f},  Test Accuacy: {:.3f}, Test IOU: {:.3f}'\n",
    "    \n",
    "    print(template.format(epoch+1,\n",
    "                          train_loss.result(),\n",
    "                          train_acc.result()*100,\n",
    "                          train_iou.result(),\n",
    "                          test_loss.result(),\n",
    "                          test_acc.result()*100,\n",
    "                          test_iou.result()\n",
    "                         ))\n",
    "        \n",
    "        \n",
    "#     for test_images, test_labels in dataset_val:\n",
    "#         test_step(test_images, test_labels)\n",
    "        \n",
    "#     template = 'Epoch {:.1f}, \\\n",
    "#                 Loss: {:.3f}, Accuracy: {:.3f}'\n",
    "    \n",
    "#     print(template.format(epoch+1,\n",
    "#                           train_loss.result(),\n",
    "#                           train_acc.result()*100,\n",
    "#                          ))"
   ]
  },
  {
   "cell_type": "code",
   "execution_count": 51,
   "metadata": {
    "ExecuteTime": {
     "end_time": "2021-07-26T06:31:49.123708Z",
     "start_time": "2021-07-26T06:31:49.110662Z"
    }
   },
   "outputs": [],
   "source": [
    "image1= next(iter(images))"
   ]
  },
  {
   "cell_type": "code",
   "execution_count": 52,
   "metadata": {
    "ExecuteTime": {
     "end_time": "2021-07-26T06:31:49.138668Z",
     "start_time": "2021-07-26T06:31:49.125703Z"
    }
   },
   "outputs": [
    {
     "data": {
      "text/plain": [
       "<tf.Tensor: shape=(64, 64, 1), dtype=float32, numpy=\n",
       "array([[[0.],\n",
       "        [0.],\n",
       "        [0.],\n",
       "        ...,\n",
       "        [0.],\n",
       "        [0.],\n",
       "        [0.]],\n",
       "\n",
       "       [[0.],\n",
       "        [0.],\n",
       "        [0.],\n",
       "        ...,\n",
       "        [0.],\n",
       "        [0.],\n",
       "        [0.]],\n",
       "\n",
       "       [[0.],\n",
       "        [0.],\n",
       "        [0.],\n",
       "        ...,\n",
       "        [0.],\n",
       "        [0.],\n",
       "        [0.]],\n",
       "\n",
       "       ...,\n",
       "\n",
       "       [[0.],\n",
       "        [0.],\n",
       "        [0.],\n",
       "        ...,\n",
       "        [0.],\n",
       "        [0.],\n",
       "        [0.]],\n",
       "\n",
       "       [[0.],\n",
       "        [0.],\n",
       "        [0.],\n",
       "        ...,\n",
       "        [0.],\n",
       "        [0.],\n",
       "        [0.]],\n",
       "\n",
       "       [[0.],\n",
       "        [0.],\n",
       "        [0.],\n",
       "        ...,\n",
       "        [0.],\n",
       "        [0.],\n",
       "        [0.]]], dtype=float32)>"
      ]
     },
     "execution_count": 52,
     "metadata": {},
     "output_type": "execute_result"
    }
   ],
   "source": [
    "image1"
   ]
  },
  {
   "cell_type": "code",
   "execution_count": 53,
   "metadata": {
    "ExecuteTime": {
     "end_time": "2021-07-26T06:31:50.658257Z",
     "start_time": "2021-07-26T06:31:49.139664Z"
    }
   },
   "outputs": [
    {
     "data": {
      "image/png": "[encoded data removed]",
      "text/plain": [
       "<Figure size 720x720 with 9 Axes>"
      ]
     },
     "metadata": {
      "needs_background": "light"
     },
     "output_type": "display_data"
    }
   ],
   "source": [
    "num = 3\n",
    "for image, mask in dataset_train.take(1):\n",
    "    pred_mask = model.predict(image)\n",
    "    pred_mask = tf.argmax(pred_mask,axis=-1)\n",
    "    pred_mask = pred_mask[..., tf.newaxis] #...means that all the dimensions are taken and tf.newaxis means that a new dim is added\n",
    "    \n",
    "    plt.figure(figsize=(10,10))\n",
    "    for i in range(num):\n",
    "        plt.subplot(num, 3, i*num+1)\n",
    "        plt.imshow(tf.keras.preprocessing.image.array_to_img(image[i]))\n",
    "        plt.subplot(num, 3, i*num+2)\n",
    "        plt.imshow(tf.keras.preprocessing.image.array_to_img(mask[i]))\n",
    "        plt.subplot(num, 3, i*num+3)\n",
    "        plt.imshow(tf.keras.preprocessing.image.array_to_img(pred_mask[i]))"
   ]
  },
  {
   "cell_type": "code",
   "execution_count": 54,
   "metadata": {
    "ExecuteTime": {
     "end_time": "2021-07-26T06:31:51.709890Z",
     "start_time": "2021-07-26T06:31:50.659254Z"
    }
   },
   "outputs": [
    {
     "data": {
      "image/png": "[encoded data removed]",
      "text/plain": [
       "<Figure size 720x720 with 9 Axes>"
      ]
     },
     "metadata": {
      "needs_background": "light"
     },
     "output_type": "display_data"
    }
   ],
   "source": [
    "num = 3\n",
    "for image, mask in dataset_val.take(1):\n",
    "    pred_mask = model.predict(image)\n",
    "    pred_mask = tf.argmax(pred_mask,axis=-1)\n",
    "    pred_mask = pred_mask[..., tf.newaxis] #...means that all the dimensions are taken and tf.newaxis means that a new dim is added\n",
    "    \n",
    "    plt.figure(figsize=(10,10))\n",
    "    for i in range(num):\n",
    "        plt.subplot(num, 3, i*num+1)\n",
    "        plt.imshow(tf.keras.preprocessing.image.array_to_img(image[i]))\n",
    "        plt.subplot(num, 3, i*num+2)\n",
    "        plt.imshow(tf.keras.preprocessing.image.array_to_img(mask[i]))\n",
    "        plt.subplot(num, 3, i*num+3)\n",
    "        plt.imshow(tf.keras.preprocessing.image.array_to_img(pred_mask[i]))"
   ]
  },
  {
   "cell_type": "code",
   "execution_count": null,
   "metadata": {},
   "outputs": [],
   "source": []
  },
  {
   "cell_type": "code",
   "execution_count": null,
   "metadata": {},
   "outputs": [],
   "source": []
  }
 ],
 "metadata": {
  "kernelspec": {
   "display_name": "Python 3",
   "language": "python",
   "name": "python3"
  },
  "language_info": {
   "codemirror_mode": {
    "name": "ipython",
    "version": 3
   },
   "file_extension": ".py",
   "mimetype": "text/x-python",
   "name": "python",
   "nbconvert_exporter": "python",
   "pygments_lexer": "ipython3",
   "version": "3.8.5"
  },
  "toc": {
   "base_numbering": 1,
   "nav_menu": {},
   "number_sections": true,
   "sideBar": true,
   "skip_h1_title": false,
   "title_cell": "Table of Contents",
   "title_sidebar": "Contents",
   "toc_cell": false,
   "toc_position": {},
   "toc_section_display": true,
   "toc_window_display": false
  },
  "varInspector": {
   "cols": {
    "lenName": 16,
    "lenType": 16,
    "lenVar": 40
   },
   "kernels_config": {
    "python": {
     "delete_cmd_postfix": "",
     "delete_cmd_prefix": "del ",
     "library": "var_list.py",
     "varRefreshCmd": "print(var_dic_list())"
    },
    "r": {
     "delete_cmd_postfix": ") ",
     "delete_cmd_prefix": "rm(",
     "library": "var_list.r",
     "varRefreshCmd": "cat(var_dic_list()) "
    }
   },
   "types_to_exclude": [
    "module",
    "function",
    "builtin_function_or_method",
    "instance",
    "_Feature"
   ],
   "window_display": false
  }
 },
 "nbformat": 4,
 "nbformat_minor": 4
}
