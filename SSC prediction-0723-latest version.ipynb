{
 "cells": [
  {
   "cell_type": "markdown",
   "metadata": {},
   "source": [
    "# Import packages"
   ]
  },
  {
   "cell_type": "code",
   "execution_count": 1,
   "metadata": {
    "ExecuteTime": {
     "end_time": "2021-08-04T22:05:34.937960Z",
     "start_time": "2021-08-04T22:05:32.485824Z"
    }
   },
   "outputs": [],
   "source": [
    "import tensorflow as tf\n",
    "from tensorflow import keras\n",
    "import matplotlib.pyplot as plt\n",
    "%matplotlib inline\n",
    "import numpy as np\n",
    "import pandas as pd\n",
    "import glob\n",
    "import os"
   ]
  },
  {
   "cell_type": "code",
   "execution_count": 2,
   "metadata": {
    "ExecuteTime": {
     "end_time": "2021-08-04T22:05:35.605129Z",
     "start_time": "2021-08-04T22:05:34.938899Z"
    }
   },
   "outputs": [],
   "source": [
    "from tensorflow.compat.v1 import ConfigProto\n",
    "from tensorflow.compat.v1 import InteractiveSession\n",
    "\n",
    "config = ConfigProto()\n",
    "config.gpu_options.allow_growth = True\n",
    "session = InteractiveSession(config=config)"
   ]
  },
  {
   "cell_type": "markdown",
   "metadata": {},
   "source": [
    "# Read and preprocess dataset"
   ]
  },
  {
   "cell_type": "code",
   "execution_count": 3,
   "metadata": {
    "ExecuteTime": {
     "end_time": "2021-08-04T22:05:35.620268Z",
     "start_time": "2021-08-04T22:05:35.606110Z"
    }
   },
   "outputs": [],
   "source": [
    "# 将图片编号补全成五位以便与标签对应(00001-70000)\n",
    "# import os\n",
    " \n",
    "# path =r'D:\\ML data\\dataset\\ZC_dataset_3DCP\\20210803\\crack\\Inputpicture_withorder'\n",
    "# file_list = os.listdir(path)\n",
    " \n",
    "# for file in file_list:\n",
    "#     # 补0 9表示补0后名字共9位\n",
    "#     filename = file.zfill(9)\n",
    "#     # print(filename)\n",
    "#     new_name = ''.join(filename)\n",
    "#     os.rename(path + '\\\\' + file, path + '\\\\' + new_name)"
   ]
  },
  {
   "cell_type": "code",
   "execution_count": 4,
   "metadata": {
    "ExecuteTime": {
     "end_time": "2021-08-04T22:05:35.920468Z",
     "start_time": "2021-08-04T22:05:35.621269Z"
    }
   },
   "outputs": [
    {
     "data": {
      "text/plain": [
       "70110"
      ]
     },
     "execution_count": 4,
     "metadata": {},
     "output_type": "execute_result"
    }
   ],
   "source": [
    "img_path = glob.glob(r'D:\\ML data\\dataset\\ZC_dataset_3DCP\\20210803\\crack\\Inputpicture_withorder\\*.bmp')\n",
    "\n",
    "len(img_path)"
   ]
  },
  {
   "cell_type": "code",
   "execution_count": 5,
   "metadata": {
    "ExecuteTime": {
     "end_time": "2021-08-04T22:05:35.935430Z",
     "start_time": "2021-08-04T22:05:35.923493Z"
    }
   },
   "outputs": [],
   "source": [
    "# data_sscurve = np.loadtxt(r'D:\\ML data\\dataset\\ZC_dataset_3DCP\\20210726\\samenumber0_70000Unsame_1.txt',dtype='float',delimiter=' ')\n",
    "# data_sscurve.shape"
   ]
  },
  {
   "cell_type": "code",
   "execution_count": 6,
   "metadata": {
    "ExecuteTime": {
     "end_time": "2021-08-04T22:05:39.616832Z",
     "start_time": "2021-08-04T22:05:35.938424Z"
    }
   },
   "outputs": [
    {
     "data": {
      "text/html": [
       "<div>\n",
       "<style scoped>\n",
       "    .dataframe tbody tr th:only-of-type {\n",
       "        vertical-align: middle;\n",
       "    }\n",
       "\n",
       "    .dataframe tbody tr th {\n",
       "        vertical-align: top;\n",
       "    }\n",
       "\n",
       "    .dataframe thead th {\n",
       "        text-align: right;\n",
       "    }\n",
       "</style>\n",
       "<table border=\"1\" class=\"dataframe\">\n",
       "  <thead>\n",
       "    <tr style=\"text-align: right;\">\n",
       "      <th></th>\n",
       "      <th>0</th>\n",
       "      <th>1</th>\n",
       "      <th>2</th>\n",
       "      <th>3</th>\n",
       "      <th>4</th>\n",
       "      <th>5</th>\n",
       "      <th>6</th>\n",
       "      <th>7</th>\n",
       "      <th>8</th>\n",
       "      <th>9</th>\n",
       "      <th>...</th>\n",
       "      <th>492</th>\n",
       "      <th>493</th>\n",
       "      <th>494</th>\n",
       "      <th>495</th>\n",
       "      <th>496</th>\n",
       "      <th>497</th>\n",
       "      <th>498</th>\n",
       "      <th>499</th>\n",
       "      <th>500</th>\n",
       "      <th>501</th>\n",
       "    </tr>\n",
       "  </thead>\n",
       "  <tbody>\n",
       "    <tr>\n",
       "      <th>0</th>\n",
       "      <td>1</td>\n",
       "      <td>0</td>\n",
       "      <td>0.001170</td>\n",
       "      <td>0.002340</td>\n",
       "      <td>0.003510</td>\n",
       "      <td>0.004680</td>\n",
       "      <td>0.005850</td>\n",
       "      <td>0.007020</td>\n",
       "      <td>0.008190</td>\n",
       "      <td>0.009361</td>\n",
       "      <td>...</td>\n",
       "      <td>0.017226</td>\n",
       "      <td>0.017226</td>\n",
       "      <td>0.017226</td>\n",
       "      <td>0.017226</td>\n",
       "      <td>0.017226</td>\n",
       "      <td>0.017226</td>\n",
       "      <td>0.017226</td>\n",
       "      <td>0.017226</td>\n",
       "      <td>0.017226</td>\n",
       "      <td>0.017226</td>\n",
       "    </tr>\n",
       "    <tr>\n",
       "      <th>1</th>\n",
       "      <td>2</td>\n",
       "      <td>0</td>\n",
       "      <td>0.001093</td>\n",
       "      <td>0.002186</td>\n",
       "      <td>0.003279</td>\n",
       "      <td>0.004373</td>\n",
       "      <td>0.005466</td>\n",
       "      <td>0.006559</td>\n",
       "      <td>0.007652</td>\n",
       "      <td>0.008745</td>\n",
       "      <td>...</td>\n",
       "      <td>0.009644</td>\n",
       "      <td>0.009644</td>\n",
       "      <td>0.009644</td>\n",
       "      <td>0.009644</td>\n",
       "      <td>0.009644</td>\n",
       "      <td>0.009644</td>\n",
       "      <td>0.009644</td>\n",
       "      <td>0.009644</td>\n",
       "      <td>0.009644</td>\n",
       "      <td>0.009644</td>\n",
       "    </tr>\n",
       "    <tr>\n",
       "      <th>2</th>\n",
       "      <td>3</td>\n",
       "      <td>0</td>\n",
       "      <td>0.001037</td>\n",
       "      <td>0.002074</td>\n",
       "      <td>0.003111</td>\n",
       "      <td>0.004148</td>\n",
       "      <td>0.005185</td>\n",
       "      <td>0.006222</td>\n",
       "      <td>0.007259</td>\n",
       "      <td>0.008296</td>\n",
       "      <td>...</td>\n",
       "      <td>0.005753</td>\n",
       "      <td>0.005753</td>\n",
       "      <td>0.005753</td>\n",
       "      <td>0.005753</td>\n",
       "      <td>0.005753</td>\n",
       "      <td>0.005753</td>\n",
       "      <td>0.005753</td>\n",
       "      <td>0.005753</td>\n",
       "      <td>0.005753</td>\n",
       "      <td>0.005753</td>\n",
       "    </tr>\n",
       "    <tr>\n",
       "      <th>3</th>\n",
       "      <td>4</td>\n",
       "      <td>0</td>\n",
       "      <td>0.001068</td>\n",
       "      <td>0.002135</td>\n",
       "      <td>0.003203</td>\n",
       "      <td>0.004270</td>\n",
       "      <td>0.005338</td>\n",
       "      <td>0.006405</td>\n",
       "      <td>0.007473</td>\n",
       "      <td>0.008540</td>\n",
       "      <td>...</td>\n",
       "      <td>0.008225</td>\n",
       "      <td>0.008225</td>\n",
       "      <td>0.008225</td>\n",
       "      <td>0.008225</td>\n",
       "      <td>0.008225</td>\n",
       "      <td>0.008225</td>\n",
       "      <td>0.008225</td>\n",
       "      <td>0.008225</td>\n",
       "      <td>0.008225</td>\n",
       "      <td>0.008225</td>\n",
       "    </tr>\n",
       "    <tr>\n",
       "      <th>4</th>\n",
       "      <td>5</td>\n",
       "      <td>0</td>\n",
       "      <td>0.001047</td>\n",
       "      <td>0.002093</td>\n",
       "      <td>0.003140</td>\n",
       "      <td>0.004187</td>\n",
       "      <td>0.005233</td>\n",
       "      <td>0.006280</td>\n",
       "      <td>0.007327</td>\n",
       "      <td>0.008373</td>\n",
       "      <td>...</td>\n",
       "      <td>0.008290</td>\n",
       "      <td>0.008290</td>\n",
       "      <td>0.008290</td>\n",
       "      <td>0.008290</td>\n",
       "      <td>0.008290</td>\n",
       "      <td>0.008290</td>\n",
       "      <td>0.008290</td>\n",
       "      <td>0.008290</td>\n",
       "      <td>0.008290</td>\n",
       "      <td>0.008290</td>\n",
       "    </tr>\n",
       "    <tr>\n",
       "      <th>...</th>\n",
       "      <td>...</td>\n",
       "      <td>...</td>\n",
       "      <td>...</td>\n",
       "      <td>...</td>\n",
       "      <td>...</td>\n",
       "      <td>...</td>\n",
       "      <td>...</td>\n",
       "      <td>...</td>\n",
       "      <td>...</td>\n",
       "      <td>...</td>\n",
       "      <td>...</td>\n",
       "      <td>...</td>\n",
       "      <td>...</td>\n",
       "      <td>...</td>\n",
       "      <td>...</td>\n",
       "      <td>...</td>\n",
       "      <td>...</td>\n",
       "      <td>...</td>\n",
       "      <td>...</td>\n",
       "      <td>...</td>\n",
       "      <td>...</td>\n",
       "    </tr>\n",
       "    <tr>\n",
       "      <th>70105</th>\n",
       "      <td>70106</td>\n",
       "      <td>0</td>\n",
       "      <td>0.000965</td>\n",
       "      <td>0.001929</td>\n",
       "      <td>0.002894</td>\n",
       "      <td>0.003858</td>\n",
       "      <td>0.004823</td>\n",
       "      <td>0.005788</td>\n",
       "      <td>0.006752</td>\n",
       "      <td>0.007717</td>\n",
       "      <td>...</td>\n",
       "      <td>-0.002366</td>\n",
       "      <td>-0.002366</td>\n",
       "      <td>-0.002366</td>\n",
       "      <td>-0.002366</td>\n",
       "      <td>-0.002366</td>\n",
       "      <td>-0.002366</td>\n",
       "      <td>-0.002366</td>\n",
       "      <td>-0.002366</td>\n",
       "      <td>-0.002366</td>\n",
       "      <td>-0.002366</td>\n",
       "    </tr>\n",
       "    <tr>\n",
       "      <th>70106</th>\n",
       "      <td>70107</td>\n",
       "      <td>0</td>\n",
       "      <td>0.001162</td>\n",
       "      <td>0.002325</td>\n",
       "      <td>0.003487</td>\n",
       "      <td>0.004649</td>\n",
       "      <td>0.005811</td>\n",
       "      <td>0.006974</td>\n",
       "      <td>0.008136</td>\n",
       "      <td>0.009298</td>\n",
       "      <td>...</td>\n",
       "      <td>0.017172</td>\n",
       "      <td>0.017172</td>\n",
       "      <td>0.017172</td>\n",
       "      <td>0.017172</td>\n",
       "      <td>0.017172</td>\n",
       "      <td>0.017172</td>\n",
       "      <td>0.017172</td>\n",
       "      <td>0.017172</td>\n",
       "      <td>0.017172</td>\n",
       "      <td>0.017172</td>\n",
       "    </tr>\n",
       "    <tr>\n",
       "      <th>70107</th>\n",
       "      <td>70108</td>\n",
       "      <td>0</td>\n",
       "      <td>0.001017</td>\n",
       "      <td>0.002034</td>\n",
       "      <td>0.003052</td>\n",
       "      <td>0.004069</td>\n",
       "      <td>0.005086</td>\n",
       "      <td>0.006103</td>\n",
       "      <td>0.007121</td>\n",
       "      <td>0.008138</td>\n",
       "      <td>...</td>\n",
       "      <td>0.009794</td>\n",
       "      <td>0.009794</td>\n",
       "      <td>0.009794</td>\n",
       "      <td>0.009794</td>\n",
       "      <td>0.009794</td>\n",
       "      <td>0.009794</td>\n",
       "      <td>0.009794</td>\n",
       "      <td>0.009794</td>\n",
       "      <td>0.009794</td>\n",
       "      <td>0.009794</td>\n",
       "    </tr>\n",
       "    <tr>\n",
       "      <th>70108</th>\n",
       "      <td>70109</td>\n",
       "      <td>0</td>\n",
       "      <td>0.001108</td>\n",
       "      <td>0.002216</td>\n",
       "      <td>0.003324</td>\n",
       "      <td>0.004432</td>\n",
       "      <td>0.005540</td>\n",
       "      <td>0.006648</td>\n",
       "      <td>0.007756</td>\n",
       "      <td>0.008864</td>\n",
       "      <td>...</td>\n",
       "      <td>0.012501</td>\n",
       "      <td>0.012501</td>\n",
       "      <td>0.012501</td>\n",
       "      <td>0.012501</td>\n",
       "      <td>0.012501</td>\n",
       "      <td>0.012501</td>\n",
       "      <td>0.012501</td>\n",
       "      <td>0.012501</td>\n",
       "      <td>0.012501</td>\n",
       "      <td>0.012501</td>\n",
       "    </tr>\n",
       "    <tr>\n",
       "      <th>70109</th>\n",
       "      <td>70110</td>\n",
       "      <td>0</td>\n",
       "      <td>0.000938</td>\n",
       "      <td>0.001876</td>\n",
       "      <td>0.002814</td>\n",
       "      <td>0.003752</td>\n",
       "      <td>0.004690</td>\n",
       "      <td>0.005628</td>\n",
       "      <td>0.006566</td>\n",
       "      <td>0.007504</td>\n",
       "      <td>...</td>\n",
       "      <td>0.012361</td>\n",
       "      <td>0.012361</td>\n",
       "      <td>0.012361</td>\n",
       "      <td>0.012361</td>\n",
       "      <td>0.012361</td>\n",
       "      <td>0.012361</td>\n",
       "      <td>0.012361</td>\n",
       "      <td>0.012361</td>\n",
       "      <td>0.012361</td>\n",
       "      <td>0.012361</td>\n",
       "    </tr>\n",
       "  </tbody>\n",
       "</table>\n",
       "<p>70110 rows × 502 columns</p>\n",
       "</div>"
      ],
      "text/plain": [
       "         0    1         2         3         4         5         6         7    \\\n",
       "0          1    0  0.001170  0.002340  0.003510  0.004680  0.005850  0.007020   \n",
       "1          2    0  0.001093  0.002186  0.003279  0.004373  0.005466  0.006559   \n",
       "2          3    0  0.001037  0.002074  0.003111  0.004148  0.005185  0.006222   \n",
       "3          4    0  0.001068  0.002135  0.003203  0.004270  0.005338  0.006405   \n",
       "4          5    0  0.001047  0.002093  0.003140  0.004187  0.005233  0.006280   \n",
       "...      ...  ...       ...       ...       ...       ...       ...       ...   \n",
       "70105  70106    0  0.000965  0.001929  0.002894  0.003858  0.004823  0.005788   \n",
       "70106  70107    0  0.001162  0.002325  0.003487  0.004649  0.005811  0.006974   \n",
       "70107  70108    0  0.001017  0.002034  0.003052  0.004069  0.005086  0.006103   \n",
       "70108  70109    0  0.001108  0.002216  0.003324  0.004432  0.005540  0.006648   \n",
       "70109  70110    0  0.000938  0.001876  0.002814  0.003752  0.004690  0.005628   \n",
       "\n",
       "            8         9    ...       492       493       494       495  \\\n",
       "0      0.008190  0.009361  ...  0.017226  0.017226  0.017226  0.017226   \n",
       "1      0.007652  0.008745  ...  0.009644  0.009644  0.009644  0.009644   \n",
       "2      0.007259  0.008296  ...  0.005753  0.005753  0.005753  0.005753   \n",
       "3      0.007473  0.008540  ...  0.008225  0.008225  0.008225  0.008225   \n",
       "4      0.007327  0.008373  ...  0.008290  0.008290  0.008290  0.008290   \n",
       "...         ...       ...  ...       ...       ...       ...       ...   \n",
       "70105  0.006752  0.007717  ... -0.002366 -0.002366 -0.002366 -0.002366   \n",
       "70106  0.008136  0.009298  ...  0.017172  0.017172  0.017172  0.017172   \n",
       "70107  0.007121  0.008138  ...  0.009794  0.009794  0.009794  0.009794   \n",
       "70108  0.007756  0.008864  ...  0.012501  0.012501  0.012501  0.012501   \n",
       "70109  0.006566  0.007504  ...  0.012361  0.012361  0.012361  0.012361   \n",
       "\n",
       "            496       497       498       499       500       501  \n",
       "0      0.017226  0.017226  0.017226  0.017226  0.017226  0.017226  \n",
       "1      0.009644  0.009644  0.009644  0.009644  0.009644  0.009644  \n",
       "2      0.005753  0.005753  0.005753  0.005753  0.005753  0.005753  \n",
       "3      0.008225  0.008225  0.008225  0.008225  0.008225  0.008225  \n",
       "4      0.008290  0.008290  0.008290  0.008290  0.008290  0.008290  \n",
       "...         ...       ...       ...       ...       ...       ...  \n",
       "70105 -0.002366 -0.002366 -0.002366 -0.002366 -0.002366 -0.002366  \n",
       "70106  0.017172  0.017172  0.017172  0.017172  0.017172  0.017172  \n",
       "70107  0.009794  0.009794  0.009794  0.009794  0.009794  0.009794  \n",
       "70108  0.012501  0.012501  0.012501  0.012501  0.012501  0.012501  \n",
       "70109  0.012361  0.012361  0.012361  0.012361  0.012361  0.012361  \n",
       "\n",
       "[70110 rows x 502 columns]"
      ]
     },
     "execution_count": 6,
     "metadata": {},
     "output_type": "execute_result"
    }
   ],
   "source": [
    "data_sscurve = pd.read_csv(r'D:\\ML data\\dataset\\ZC_dataset_3DCP\\20210803\\crack\\3DCP_ld_00001_70000.csv',header=None)\n",
    "data_sscurve"
   ]
  },
  {
   "cell_type": "code",
   "execution_count": 7,
   "metadata": {
    "ExecuteTime": {
     "end_time": "2021-08-04T22:05:39.632782Z",
     "start_time": "2021-08-04T22:05:39.618769Z"
    }
   },
   "outputs": [
    {
     "data": {
      "text/plain": [
       "(70110, 502)"
      ]
     },
     "execution_count": 7,
     "metadata": {},
     "output_type": "execute_result"
    }
   ],
   "source": [
    "# data_sscurve1 = data_sscurve[:,1:]\n",
    "data_sscurve.shape"
   ]
  },
  {
   "cell_type": "code",
   "execution_count": 8,
   "metadata": {
    "ExecuteTime": {
     "end_time": "2021-08-04T22:05:39.648693Z",
     "start_time": "2021-08-04T22:05:39.638717Z"
    }
   },
   "outputs": [
    {
     "data": {
      "text/plain": [
       "['D:\\\\ML data\\\\dataset\\\\ZC_dataset_3DCP\\\\20210803\\\\crack\\\\Inputpicture_withorder\\\\15001.bmp',\n",
       " 'D:\\\\ML data\\\\dataset\\\\ZC_dataset_3DCP\\\\20210803\\\\crack\\\\Inputpicture_withorder\\\\15002.bmp',\n",
       " 'D:\\\\ML data\\\\dataset\\\\ZC_dataset_3DCP\\\\20210803\\\\crack\\\\Inputpicture_withorder\\\\15003.bmp',\n",
       " 'D:\\\\ML data\\\\dataset\\\\ZC_dataset_3DCP\\\\20210803\\\\crack\\\\Inputpicture_withorder\\\\15004.bmp',\n",
       " 'D:\\\\ML data\\\\dataset\\\\ZC_dataset_3DCP\\\\20210803\\\\crack\\\\Inputpicture_withorder\\\\15005.bmp',\n",
       " 'D:\\\\ML data\\\\dataset\\\\ZC_dataset_3DCP\\\\20210803\\\\crack\\\\Inputpicture_withorder\\\\15006.bmp',\n",
       " 'D:\\\\ML data\\\\dataset\\\\ZC_dataset_3DCP\\\\20210803\\\\crack\\\\Inputpicture_withorder\\\\15007.bmp',\n",
       " 'D:\\\\ML data\\\\dataset\\\\ZC_dataset_3DCP\\\\20210803\\\\crack\\\\Inputpicture_withorder\\\\15008.bmp',\n",
       " 'D:\\\\ML data\\\\dataset\\\\ZC_dataset_3DCP\\\\20210803\\\\crack\\\\Inputpicture_withorder\\\\15009.bmp',\n",
       " 'D:\\\\ML data\\\\dataset\\\\ZC_dataset_3DCP\\\\20210803\\\\crack\\\\Inputpicture_withorder\\\\15010.bmp']"
      ]
     },
     "execution_count": 8,
     "metadata": {},
     "output_type": "execute_result"
    }
   ],
   "source": [
    "img_path[15000:15010]"
   ]
  },
  {
   "cell_type": "code",
   "execution_count": 9,
   "metadata": {
    "ExecuteTime": {
     "end_time": "2021-08-04T22:05:39.680604Z",
     "start_time": "2021-08-04T22:05:39.650684Z"
    }
   },
   "outputs": [
    {
     "data": {
      "text/html": [
       "<div>\n",
       "<style scoped>\n",
       "    .dataframe tbody tr th:only-of-type {\n",
       "        vertical-align: middle;\n",
       "    }\n",
       "\n",
       "    .dataframe tbody tr th {\n",
       "        vertical-align: top;\n",
       "    }\n",
       "\n",
       "    .dataframe thead th {\n",
       "        text-align: right;\n",
       "    }\n",
       "</style>\n",
       "<table border=\"1\" class=\"dataframe\">\n",
       "  <thead>\n",
       "    <tr style=\"text-align: right;\">\n",
       "      <th></th>\n",
       "      <th>0</th>\n",
       "      <th>1</th>\n",
       "      <th>2</th>\n",
       "      <th>3</th>\n",
       "      <th>4</th>\n",
       "      <th>5</th>\n",
       "      <th>6</th>\n",
       "      <th>7</th>\n",
       "      <th>8</th>\n",
       "      <th>9</th>\n",
       "      <th>...</th>\n",
       "      <th>492</th>\n",
       "      <th>493</th>\n",
       "      <th>494</th>\n",
       "      <th>495</th>\n",
       "      <th>496</th>\n",
       "      <th>497</th>\n",
       "      <th>498</th>\n",
       "      <th>499</th>\n",
       "      <th>500</th>\n",
       "      <th>501</th>\n",
       "    </tr>\n",
       "  </thead>\n",
       "  <tbody>\n",
       "    <tr>\n",
       "      <th>15000</th>\n",
       "      <td>15001</td>\n",
       "      <td>0</td>\n",
       "      <td>0.001156</td>\n",
       "      <td>0.002312</td>\n",
       "      <td>0.003467</td>\n",
       "      <td>0.004623</td>\n",
       "      <td>0.005779</td>\n",
       "      <td>0.006935</td>\n",
       "      <td>0.008091</td>\n",
       "      <td>0.009246</td>\n",
       "      <td>...</td>\n",
       "      <td>0.011612</td>\n",
       "      <td>0.011612</td>\n",
       "      <td>0.011612</td>\n",
       "      <td>0.011612</td>\n",
       "      <td>0.011612</td>\n",
       "      <td>0.011612</td>\n",
       "      <td>0.011612</td>\n",
       "      <td>0.011612</td>\n",
       "      <td>0.011612</td>\n",
       "      <td>0.011612</td>\n",
       "    </tr>\n",
       "    <tr>\n",
       "      <th>15001</th>\n",
       "      <td>15002</td>\n",
       "      <td>0</td>\n",
       "      <td>0.000838</td>\n",
       "      <td>0.001676</td>\n",
       "      <td>0.002514</td>\n",
       "      <td>0.003352</td>\n",
       "      <td>0.004190</td>\n",
       "      <td>0.005028</td>\n",
       "      <td>0.005866</td>\n",
       "      <td>0.006704</td>\n",
       "      <td>...</td>\n",
       "      <td>0.013062</td>\n",
       "      <td>0.013062</td>\n",
       "      <td>0.013062</td>\n",
       "      <td>0.013062</td>\n",
       "      <td>0.013062</td>\n",
       "      <td>0.013062</td>\n",
       "      <td>0.013062</td>\n",
       "      <td>0.013062</td>\n",
       "      <td>0.013062</td>\n",
       "      <td>0.013062</td>\n",
       "    </tr>\n",
       "    <tr>\n",
       "      <th>15002</th>\n",
       "      <td>15003</td>\n",
       "      <td>0</td>\n",
       "      <td>0.001269</td>\n",
       "      <td>0.002537</td>\n",
       "      <td>0.003806</td>\n",
       "      <td>0.005075</td>\n",
       "      <td>0.006343</td>\n",
       "      <td>0.007612</td>\n",
       "      <td>0.008880</td>\n",
       "      <td>0.010149</td>\n",
       "      <td>...</td>\n",
       "      <td>0.013902</td>\n",
       "      <td>0.013902</td>\n",
       "      <td>0.013902</td>\n",
       "      <td>0.013902</td>\n",
       "      <td>0.013902</td>\n",
       "      <td>0.013902</td>\n",
       "      <td>0.013902</td>\n",
       "      <td>0.013902</td>\n",
       "      <td>0.013902</td>\n",
       "      <td>0.013902</td>\n",
       "    </tr>\n",
       "    <tr>\n",
       "      <th>15003</th>\n",
       "      <td>15004</td>\n",
       "      <td>0</td>\n",
       "      <td>0.001163</td>\n",
       "      <td>0.002327</td>\n",
       "      <td>0.003490</td>\n",
       "      <td>0.004653</td>\n",
       "      <td>0.005817</td>\n",
       "      <td>0.006980</td>\n",
       "      <td>0.008144</td>\n",
       "      <td>0.009307</td>\n",
       "      <td>...</td>\n",
       "      <td>0.011045</td>\n",
       "      <td>0.010990</td>\n",
       "      <td>0.010934</td>\n",
       "      <td>0.010879</td>\n",
       "      <td>0.010824</td>\n",
       "      <td>0.010769</td>\n",
       "      <td>0.010714</td>\n",
       "      <td>0.010658</td>\n",
       "      <td>0.010645</td>\n",
       "      <td>0.010645</td>\n",
       "    </tr>\n",
       "    <tr>\n",
       "      <th>15004</th>\n",
       "      <td>15005</td>\n",
       "      <td>0</td>\n",
       "      <td>0.000912</td>\n",
       "      <td>0.001825</td>\n",
       "      <td>0.002737</td>\n",
       "      <td>0.003650</td>\n",
       "      <td>0.004562</td>\n",
       "      <td>0.005475</td>\n",
       "      <td>0.006387</td>\n",
       "      <td>0.007300</td>\n",
       "      <td>...</td>\n",
       "      <td>0.006839</td>\n",
       "      <td>0.006839</td>\n",
       "      <td>0.006839</td>\n",
       "      <td>0.006839</td>\n",
       "      <td>0.006839</td>\n",
       "      <td>0.006839</td>\n",
       "      <td>0.006839</td>\n",
       "      <td>0.006839</td>\n",
       "      <td>0.006839</td>\n",
       "      <td>0.006839</td>\n",
       "    </tr>\n",
       "    <tr>\n",
       "      <th>15005</th>\n",
       "      <td>15006</td>\n",
       "      <td>0</td>\n",
       "      <td>0.001222</td>\n",
       "      <td>0.002443</td>\n",
       "      <td>0.003665</td>\n",
       "      <td>0.004886</td>\n",
       "      <td>0.006108</td>\n",
       "      <td>0.007329</td>\n",
       "      <td>0.008551</td>\n",
       "      <td>0.009773</td>\n",
       "      <td>...</td>\n",
       "      <td>0.013540</td>\n",
       "      <td>0.013540</td>\n",
       "      <td>0.013540</td>\n",
       "      <td>0.013540</td>\n",
       "      <td>0.013540</td>\n",
       "      <td>0.013540</td>\n",
       "      <td>0.013540</td>\n",
       "      <td>0.013540</td>\n",
       "      <td>0.013540</td>\n",
       "      <td>0.013540</td>\n",
       "    </tr>\n",
       "    <tr>\n",
       "      <th>15006</th>\n",
       "      <td>15007</td>\n",
       "      <td>0</td>\n",
       "      <td>0.000989</td>\n",
       "      <td>0.001978</td>\n",
       "      <td>0.002967</td>\n",
       "      <td>0.003956</td>\n",
       "      <td>0.004946</td>\n",
       "      <td>0.005935</td>\n",
       "      <td>0.006924</td>\n",
       "      <td>0.007913</td>\n",
       "      <td>...</td>\n",
       "      <td>0.014562</td>\n",
       "      <td>0.014562</td>\n",
       "      <td>0.014562</td>\n",
       "      <td>0.014562</td>\n",
       "      <td>0.014562</td>\n",
       "      <td>0.014562</td>\n",
       "      <td>0.014562</td>\n",
       "      <td>0.014562</td>\n",
       "      <td>0.014562</td>\n",
       "      <td>0.014562</td>\n",
       "    </tr>\n",
       "    <tr>\n",
       "      <th>15007</th>\n",
       "      <td>15008</td>\n",
       "      <td>0</td>\n",
       "      <td>0.001148</td>\n",
       "      <td>0.002296</td>\n",
       "      <td>0.003444</td>\n",
       "      <td>0.004592</td>\n",
       "      <td>0.005739</td>\n",
       "      <td>0.006887</td>\n",
       "      <td>0.008035</td>\n",
       "      <td>0.009183</td>\n",
       "      <td>...</td>\n",
       "      <td>0.021292</td>\n",
       "      <td>0.021292</td>\n",
       "      <td>0.021292</td>\n",
       "      <td>0.021292</td>\n",
       "      <td>0.021292</td>\n",
       "      <td>0.021292</td>\n",
       "      <td>0.021292</td>\n",
       "      <td>0.021292</td>\n",
       "      <td>0.021292</td>\n",
       "      <td>0.021292</td>\n",
       "    </tr>\n",
       "    <tr>\n",
       "      <th>15008</th>\n",
       "      <td>15009</td>\n",
       "      <td>0</td>\n",
       "      <td>0.000916</td>\n",
       "      <td>0.001832</td>\n",
       "      <td>0.002747</td>\n",
       "      <td>0.003663</td>\n",
       "      <td>0.004579</td>\n",
       "      <td>0.005495</td>\n",
       "      <td>0.006410</td>\n",
       "      <td>0.007326</td>\n",
       "      <td>...</td>\n",
       "      <td>0.012712</td>\n",
       "      <td>0.012712</td>\n",
       "      <td>0.012712</td>\n",
       "      <td>0.012712</td>\n",
       "      <td>0.012712</td>\n",
       "      <td>0.012712</td>\n",
       "      <td>0.012712</td>\n",
       "      <td>0.012712</td>\n",
       "      <td>0.012712</td>\n",
       "      <td>0.012712</td>\n",
       "    </tr>\n",
       "    <tr>\n",
       "      <th>15009</th>\n",
       "      <td>15010</td>\n",
       "      <td>0</td>\n",
       "      <td>0.001016</td>\n",
       "      <td>0.002033</td>\n",
       "      <td>0.003049</td>\n",
       "      <td>0.004065</td>\n",
       "      <td>0.005081</td>\n",
       "      <td>0.006097</td>\n",
       "      <td>0.007114</td>\n",
       "      <td>0.008130</td>\n",
       "      <td>...</td>\n",
       "      <td>0.011164</td>\n",
       "      <td>0.011164</td>\n",
       "      <td>0.011164</td>\n",
       "      <td>0.011164</td>\n",
       "      <td>0.011164</td>\n",
       "      <td>0.011164</td>\n",
       "      <td>0.011164</td>\n",
       "      <td>0.011164</td>\n",
       "      <td>0.011164</td>\n",
       "      <td>0.011164</td>\n",
       "    </tr>\n",
       "  </tbody>\n",
       "</table>\n",
       "<p>10 rows × 502 columns</p>\n",
       "</div>"
      ],
      "text/plain": [
       "         0    1         2         3         4         5         6         7    \\\n",
       "15000  15001    0  0.001156  0.002312  0.003467  0.004623  0.005779  0.006935   \n",
       "15001  15002    0  0.000838  0.001676  0.002514  0.003352  0.004190  0.005028   \n",
       "15002  15003    0  0.001269  0.002537  0.003806  0.005075  0.006343  0.007612   \n",
       "15003  15004    0  0.001163  0.002327  0.003490  0.004653  0.005817  0.006980   \n",
       "15004  15005    0  0.000912  0.001825  0.002737  0.003650  0.004562  0.005475   \n",
       "15005  15006    0  0.001222  0.002443  0.003665  0.004886  0.006108  0.007329   \n",
       "15006  15007    0  0.000989  0.001978  0.002967  0.003956  0.004946  0.005935   \n",
       "15007  15008    0  0.001148  0.002296  0.003444  0.004592  0.005739  0.006887   \n",
       "15008  15009    0  0.000916  0.001832  0.002747  0.003663  0.004579  0.005495   \n",
       "15009  15010    0  0.001016  0.002033  0.003049  0.004065  0.005081  0.006097   \n",
       "\n",
       "            8         9    ...       492       493       494       495  \\\n",
       "15000  0.008091  0.009246  ...  0.011612  0.011612  0.011612  0.011612   \n",
       "15001  0.005866  0.006704  ...  0.013062  0.013062  0.013062  0.013062   \n",
       "15002  0.008880  0.010149  ...  0.013902  0.013902  0.013902  0.013902   \n",
       "15003  0.008144  0.009307  ...  0.011045  0.010990  0.010934  0.010879   \n",
       "15004  0.006387  0.007300  ...  0.006839  0.006839  0.006839  0.006839   \n",
       "15005  0.008551  0.009773  ...  0.013540  0.013540  0.013540  0.013540   \n",
       "15006  0.006924  0.007913  ...  0.014562  0.014562  0.014562  0.014562   \n",
       "15007  0.008035  0.009183  ...  0.021292  0.021292  0.021292  0.021292   \n",
       "15008  0.006410  0.007326  ...  0.012712  0.012712  0.012712  0.012712   \n",
       "15009  0.007114  0.008130  ...  0.011164  0.011164  0.011164  0.011164   \n",
       "\n",
       "            496       497       498       499       500       501  \n",
       "15000  0.011612  0.011612  0.011612  0.011612  0.011612  0.011612  \n",
       "15001  0.013062  0.013062  0.013062  0.013062  0.013062  0.013062  \n",
       "15002  0.013902  0.013902  0.013902  0.013902  0.013902  0.013902  \n",
       "15003  0.010824  0.010769  0.010714  0.010658  0.010645  0.010645  \n",
       "15004  0.006839  0.006839  0.006839  0.006839  0.006839  0.006839  \n",
       "15005  0.013540  0.013540  0.013540  0.013540  0.013540  0.013540  \n",
       "15006  0.014562  0.014562  0.014562  0.014562  0.014562  0.014562  \n",
       "15007  0.021292  0.021292  0.021292  0.021292  0.021292  0.021292  \n",
       "15008  0.012712  0.012712  0.012712  0.012712  0.012712  0.012712  \n",
       "15009  0.011164  0.011164  0.011164  0.011164  0.011164  0.011164  \n",
       "\n",
       "[10 rows x 502 columns]"
      ]
     },
     "execution_count": 9,
     "metadata": {},
     "output_type": "execute_result"
    }
   ],
   "source": [
    "data_sscurve[15000:15010]"
   ]
  },
  {
   "cell_type": "code",
   "execution_count": 10,
   "metadata": {
    "ExecuteTime": {
     "end_time": "2021-08-04T22:05:39.696560Z",
     "start_time": "2021-08-04T22:05:39.682608Z"
    }
   },
   "outputs": [
    {
     "data": {
      "text/plain": [
       "(70110, 502)"
      ]
     },
     "execution_count": 10,
     "metadata": {},
     "output_type": "execute_result"
    }
   ],
   "source": [
    "SSC = data_sscurve\n",
    "SSC.shape"
   ]
  },
  {
   "cell_type": "code",
   "execution_count": 11,
   "metadata": {
    "ExecuteTime": {
     "end_time": "2021-08-04T22:05:39.864446Z",
     "start_time": "2021-08-04T22:05:39.698576Z"
    }
   },
   "outputs": [
    {
     "data": {
      "text/plain": [
       "(0      70110.000000\n",
       " 1          0.000000\n",
       " 2          0.001518\n",
       " 3          0.003037\n",
       " 4          0.004555\n",
       "            ...     \n",
       " 497        0.053320\n",
       " 498        0.053320\n",
       " 499        0.053320\n",
       " 500        0.053320\n",
       " 501        0.053320\n",
       " Length: 502, dtype: float64,\n",
       " 0      1.000000\n",
       " 1      0.000000\n",
       " 2      0.000520\n",
       " 3      0.001040\n",
       " 4      0.001559\n",
       "          ...   \n",
       " 497   -0.008954\n",
       " 498   -0.008954\n",
       " 499   -0.008954\n",
       " 500   -0.008954\n",
       " 501   -0.008954\n",
       " Length: 502, dtype: float64)"
      ]
     },
     "execution_count": 11,
     "metadata": {},
     "output_type": "execute_result"
    }
   ],
   "source": [
    "data_sscurve.max(), data_sscurve.min()"
   ]
  },
  {
   "cell_type": "code",
   "execution_count": 12,
   "metadata": {
    "ExecuteTime": {
     "end_time": "2021-08-04T22:05:39.880090Z",
     "start_time": "2021-08-04T22:05:39.864446Z"
    }
   },
   "outputs": [],
   "source": [
    "# SSC_train = data_sscurve[:16000].values\n",
    "# SSC_val = data_sscurve[16000:].values\n",
    "# SSC_train.shape"
   ]
  },
  {
   "cell_type": "markdown",
   "metadata": {},
   "source": [
    "## Dimensionality reduction using PCA"
   ]
  },
  {
   "cell_type": "code",
   "execution_count": 13,
   "metadata": {
    "ExecuteTime": {
     "end_time": "2021-08-04T22:05:40.551152Z",
     "start_time": "2021-08-04T22:05:39.880090Z"
    }
   },
   "outputs": [],
   "source": [
    "from sklearn.decomposition import PCA"
   ]
  },
  {
   "cell_type": "code",
   "execution_count": 14,
   "metadata": {
    "ExecuteTime": {
     "end_time": "2021-08-04T22:05:40.716868Z",
     "start_time": "2021-08-04T22:05:40.552477Z"
    }
   },
   "outputs": [
    {
     "data": {
      "text/plain": [
       "(70110, 501)"
      ]
     },
     "execution_count": 14,
     "metadata": {},
     "output_type": "execute_result"
    }
   ],
   "source": [
    "Y = SSC.iloc[:,1:].values\n",
    "Y.shape"
   ]
  },
  {
   "cell_type": "code",
   "execution_count": 15,
   "metadata": {
    "ExecuteTime": {
     "end_time": "2021-08-04T22:05:40.852696Z",
     "start_time": "2021-08-04T22:05:40.717865Z"
    }
   },
   "outputs": [
    {
     "data": {
      "text/plain": [
       "(0.0, 502.0)"
      ]
     },
     "execution_count": 15,
     "metadata": {},
     "output_type": "execute_result"
    },
    {
     "data": {
      "image/png": "[encoded data removed]",
      "text/plain": [
       "<Figure size 432x288 with 1 Axes>"
      ]
     },
     "metadata": {
      "needs_background": "light"
     },
     "output_type": "display_data"
    }
   ],
   "source": [
    "# plt.figure(figsize=(16,9))\n",
    "plt.plot(np.arange(501)+1,Y[0])\n",
    "plt.ylim(0,0.12)\n",
    "plt.xlim(0,502)"
   ]
  },
  {
   "cell_type": "code",
   "execution_count": 16,
   "metadata": {
    "ExecuteTime": {
     "end_time": "2021-08-04T22:05:42.926870Z",
     "start_time": "2021-08-04T22:05:40.853693Z"
    }
   },
   "outputs": [],
   "source": [
    "pca=PCA(n_components=50)#实例化\n",
    "pca=pca.fit(Y)#拟合模型\n",
    "Y_dr=pca.transform(Y)#获取降维后的新矩阵\n",
    "Y11 = pca.inverse_transform(Y_dr)"
   ]
  },
  {
   "cell_type": "code",
   "execution_count": 17,
   "metadata": {
    "ExecuteTime": {
     "end_time": "2021-08-04T22:05:42.939354Z",
     "start_time": "2021-08-04T22:05:42.927869Z"
    }
   },
   "outputs": [
    {
     "data": {
      "text/plain": [
       "((70110, 50), (70110, 501))"
      ]
     },
     "execution_count": 17,
     "metadata": {},
     "output_type": "execute_result"
    }
   ],
   "source": [
    "Y_dr.shape,Y11.shape"
   ]
  },
  {
   "cell_type": "code",
   "execution_count": 18,
   "metadata": {
    "ExecuteTime": {
     "end_time": "2021-08-04T22:05:43.079888Z",
     "start_time": "2021-08-04T22:05:42.941334Z"
    }
   },
   "outputs": [
    {
     "data": {
      "text/plain": [
       "<matplotlib.legend.Legend at 0x1c0af16ddf0>"
      ]
     },
     "execution_count": 18,
     "metadata": {},
     "output_type": "execute_result"
    },
    {
     "data": {
      "image/png": "[encoded data removed]",
      "text/plain": [
       "<Figure size 432x288 with 1 Axes>"
      ]
     },
     "metadata": {
      "needs_background": "light"
     },
     "output_type": "display_data"
    }
   ],
   "source": [
    "# plt.figure(figsize=(15,9))\n",
    "plt.scatter(np.arange(50)+1, Y_dr[0],label='PCA-reduced y')\n",
    "plt.legend()"
   ]
  },
  {
   "cell_type": "code",
   "execution_count": 19,
   "metadata": {
    "ExecuteTime": {
     "end_time": "2021-08-04T22:05:43.190871Z",
     "start_time": "2021-08-04T22:05:43.079888Z"
    }
   },
   "outputs": [
    {
     "data": {
      "text/plain": [
       "<matplotlib.legend.Legend at 0x1c0af244d60>"
      ]
     },
     "execution_count": 19,
     "metadata": {},
     "output_type": "execute_result"
    },
    {
     "data": {
      "image/png": "[encoded data removed]",
      "text/plain": [
       "<Figure size 432x288 with 1 Axes>"
      ]
     },
     "metadata": {
      "needs_background": "light"
     },
     "output_type": "display_data"
    }
   ],
   "source": [
    "# plt.figure(figsize=(15,9))\n",
    "plt.plot(np.arange(501)+1, Y11[0],label='PCA-inversed y')\n",
    "plt.plot(np.arange(501)+1,Y[0],'-.',label='Original y')\n",
    "\n",
    "plt.ylim(0,0.12)\n",
    "plt.xlim(0,502)\n",
    "# plt.xticks(np.arange(40)+1)\n",
    "plt.legend()\n",
    "# plt.grid(axis='x',color='grey',which='both',linestyle='--',linewidth='1')"
   ]
  },
  {
   "cell_type": "code",
   "execution_count": 20,
   "metadata": {
    "ExecuteTime": {
     "end_time": "2021-08-04T22:05:43.206495Z",
     "start_time": "2021-08-04T22:05:43.190871Z"
    }
   },
   "outputs": [
    {
     "data": {
      "text/plain": [
       "array([5.61809471e-01, 1.78082587e-01, 9.14194763e-02, 5.11400128e-02,\n",
       "       3.09201618e-02, 2.02512365e-02, 1.38184015e-02, 9.95006272e-03,\n",
       "       7.31521035e-03, 5.59235858e-03, 4.35280392e-03, 3.43688211e-03,\n",
       "       2.78213329e-03, 2.27135010e-03, 1.90146019e-03, 1.58890772e-03,\n",
       "       1.35775143e-03, 1.15554102e-03, 9.89160873e-04, 8.59612896e-04,\n",
       "       7.47353311e-04, 6.59153598e-04, 5.87228921e-04, 5.14762705e-04,\n",
       "       4.63099477e-04, 4.16046031e-04, 3.74987830e-04, 3.36934052e-04,\n",
       "       3.02977441e-04, 2.75256298e-04, 2.52812318e-04, 2.31286094e-04,\n",
       "       2.10002111e-04, 1.94743106e-04, 1.79217224e-04, 1.67500161e-04,\n",
       "       1.53383033e-04, 1.42143213e-04, 1.32806865e-04, 1.23021918e-04,\n",
       "       1.14793545e-04, 1.08576853e-04, 1.01183915e-04, 9.50067018e-05,\n",
       "       8.89268371e-05, 8.40389825e-05, 7.78471074e-05, 7.35765515e-05,\n",
       "       6.94125709e-05, 6.57816325e-05])"
      ]
     },
     "execution_count": 20,
     "metadata": {},
     "output_type": "execute_result"
    }
   ],
   "source": [
    "EVR = pca.explained_variance_ratio_\n",
    "EVR"
   ]
  },
  {
   "cell_type": "code",
   "execution_count": 21,
   "metadata": {
    "ExecuteTime": {
     "end_time": "2021-08-04T22:05:43.222115Z",
     "start_time": "2021-08-04T22:05:43.206495Z"
    }
   },
   "outputs": [
    {
     "data": {
      "text/plain": [
       "0.9983384427697074"
      ]
     },
     "execution_count": 21,
     "metadata": {},
     "output_type": "execute_result"
    }
   ],
   "source": [
    "Total_EVR = pca.explained_variance_ratio_.sum()\n",
    "Total_EVR"
   ]
  },
  {
   "cell_type": "code",
   "execution_count": 22,
   "metadata": {
    "ExecuteTime": {
     "end_time": "2021-08-04T22:05:43.583497Z",
     "start_time": "2021-08-04T22:05:43.222115Z"
    }
   },
   "outputs": [
    {
     "name": "stderr",
     "output_type": "stream",
     "text": [
      "<ipython-input-22-bbdc2e161d34>:2: MatplotlibDeprecationWarning: Case-insensitive properties were deprecated in 3.3 and support will be removed two minor releases later\n",
      "  plt.plot(1+np.arange(50),np.cumsum(pca.explained_variance_ratio_),\"r\",MarkerSize=5,LineWidth=3.0)\n"
     ]
    },
    {
     "data": {
      "image/png": "[encoded data removed]",
      "text/plain": [
       "<Figure size 1080x648 with 1 Axes>"
      ]
     },
     "metadata": {
      "needs_background": "light"
     },
     "output_type": "display_data"
    }
   ],
   "source": [
    "plt.figure(figsize=(15,9))\n",
    "plt.plot(1+np.arange(50),np.cumsum(pca.explained_variance_ratio_),\"r\",MarkerSize=5,LineWidth=3.0)\n",
    "plt.xticks(1+np.arange(50),fontsize=15)\n",
    "plt.yticks(np.linspace(0.5,1,11),fontsize=15)\n",
    "plt.xlim(1,50)\n",
    "plt.ylim(0.5,1)\n",
    "plt.xlabel(\"number of components after dimension reduction\", fontdict={'size': 20})\n",
    "plt.ylabel(\"cumlative explained variance\", fontdict={'size': 20})\n",
    "plt.grid(axis='both',color='grey',which='both',linestyle='-.',linewidth='1')\n",
    "plt.show()"
   ]
  },
  {
   "cell_type": "code",
   "execution_count": 23,
   "metadata": {
    "ExecuteTime": {
     "end_time": "2021-08-04T22:05:43.611250Z",
     "start_time": "2021-08-04T22:05:43.586393Z"
    }
   },
   "outputs": [
    {
     "data": {
      "text/plain": [
       "0.5618094706893667"
      ]
     },
     "execution_count": 23,
     "metadata": {},
     "output_type": "execute_result"
    }
   ],
   "source": [
    "EVR[0]"
   ]
  },
  {
   "cell_type": "code",
   "execution_count": 24,
   "metadata": {
    "ExecuteTime": {
     "end_time": "2021-08-04T22:05:43.626530Z",
     "start_time": "2021-08-04T22:05:43.614543Z"
    }
   },
   "outputs": [
    {
     "data": {
      "text/plain": [
       "array([5.62744503e-01, 1.78378974e-01, 9.15716278e-02, 5.12251263e-02,\n",
       "       3.09716229e-02, 2.02849411e-02, 1.38413998e-02, 9.96662283e-03,\n",
       "       7.32738522e-03, 5.60166607e-03, 4.36004839e-03, 3.44260219e-03,\n",
       "       2.78676365e-03, 2.27513036e-03, 1.90462484e-03, 1.59155218e-03,\n",
       "       1.36001117e-03, 1.15746421e-03, 9.90807156e-04, 8.61043569e-04,\n",
       "       7.48597148e-04, 6.60250642e-04, 5.88206259e-04, 5.15619436e-04,\n",
       "       4.63870224e-04, 4.16738466e-04, 3.75611931e-04, 3.37494819e-04,\n",
       "       3.03481693e-04, 2.75714413e-04, 2.53233079e-04, 2.31671029e-04,\n",
       "       2.10351623e-04, 1.95067221e-04, 1.79515499e-04, 1.67778935e-04,\n",
       "       1.53638311e-04, 1.42379785e-04, 1.33027899e-04, 1.23226666e-04,\n",
       "       1.14984599e-04, 1.08757560e-04, 1.01352317e-04, 9.51648236e-05,\n",
       "       8.90748401e-05, 8.41788505e-05, 7.79766701e-05, 7.36990066e-05,\n",
       "       6.95280958e-05, 6.58911143e-05])"
      ]
     },
     "execution_count": 24,
     "metadata": {},
     "output_type": "execute_result"
    }
   ],
   "source": [
    "EVR_weight = EVR/Total_EVR\n",
    "EVR_weight"
   ]
  },
  {
   "cell_type": "code",
   "execution_count": 25,
   "metadata": {
    "ExecuteTime": {
     "end_time": "2021-08-04T22:05:43.654395Z",
     "start_time": "2021-08-04T22:05:43.627528Z"
    }
   },
   "outputs": [
    {
     "data": {
      "text/plain": [
       "(50,)"
      ]
     },
     "execution_count": 25,
     "metadata": {},
     "output_type": "execute_result"
    }
   ],
   "source": [
    "EVR_weight.shape"
   ]
  },
  {
   "cell_type": "markdown",
   "metadata": {},
   "source": [
    "# Create dataset"
   ]
  },
  {
   "cell_type": "code",
   "execution_count": 26,
   "metadata": {
    "ExecuteTime": {
     "end_time": "2021-08-04T22:05:43.669355Z",
     "start_time": "2021-08-04T22:05:43.656390Z"
    }
   },
   "outputs": [
    {
     "data": {
      "text/plain": [
       "['D:\\\\ML data\\\\dataset\\\\ZC_dataset_3DCP\\\\20210803\\\\crack\\\\Inputpicture_withorder\\\\00501.bmp',\n",
       " 'D:\\\\ML data\\\\dataset\\\\ZC_dataset_3DCP\\\\20210803\\\\crack\\\\Inputpicture_withorder\\\\00502.bmp',\n",
       " 'D:\\\\ML data\\\\dataset\\\\ZC_dataset_3DCP\\\\20210803\\\\crack\\\\Inputpicture_withorder\\\\00503.bmp',\n",
       " 'D:\\\\ML data\\\\dataset\\\\ZC_dataset_3DCP\\\\20210803\\\\crack\\\\Inputpicture_withorder\\\\00504.bmp',\n",
       " 'D:\\\\ML data\\\\dataset\\\\ZC_dataset_3DCP\\\\20210803\\\\crack\\\\Inputpicture_withorder\\\\00505.bmp']"
      ]
     },
     "execution_count": 26,
     "metadata": {},
     "output_type": "execute_result"
    }
   ],
   "source": [
    "img_train_path = img_path[:56000]\n",
    "img_val_path = img_path[56000:]\n",
    "img_train_path[500:505]"
   ]
  },
  {
   "cell_type": "code",
   "execution_count": 27,
   "metadata": {
    "ExecuteTime": {
     "end_time": "2021-08-04T22:05:43.682721Z",
     "start_time": "2021-08-04T22:05:43.670352Z"
    }
   },
   "outputs": [
    {
     "data": {
      "text/plain": [
       "((56000, 50), (14110, 50))"
      ]
     },
     "execution_count": 27,
     "metadata": {},
     "output_type": "execute_result"
    }
   ],
   "source": [
    "y_train = Y_dr[:56000,:]\n",
    "y_val = Y_dr[56000:,:]\n",
    "y_train.shape, y_val.shape"
   ]
  },
  {
   "cell_type": "code",
   "execution_count": 28,
   "metadata": {
    "ExecuteTime": {
     "end_time": "2021-08-04T22:05:43.697713Z",
     "start_time": "2021-08-04T22:05:43.684715Z"
    }
   },
   "outputs": [
    {
     "data": {
      "text/plain": [
       "((56000, 50), (14110, 50))"
      ]
     },
     "execution_count": 28,
     "metadata": {},
     "output_type": "execute_result"
    }
   ],
   "source": [
    "Weighted_y_train = EVR_weight*y_train\n",
    "Weighted_y_val = EVR_weight*y_val\n",
    "Weighted_y_train.shape, Weighted_y_val.shape"
   ]
  },
  {
   "cell_type": "code",
   "execution_count": null,
   "metadata": {},
   "outputs": [],
   "source": []
  },
  {
   "cell_type": "code",
   "execution_count": null,
   "metadata": {},
   "outputs": [],
   "source": []
  },
  {
   "cell_type": "code",
   "execution_count": 29,
   "metadata": {
    "ExecuteTime": {
     "end_time": "2021-08-04T22:05:43.716454Z",
     "start_time": "2021-08-04T22:05:43.698678Z"
    }
   },
   "outputs": [],
   "source": [
    "def read_bmp(path):\n",
    "    img = tf.io.read_file(path)\n",
    "    img = tf.image.decode_bmp(img, channels=1)\n",
    "    return img"
   ]
  },
  {
   "cell_type": "code",
   "execution_count": 30,
   "metadata": {
    "ExecuteTime": {
     "end_time": "2021-08-04T22:05:43.731599Z",
     "start_time": "2021-08-04T22:05:43.717612Z"
    }
   },
   "outputs": [],
   "source": [
    "def load_and_preprocess_image(path, label):\n",
    "    image = read_bmp(path)   \n",
    "    \n",
    "    image = tf.cast(image, tf.float32) #change UF8 to float\n",
    "    image = image/255\n",
    "    return image, label"
   ]
  },
  {
   "cell_type": "code",
   "execution_count": 31,
   "metadata": {
    "ExecuteTime": {
     "end_time": "2021-08-04T22:05:43.884977Z",
     "start_time": "2021-08-04T22:05:43.732571Z"
    }
   },
   "outputs": [],
   "source": [
    "train_image_ds = tf.data.Dataset.from_tensor_slices((img_train_path, y_train))"
   ]
  },
  {
   "cell_type": "code",
   "execution_count": 32,
   "metadata": {
    "ExecuteTime": {
     "end_time": "2021-08-04T22:05:43.936650Z",
     "start_time": "2021-08-04T22:05:43.885923Z"
    }
   },
   "outputs": [],
   "source": [
    "val_image_ds = tf.data.Dataset.from_tensor_slices((img_val_path, y_val))"
   ]
  },
  {
   "cell_type": "code",
   "execution_count": 33,
   "metadata": {
    "ExecuteTime": {
     "end_time": "2021-08-04T22:05:43.960320Z",
     "start_time": "2021-08-04T22:05:43.936650Z"
    }
   },
   "outputs": [],
   "source": [
    "auto = tf.data.experimental.AUTOTUNE"
   ]
  },
  {
   "cell_type": "code",
   "execution_count": 34,
   "metadata": {
    "ExecuteTime": {
     "end_time": "2021-08-04T22:05:44.075548Z",
     "start_time": "2021-08-04T22:05:43.961720Z"
    }
   },
   "outputs": [],
   "source": [
    "train_image_ds = train_image_ds.map(load_and_preprocess_image, num_parallel_calls=auto)\n",
    "val_image_ds = val_image_ds.map(load_and_preprocess_image, num_parallel_calls=auto) "
   ]
  },
  {
   "cell_type": "code",
   "execution_count": 35,
   "metadata": {
    "ExecuteTime": {
     "end_time": "2021-08-04T22:05:44.093228Z",
     "start_time": "2021-08-04T22:05:44.076545Z"
    }
   },
   "outputs": [
    {
     "data": {
      "text/plain": [
       "<ParallelMapDataset shapes: ((None, None, 1), (50,)), types: (tf.float32, tf.float64)>"
      ]
     },
     "execution_count": 35,
     "metadata": {},
     "output_type": "execute_result"
    }
   ],
   "source": [
    "train_image_ds"
   ]
  },
  {
   "cell_type": "code",
   "execution_count": 36,
   "metadata": {
    "ExecuteTime": {
     "end_time": "2021-08-04T22:05:44.241057Z",
     "start_time": "2021-08-04T22:05:44.093228Z"
    }
   },
   "outputs": [
    {
     "data": {
      "image/png": "[encoded data removed]",
      "text/plain": [
       "<Figure size 432x288 with 1 Axes>"
      ]
     },
     "metadata": {
      "needs_background": "light"
     },
     "output_type": "display_data"
    }
   ],
   "source": [
    "for img,label in train_image_ds.take(1):\n",
    "    plt.imshow(img)"
   ]
  },
  {
   "cell_type": "code",
   "execution_count": 37,
   "metadata": {
    "ExecuteTime": {
     "end_time": "2021-08-04T22:05:44.257825Z",
     "start_time": "2021-08-04T22:05:44.242080Z"
    }
   },
   "outputs": [
    {
     "data": {
      "text/plain": [
       "56000"
      ]
     },
     "execution_count": 37,
     "metadata": {},
     "output_type": "execute_result"
    }
   ],
   "source": [
    "train_count = len(y_train)\n",
    "train_count"
   ]
  },
  {
   "cell_type": "code",
   "execution_count": 38,
   "metadata": {
    "ExecuteTime": {
     "end_time": "2021-08-04T22:05:44.273783Z",
     "start_time": "2021-08-04T22:05:44.259822Z"
    }
   },
   "outputs": [],
   "source": [
    "Batch_size = 32"
   ]
  },
  {
   "cell_type": "code",
   "execution_count": 39,
   "metadata": {
    "ExecuteTime": {
     "end_time": "2021-08-04T22:05:44.290575Z",
     "start_time": "2021-08-04T22:05:44.274833Z"
    }
   },
   "outputs": [],
   "source": [
    "#for model.fit\n",
    "train_image_ds = train_image_ds.shuffle(train_count).batch(Batch_size)\n",
    "train_image_ds = train_image_ds.prefetch(auto) #预取数据节约时间"
   ]
  },
  {
   "cell_type": "code",
   "execution_count": 40,
   "metadata": {
    "ExecuteTime": {
     "end_time": "2021-08-04T22:05:44.306534Z",
     "start_time": "2021-08-04T22:05:44.292572Z"
    }
   },
   "outputs": [],
   "source": [
    "val_image_ds = val_image_ds.batch(Batch_size)\n",
    "val_image_ds = val_image_ds.prefetch(auto) #预取数据节约时间"
   ]
  },
  {
   "cell_type": "code",
   "execution_count": 41,
   "metadata": {
    "ExecuteTime": {
     "end_time": "2021-08-04T22:05:44.323366Z",
     "start_time": "2021-08-04T22:05:44.307591Z"
    }
   },
   "outputs": [],
   "source": [
    "# val_count = len(y_val)\n",
    "# val_count"
   ]
  },
  {
   "cell_type": "code",
   "execution_count": 42,
   "metadata": {
    "ExecuteTime": {
     "end_time": "2021-08-04T22:05:53.952730Z",
     "start_time": "2021-08-04T22:05:44.325363Z"
    }
   },
   "outputs": [],
   "source": [
    "imgs, labels = next(iter(train_image_ds))"
   ]
  },
  {
   "cell_type": "code",
   "execution_count": 43,
   "metadata": {
    "ExecuteTime": {
     "end_time": "2021-08-04T22:05:53.968202Z",
     "start_time": "2021-08-04T22:05:53.952730Z"
    }
   },
   "outputs": [
    {
     "data": {
      "text/plain": [
       "(TensorShape([32, 64, 64, 1]), TensorShape([32, 50]))"
      ]
     },
     "execution_count": 43,
     "metadata": {},
     "output_type": "execute_result"
    }
   ],
   "source": [
    "imgs.shape, labels.shape"
   ]
  },
  {
   "cell_type": "code",
   "execution_count": 44,
   "metadata": {
    "ExecuteTime": {
     "end_time": "2021-08-04T22:05:54.110251Z",
     "start_time": "2021-08-04T22:05:53.971113Z"
    }
   },
   "outputs": [
    {
     "data": {
      "text/plain": [
       "<matplotlib.image.AxesImage at 0x1c0b2e46a30>"
      ]
     },
     "execution_count": 44,
     "metadata": {},
     "output_type": "execute_result"
    },
    {
     "data": {
      "image/png": "[encoded data removed]",
      "text/plain": [
       "<Figure size 432x288 with 1 Axes>"
      ]
     },
     "metadata": {
      "needs_background": "light"
     },
     "output_type": "display_data"
    }
   ],
   "source": [
    "plt.imshow(imgs[0])"
   ]
  },
  {
   "cell_type": "code",
   "execution_count": 45,
   "metadata": {
    "ExecuteTime": {
     "end_time": "2021-08-04T22:05:54.122265Z",
     "start_time": "2021-08-04T22:05:54.111201Z"
    }
   },
   "outputs": [
    {
     "data": {
      "text/plain": [
       "<tf.Tensor: shape=(50,), dtype=float64, numpy=\n",
       "array([ 2.35283086e-01, -2.44367737e-01, -5.63473337e-02,  1.85366830e-02,\n",
       "       -6.55706817e-04, -1.06371070e-02,  2.33874505e-02,  1.75267564e-02,\n",
       "        1.53339479e-02, -6.32524552e-03,  3.74360899e-02,  2.42902099e-03,\n",
       "       -3.92840078e-02,  1.62772733e-04, -2.19707632e-02, -7.56561467e-04,\n",
       "       -4.23171140e-03,  1.58035958e-03, -7.34558593e-03,  9.98270329e-04,\n",
       "       -6.31420223e-03, -6.29951493e-03, -6.33422747e-03,  6.38145556e-03,\n",
       "        3.95790447e-03,  3.66173400e-03,  1.40866271e-03,  2.68415959e-03,\n",
       "        6.01227511e-04,  2.66567286e-03,  6.61353525e-04,  5.66915768e-03,\n",
       "        2.71437074e-03,  7.06759168e-03,  2.54372653e-03,  4.38727762e-03,\n",
       "        1.95476072e-03, -5.29281886e-04, -5.52598356e-04,  6.04495771e-04,\n",
       "        3.81784271e-04,  5.13384559e-04, -2.84396329e-03,  2.71219563e-04,\n",
       "        4.78207072e-03, -2.61546463e-03, -2.31520707e-03,  2.85229016e-03,\n",
       "       -4.43865772e-04, -9.91688463e-04])>"
      ]
     },
     "execution_count": 45,
     "metadata": {},
     "output_type": "execute_result"
    }
   ],
   "source": [
    "labels[0]"
   ]
  },
  {
   "cell_type": "code",
   "execution_count": 46,
   "metadata": {
    "ExecuteTime": {
     "end_time": "2021-08-04T22:05:54.338637Z",
     "start_time": "2021-08-04T22:05:54.124492Z"
    }
   },
   "outputs": [],
   "source": [
    "model = keras.Sequential([\n",
    "    tf.keras.layers.Conv2D(64, (3,3), input_shape=(64,64,1),activation='relu',padding='same'),\n",
    "    tf.keras.layers.Conv2D(64, (3,3), activation='relu',padding='same'),\n",
    "    tf.keras.layers.BatchNormalization(),\n",
    "\n",
    "    tf.keras.layers.Conv2D(64, (3,3), activation='relu',padding='same'),\n",
    "    tf.keras.layers.Conv2D(64, (3,3), activation='relu',padding='same'),    \n",
    "    tf.keras.layers.Conv2D(64, (3,3), activation='relu',padding='same'),\n",
    "    tf.keras.layers.BatchNormalization(),\n",
    "    tf.keras.layers.MaxPooling2D(),\n",
    "    \n",
    "    tf.keras.layers.Conv2D(64, (3,3), activation='relu',padding='same'),    \n",
    "    tf.keras.layers.Conv2D(64, (3,3), activation='relu',padding='same'),\n",
    "    tf.keras.layers.Conv2D(64, (3,3), activation='relu',padding='same'),\n",
    "    tf.keras.layers.BatchNormalization(),\n",
    "    tf.keras.layers.MaxPooling2D(),\n",
    "\n",
    "    tf.keras.layers.Conv2D(64, (3,3), activation='relu',padding='same'),\n",
    "    tf.keras.layers.Conv2D(64, (3,3), activation='relu',padding='same'),\n",
    "    tf.keras.layers.Conv2D(64, (3,3), activation='relu',padding='same'),\n",
    "    tf.keras.layers.BatchNormalization(),\n",
    "    tf.keras.layers.MaxPooling2D(),\n",
    "    \n",
    "    tf.keras.layers.GlobalAveragePooling2D(),\n",
    "#     tf.keras.layers.Dense(1024,activation='relu'),\n",
    "    tf.keras.layers.Dense(50)\n",
    "\n",
    "])"
   ]
  },
  {
   "cell_type": "code",
   "execution_count": 47,
   "metadata": {
    "ExecuteTime": {
     "end_time": "2021-08-04T22:05:54.361928Z",
     "start_time": "2021-08-04T22:05:54.340578Z"
    }
   },
   "outputs": [
    {
     "name": "stdout",
     "output_type": "stream",
     "text": [
      "Model: \"sequential\"\n",
      "_________________________________________________________________\n",
      "Layer (type)                 Output Shape              Param #   \n",
      "=================================================================\n",
      "conv2d (Conv2D)              (None, 64, 64, 64)        640       \n",
      "_________________________________________________________________\n",
      "conv2d_1 (Conv2D)            (None, 64, 64, 64)        36928     \n",
      "_________________________________________________________________\n",
      "batch_normalization (BatchNo (None, 64, 64, 64)        256       \n",
      "_________________________________________________________________\n",
      "conv2d_2 (Conv2D)            (None, 64, 64, 64)        36928     \n",
      "_________________________________________________________________\n",
      "conv2d_3 (Conv2D)            (None, 64, 64, 64)        36928     \n",
      "_________________________________________________________________\n",
      "conv2d_4 (Conv2D)            (None, 64, 64, 64)        36928     \n",
      "_________________________________________________________________\n",
      "batch_normalization_1 (Batch (None, 64, 64, 64)        256       \n",
      "_________________________________________________________________\n",
      "max_pooling2d (MaxPooling2D) (None, 32, 32, 64)        0         \n",
      "_________________________________________________________________\n",
      "conv2d_5 (Conv2D)            (None, 32, 32, 64)        36928     \n",
      "_________________________________________________________________\n",
      "conv2d_6 (Conv2D)            (None, 32, 32, 64)        36928     \n",
      "_________________________________________________________________\n",
      "conv2d_7 (Conv2D)            (None, 32, 32, 64)        36928     \n",
      "_________________________________________________________________\n",
      "batch_normalization_2 (Batch (None, 32, 32, 64)        256       \n",
      "_________________________________________________________________\n",
      "max_pooling2d_1 (MaxPooling2 (None, 16, 16, 64)        0         \n",
      "_________________________________________________________________\n",
      "conv2d_8 (Conv2D)            (None, 16, 16, 64)        36928     \n",
      "_________________________________________________________________\n",
      "conv2d_9 (Conv2D)            (None, 16, 16, 64)        36928     \n",
      "_________________________________________________________________\n",
      "conv2d_10 (Conv2D)           (None, 16, 16, 64)        36928     \n",
      "_________________________________________________________________\n",
      "batch_normalization_3 (Batch (None, 16, 16, 64)        256       \n",
      "_________________________________________________________________\n",
      "max_pooling2d_2 (MaxPooling2 (None, 8, 8, 64)          0         \n",
      "_________________________________________________________________\n",
      "global_average_pooling2d (Gl (None, 64)                0         \n",
      "_________________________________________________________________\n",
      "dense (Dense)                (None, 50)                3250      \n",
      "=================================================================\n",
      "Total params: 374,194\n",
      "Trainable params: 373,682\n",
      "Non-trainable params: 512\n",
      "_________________________________________________________________\n"
     ]
    }
   ],
   "source": [
    "model.summary()"
   ]
  },
  {
   "cell_type": "code",
   "execution_count": 48,
   "metadata": {
    "ExecuteTime": {
     "end_time": "2021-08-04T22:05:54.380854Z",
     "start_time": "2021-08-04T22:05:54.362977Z"
    }
   },
   "outputs": [],
   "source": [
    "ls = tf.keras.losses.MeanSquaredError() #(y_true, y_pred)"
   ]
  },
  {
   "cell_type": "code",
   "execution_count": 49,
   "metadata": {
    "ExecuteTime": {
     "end_time": "2021-08-04T22:05:54.395813Z",
     "start_time": "2021-08-04T22:05:54.382851Z"
    }
   },
   "outputs": [],
   "source": [
    "# def loss_function(labels, pred):\n",
    "#     pred1 = EVR_weight*pred\n",
    "#     labels1 = EVR_weight*labels\n",
    "#     loss_step = tf.keras.losses.MSE(labels1, pred1)\n",
    "    \n",
    "#     return loss_step"
   ]
  },
  {
   "cell_type": "code",
   "execution_count": 50,
   "metadata": {
    "ExecuteTime": {
     "end_time": "2021-08-04T22:05:54.414655Z",
     "start_time": "2021-08-04T22:05:54.397810Z"
    }
   },
   "outputs": [],
   "source": [
    "optimizer = tf.keras.optimizers.Adam()"
   ]
  },
  {
   "cell_type": "code",
   "execution_count": 51,
   "metadata": {
    "ExecuteTime": {
     "end_time": "2021-08-04T22:05:54.429707Z",
     "start_time": "2021-08-04T22:05:54.416669Z"
    }
   },
   "outputs": [],
   "source": [
    "# #define r_square\n",
    "# def r_square(y_true, y_pred):\n",
    "#     y_mean = np.mean(y_true)\n",
    "#     SSE=np.sum((y_true-y_pred)**2)\n",
    "#     SST=np.sum((y_true-y_mean)**2)\n",
    "#     R_2=1-SSE/SST\n",
    "#     return R_2"
   ]
  },
  {
   "cell_type": "code",
   "execution_count": 52,
   "metadata": {
    "ExecuteTime": {
     "end_time": "2021-08-04T22:05:54.447488Z",
     "start_time": "2021-08-04T22:05:54.430709Z"
    }
   },
   "outputs": [],
   "source": [
    "# r_square(np.array([1,1,1]), np.array([1,0.99,1]))"
   ]
  },
  {
   "cell_type": "code",
   "execution_count": 53,
   "metadata": {
    "ExecuteTime": {
     "end_time": "2021-08-04T22:05:54.462772Z",
     "start_time": "2021-08-04T22:05:54.449756Z"
    }
   },
   "outputs": [],
   "source": [
    "# epoch_loss_avg = tf.keras.metrics.Mean('train_loss')\n",
    "# # epoch_R2_avg = tf.keras.metrics.Mean('train_R2')\n",
    "\n",
    "# epoch_loss_avg_val = tf.keras.metrics.Mean('val_loss')\n",
    "# # epoch_R2_avg_val = tf.keras.metrics.Mean('test_R2')"
   ]
  },
  {
   "cell_type": "code",
   "execution_count": 54,
   "metadata": {
    "ExecuteTime": {
     "end_time": "2021-08-04T22:05:54.481580Z",
     "start_time": "2021-08-04T22:05:54.463764Z"
    }
   },
   "outputs": [],
   "source": [
    "# def train_step(model, images, labels):\n",
    "#     with tf.GradientTape() as t:\n",
    "#         pred = model(images)\n",
    "#         loss_step = loss_function(labels, pred)\n",
    "# #         R2_train = r_square(labels, pred)\n",
    "    \n",
    "        \n",
    "#     grads = t.gradient(loss_step, model.trainable_variables)\n",
    "#     optimizer.apply_gradients(zip(grads,model.trainable_variables))\n",
    "#     epoch_loss_avg(loss_step)\n",
    "# #     epoch_R2_avg(R2_train)"
   ]
  },
  {
   "cell_type": "code",
   "execution_count": 55,
   "metadata": {
    "ExecuteTime": {
     "end_time": "2021-08-04T22:05:54.496587Z",
     "start_time": "2021-08-04T22:05:54.483577Z"
    }
   },
   "outputs": [],
   "source": [
    "# def val_step(model, images, labels):\n",
    "#     pred = model(images, training=False)\n",
    "# #     pred1 = np.multiply(pred, EVR_weight)\n",
    "# #     labels1 = np.multiply(labels, EVR_weight)\n",
    "#     loss_step = loss_function(labels, pred)\n",
    "# #     R2_test = r_square(labels, pred)\n",
    "    \n",
    "#     epoch_loss_avg_val(loss_step)\n",
    "# #     epoch_R2_avg(R2_test)"
   ]
  },
  {
   "cell_type": "code",
   "execution_count": 56,
   "metadata": {
    "ExecuteTime": {
     "end_time": "2021-08-04T22:05:54.515347Z",
     "start_time": "2021-08-04T22:05:54.497538Z"
    }
   },
   "outputs": [],
   "source": [
    "# train_loss_results = []\n",
    "# # train_R2 = []\n",
    "\n",
    "# val_loss_results = []\n",
    "# # test_R2 = []"
   ]
  },
  {
   "cell_type": "code",
   "execution_count": 57,
   "metadata": {
    "ExecuteTime": {
     "end_time": "2021-08-04T22:05:54.530556Z",
     "start_time": "2021-08-04T22:05:54.517580Z"
    }
   },
   "outputs": [],
   "source": [
    "# num_epochs = 50"
   ]
  },
  {
   "cell_type": "code",
   "execution_count": 58,
   "metadata": {
    "ExecuteTime": {
     "end_time": "2021-08-04T22:05:54.549245Z",
     "start_time": "2021-08-04T22:05:54.531527Z"
    }
   },
   "outputs": [],
   "source": [
    "# for epoch in range(num_epochs):\n",
    "#     for imgs_, labels_ in train_image_ds:\n",
    "#         train_step(model, imgs_, labels_)\n",
    "# #         print('.', end='')\n",
    "# #     print()\n",
    "#     train_loss_results.append(epoch_loss_avg.result())\n",
    "    \n",
    "#     for imgs_, labels_ in val_image_ds:\n",
    "#         val_step(model, imgs_, labels_)\n",
    "#     val_loss_results.append(epoch_loss_avg_val.result())    \n",
    "        \n",
    "    \n",
    "#     print('Epoch: {}: loss:{:.8f}, val_loss: {:.8f}'.format(\n",
    "#         epoch+1,\n",
    "#         epoch_loss_avg.result(),\n",
    "# #         train_R2.result(),\n",
    "#         epoch_loss_avg_val.result(),\n",
    "# #         test_R2.result()\n",
    "#     ))\n",
    "    \n",
    "#     epoch_loss_avg.reset_states()\n",
    "# #     train_R2.reset_states()\n",
    "#     epoch_loss_avg_val.reset_states()\n",
    "# #     test_R2.reset_states()"
   ]
  },
  {
   "cell_type": "code",
   "execution_count": 59,
   "metadata": {
    "ExecuteTime": {
     "end_time": "2021-08-04T22:05:54.564462Z",
     "start_time": "2021-08-04T22:05:54.551445Z"
    }
   },
   "outputs": [],
   "source": [
    "# val_loss_results"
   ]
  },
  {
   "cell_type": "code",
   "execution_count": 60,
   "metadata": {
    "ExecuteTime": {
     "end_time": "2021-08-04T22:05:54.583109Z",
     "start_time": "2021-08-04T22:05:54.566406Z"
    }
   },
   "outputs": [],
   "source": [
    "# train_loss_results"
   ]
  },
  {
   "cell_type": "code",
   "execution_count": null,
   "metadata": {},
   "outputs": [],
   "source": []
  },
  {
   "cell_type": "code",
   "execution_count": null,
   "metadata": {},
   "outputs": [],
   "source": []
  },
  {
   "cell_type": "code",
   "execution_count": null,
   "metadata": {},
   "outputs": [],
   "source": []
  },
  {
   "cell_type": "code",
   "execution_count": 61,
   "metadata": {
    "ExecuteTime": {
     "end_time": "2021-08-04T22:05:54.598316Z",
     "start_time": "2021-08-04T22:05:54.584358Z"
    }
   },
   "outputs": [],
   "source": [
    "model.compile(optimizer='adam',\n",
    "              loss='mse',\n",
    "              metrics=['mae'])"
   ]
  },
  {
   "cell_type": "code",
   "execution_count": 62,
   "metadata": {
    "ExecuteTime": {
     "end_time": "2021-08-05T04:13:25.345060Z",
     "start_time": "2021-08-04T22:05:54.600297Z"
    }
   },
   "outputs": [
    {
     "name": "stdout",
     "output_type": "stream",
     "text": [
      "Epoch 1/100\n",
      "   2/1750 [..............................] - ETA: 1:23 - loss: 0.4293 - mae: 0.4950WARNING:tensorflow:Callbacks method `on_train_batch_end` is slow compared to the batch time (batch time: 0.0315s vs `on_train_batch_end` time: 0.0642s). Check your callbacks.\n",
      "1750/1750 [==============================] - 203s 116ms/step - loss: 0.0016 - mae: 0.0157 - val_loss: 0.0103 - val_mae: 0.0838\n",
      "Epoch 2/100\n",
      "1750/1750 [==============================] - 206s 118ms/step - loss: 7.0594e-04 - mae: 0.0119 - val_loss: 0.0020 - val_mae: 0.0314\n",
      "Epoch 3/100\n",
      "1750/1750 [==============================] - 206s 118ms/step - loss: 6.7389e-04 - mae: 0.0115 - val_loss: 0.0012 - val_mae: 0.0237\n",
      "Epoch 4/100\n",
      "1750/1750 [==============================] - 202s 116ms/step - loss: 6.5063e-04 - mae: 0.0112 - val_loss: 0.0011 - val_mae: 0.0215\n",
      "Epoch 5/100\n",
      "1750/1750 [==============================] - 206s 118ms/step - loss: 6.3027e-04 - mae: 0.0109 - val_loss: 0.0013 - val_mae: 0.0239\n",
      "Epoch 6/100\n",
      "1750/1750 [==============================] - 206s 118ms/step - loss: 6.1803e-04 - mae: 0.0108 - val_loss: 0.0017 - val_mae: 0.0252\n",
      "Epoch 7/100\n",
      "1750/1750 [==============================] - 206s 118ms/step - loss: 6.0408e-04 - mae: 0.0106 - val_loss: 0.0011 - val_mae: 0.0187\n",
      "Epoch 8/100\n",
      "1750/1750 [==============================] - 208s 119ms/step - loss: 5.8852e-04 - mae: 0.0104 - val_loss: 7.0393e-04 - val_mae: 0.0149\n",
      "Epoch 9/100\n",
      "1750/1750 [==============================] - 204s 117ms/step - loss: 5.7937e-04 - mae: 0.0103 - val_loss: 0.0011 - val_mae: 0.0176\n",
      "Epoch 10/100\n",
      "1750/1750 [==============================] - 207s 119ms/step - loss: 5.6909e-04 - mae: 0.0102 - val_loss: 9.1484e-04 - val_mae: 0.0150\n",
      "Epoch 11/100\n",
      "1750/1750 [==============================] - 206s 118ms/step - loss: 5.6097e-04 - mae: 0.0102 - val_loss: 0.0013 - val_mae: 0.0155\n",
      "Epoch 12/100\n",
      "1750/1750 [==============================] - 206s 118ms/step - loss: 5.5391e-04 - mae: 0.0101 - val_loss: 6.9143e-04 - val_mae: 0.0132\n",
      "Epoch 13/100\n",
      "1750/1750 [==============================] - 207s 118ms/step - loss: 5.4405e-04 - mae: 0.0101 - val_loss: 6.7085e-04 - val_mae: 0.0128\n",
      "Epoch 14/100\n",
      "1750/1750 [==============================] - 207s 118ms/step - loss: 5.3647e-04 - mae: 0.0100 - val_loss: 6.1462e-04 - val_mae: 0.0121\n",
      "Epoch 15/100\n",
      "1750/1750 [==============================] - 206s 118ms/step - loss: 5.2874e-04 - mae: 0.0100 - val_loss: 6.3951e-04 - val_mae: 0.0122\n",
      "Epoch 16/100\n",
      "1750/1750 [==============================] - 204s 117ms/step - loss: 5.2056e-04 - mae: 0.0099 - val_loss: 6.8323e-04 - val_mae: 0.0125\n",
      "Epoch 17/100\n",
      "1750/1750 [==============================] - 205s 117ms/step - loss: 5.1201e-04 - mae: 0.0099 - val_loss: 7.7958e-04 - val_mae: 0.0123\n",
      "Epoch 18/100\n",
      "1750/1750 [==============================] - 203s 116ms/step - loss: 5.0062e-04 - mae: 0.0098 - val_loss: 7.8289e-04 - val_mae: 0.0125\n",
      "Epoch 19/100\n",
      "1750/1750 [==============================] - 207s 118ms/step - loss: 4.8957e-04 - mae: 0.0098 - val_loss: 7.4504e-04 - val_mae: 0.0123\n",
      "Epoch 20/100\n",
      "1750/1750 [==============================] - 206s 118ms/step - loss: 4.7826e-04 - mae: 0.0097 - val_loss: 7.0986e-04 - val_mae: 0.0119\n",
      "Epoch 21/100\n",
      "1750/1750 [==============================] - 203s 116ms/step - loss: 4.6768e-04 - mae: 0.0096 - val_loss: 6.8697e-04 - val_mae: 0.0112\n",
      "Epoch 22/100\n",
      "1750/1750 [==============================] - 203s 116ms/step - loss: 4.5491e-04 - mae: 0.0096 - val_loss: 8.5422e-04 - val_mae: 0.0125\n",
      "Epoch 23/100\n",
      "1750/1750 [==============================] - 206s 118ms/step - loss: 4.4238e-04 - mae: 0.0095 - val_loss: 6.3432e-04 - val_mae: 0.0109\n",
      "Epoch 24/100\n",
      "1750/1750 [==============================] - 206s 118ms/step - loss: 4.2737e-04 - mae: 0.0094 - val_loss: 7.8038e-04 - val_mae: 0.0115\n",
      "Epoch 25/100\n",
      "1750/1750 [==============================] - 207s 118ms/step - loss: 4.1328e-04 - mae: 0.0094 - val_loss: 8.5039e-04 - val_mae: 0.0116\n",
      "Epoch 26/100\n",
      "1750/1750 [==============================] - 206s 118ms/step - loss: 4.0079e-04 - mae: 0.0093 - val_loss: 6.6659e-04 - val_mae: 0.0110\n",
      "Epoch 27/100\n",
      "1750/1750 [==============================] - 203s 116ms/step - loss: 3.8949e-04 - mae: 0.0092 - val_loss: 7.1309e-04 - val_mae: 0.0110\n",
      "Epoch 28/100\n",
      "1750/1750 [==============================] - 203s 116ms/step - loss: 3.7869e-04 - mae: 0.0091 - val_loss: 8.3729e-04 - val_mae: 0.0112\n",
      "Epoch 29/100\n",
      "1750/1750 [==============================] - 206s 118ms/step - loss: 3.6896e-04 - mae: 0.0091 - val_loss: 8.5954e-04 - val_mae: 0.0115\n",
      "Epoch 30/100\n",
      "1750/1750 [==============================] - 206s 118ms/step - loss: 3.5933e-04 - mae: 0.0090 - val_loss: 7.1919e-04 - val_mae: 0.0110\n",
      "Epoch 31/100\n",
      "1750/1750 [==============================] - 204s 116ms/step - loss: 3.4957e-04 - mae: 0.0089 - val_loss: 8.8768e-04 - val_mae: 0.0116\n",
      "Epoch 32/100\n",
      "1750/1750 [==============================] - 206s 118ms/step - loss: 3.3927e-04 - mae: 0.0089 - val_loss: 8.4303e-04 - val_mae: 0.0113\n",
      "Epoch 33/100\n",
      "1750/1750 [==============================] - 206s 118ms/step - loss: 3.3172e-04 - mae: 0.0088 - val_loss: 6.9958e-04 - val_mae: 0.0108\n",
      "Epoch 34/100\n",
      "1750/1750 [==============================] - 207s 118ms/step - loss: 3.2364e-04 - mae: 0.0088 - val_loss: 8.4449e-04 - val_mae: 0.0114\n",
      "Epoch 35/100\n",
      "1750/1750 [==============================] - 207s 118ms/step - loss: 3.1613e-04 - mae: 0.0087 - val_loss: 6.9315e-04 - val_mae: 0.0109\n",
      "Epoch 36/100\n",
      "1750/1750 [==============================] - 208s 119ms/step - loss: 3.0861e-04 - mae: 0.0086 - val_loss: 7.0637e-04 - val_mae: 0.0108\n",
      "Epoch 37/100\n",
      "1750/1750 [==============================] - 206s 117ms/step - loss: 3.0148e-04 - mae: 0.0086 - val_loss: 7.5697e-04 - val_mae: 0.0110\n",
      "Epoch 38/100\n",
      "1750/1750 [==============================] - 206s 118ms/step - loss: 2.9562e-04 - mae: 0.0085 - val_loss: 7.5791e-04 - val_mae: 0.0110\n",
      "Epoch 39/100\n",
      "1750/1750 [==============================] - 207s 119ms/step - loss: 2.8909e-04 - mae: 0.0085 - val_loss: 7.3470e-04 - val_mae: 0.0109\n",
      "Epoch 40/100\n",
      "1750/1750 [==============================] - 206s 118ms/step - loss: 2.8276e-04 - mae: 0.0084 - val_loss: 8.9167e-04 - val_mae: 0.0115\n",
      "Epoch 41/100\n",
      "1750/1750 [==============================] - 203s 116ms/step - loss: 2.7717e-04 - mae: 0.0084 - val_loss: 7.4312e-04 - val_mae: 0.0109\n",
      "Epoch 42/100\n",
      "1750/1750 [==============================] - 206s 118ms/step - loss: 2.7222e-04 - mae: 0.0083 - val_loss: 8.1435e-04 - val_mae: 0.0115\n",
      "Epoch 43/100\n",
      "1750/1750 [==============================] - 206s 118ms/step - loss: 2.6750e-04 - mae: 0.0083 - val_loss: 7.3832e-04 - val_mae: 0.0111\n",
      "Epoch 44/100\n",
      "1750/1750 [==============================] - 208s 119ms/step - loss: 2.6276e-04 - mae: 0.0083 - val_loss: 8.8051e-04 - val_mae: 0.0115\n",
      "Epoch 45/100\n",
      "1750/1750 [==============================] - 209s 119ms/step - loss: 2.5791e-04 - mae: 0.0082 - val_loss: 0.0011 - val_mae: 0.0128\n",
      "Epoch 46/100\n",
      "1750/1750 [==============================] - 208s 119ms/step - loss: 2.5557e-04 - mae: 0.0082 - val_loss: 7.7809e-04 - val_mae: 0.0111\n",
      "Epoch 47/100\n",
      "1750/1750 [==============================] - 203s 116ms/step - loss: 2.4958e-04 - mae: 0.0081 - val_loss: 7.7549e-04 - val_mae: 0.0111\n",
      "Epoch 48/100\n",
      "1750/1750 [==============================] - 206s 118ms/step - loss: 2.4554e-04 - mae: 0.0081 - val_loss: 9.1940e-04 - val_mae: 0.0118\n",
      "Epoch 49/100\n",
      "1750/1750 [==============================] - 206s 118ms/step - loss: 2.4204e-04 - mae: 0.0081 - val_loss: 8.0830e-04 - val_mae: 0.0112\n",
      "Epoch 50/100\n",
      "1750/1750 [==============================] - 204s 117ms/step - loss: 2.3919e-04 - mae: 0.0080 - val_loss: 8.6422e-04 - val_mae: 0.0115\n",
      "Epoch 51/100\n",
      "1750/1750 [==============================] - 207s 118ms/step - loss: 2.3405e-04 - mae: 0.0080 - val_loss: 9.0510e-04 - val_mae: 0.0117\n",
      "Epoch 52/100\n",
      "1750/1750 [==============================] - 206s 118ms/step - loss: 2.3108e-04 - mae: 0.0080 - val_loss: 9.4316e-04 - val_mae: 0.0117\n",
      "Epoch 53/100\n",
      "1750/1750 [==============================] - 208s 119ms/step - loss: 2.2914e-04 - mae: 0.0079 - val_loss: 7.1503e-04 - val_mae: 0.0109\n",
      "Epoch 54/100\n",
      "1750/1750 [==============================] - 203s 116ms/step - loss: 2.2734e-04 - mae: 0.0079 - val_loss: 7.5614e-04 - val_mae: 0.0111\n"
     ]
    },
    {
     "name": "stdout",
     "output_type": "stream",
     "text": [
      "Epoch 55/100\n",
      "1750/1750 [==============================] - 203s 116ms/step - loss: 2.2067e-04 - mae: 0.0079 - val_loss: 7.2076e-04 - val_mae: 0.0109\n",
      "Epoch 56/100\n",
      "1750/1750 [==============================] - 204s 117ms/step - loss: 2.1989e-04 - mae: 0.0078 - val_loss: 8.0410e-04 - val_mae: 0.0114\n",
      "Epoch 57/100\n",
      "1750/1750 [==============================] - 203s 116ms/step - loss: 2.1808e-04 - mae: 0.0078 - val_loss: 0.0011 - val_mae: 0.0124\n",
      "Epoch 58/100\n",
      "1750/1750 [==============================] - 208s 119ms/step - loss: 2.1474e-04 - mae: 0.0078 - val_loss: 8.6880e-04 - val_mae: 0.0117\n",
      "Epoch 59/100\n",
      "1750/1750 [==============================] - 208s 119ms/step - loss: 2.1256e-04 - mae: 0.0078 - val_loss: 7.7758e-04 - val_mae: 0.0112\n",
      "Epoch 60/100\n",
      "1750/1750 [==============================] - 206s 118ms/step - loss: 2.0985e-04 - mae: 0.0077 - val_loss: 7.7016e-04 - val_mae: 0.0111\n",
      "Epoch 61/100\n",
      "1750/1750 [==============================] - 206s 118ms/step - loss: 2.0608e-04 - mae: 0.0077 - val_loss: 7.8477e-04 - val_mae: 0.0112\n",
      "Epoch 62/100\n",
      "1750/1750 [==============================] - 206s 118ms/step - loss: 2.0452e-04 - mae: 0.0077 - val_loss: 8.0954e-04 - val_mae: 0.0114\n",
      "Epoch 63/100\n",
      "1750/1750 [==============================] - 204s 116ms/step - loss: 2.0315e-04 - mae: 0.0077 - val_loss: 7.5561e-04 - val_mae: 0.0111\n",
      "Epoch 64/100\n",
      "1750/1750 [==============================] - 206s 118ms/step - loss: 2.0027e-04 - mae: 0.0076 - val_loss: 8.2904e-04 - val_mae: 0.0114\n",
      "Epoch 65/100\n",
      "1750/1750 [==============================] - 206s 118ms/step - loss: 1.9927e-04 - mae: 0.0076 - val_loss: 8.5612e-04 - val_mae: 0.0115\n",
      "Epoch 66/100\n",
      "1750/1750 [==============================] - 208s 119ms/step - loss: 1.9585e-04 - mae: 0.0076 - val_loss: 8.2258e-04 - val_mae: 0.0114\n",
      "Epoch 67/100\n",
      "1750/1750 [==============================] - 206s 118ms/step - loss: 1.9463e-04 - mae: 0.0076 - val_loss: 7.6688e-04 - val_mae: 0.0111\n",
      "Epoch 68/100\n",
      "1750/1750 [==============================] - 206s 118ms/step - loss: 1.9288e-04 - mae: 0.0075 - val_loss: 8.6960e-04 - val_mae: 0.0115\n",
      "Epoch 69/100\n",
      "1750/1750 [==============================] - 206s 118ms/step - loss: 1.9133e-04 - mae: 0.0075 - val_loss: 8.3116e-04 - val_mae: 0.0116\n",
      "Epoch 70/100\n",
      "1750/1750 [==============================] - 208s 119ms/step - loss: 1.9042e-04 - mae: 0.0075 - val_loss: 8.1890e-04 - val_mae: 0.0114\n",
      "Epoch 71/100\n",
      "1750/1750 [==============================] - 207s 119ms/step - loss: 1.8790e-04 - mae: 0.0075 - val_loss: 7.9875e-04 - val_mae: 0.0113\n",
      "Epoch 72/100\n",
      "1750/1750 [==============================] - 204s 117ms/step - loss: 1.8655e-04 - mae: 0.0075 - val_loss: 7.9940e-04 - val_mae: 0.0113\n",
      "Epoch 73/100\n",
      "1750/1750 [==============================] - 208s 119ms/step - loss: 1.8441e-04 - mae: 0.0074 - val_loss: 7.8983e-04 - val_mae: 0.0112\n",
      "Epoch 74/100\n",
      "1750/1750 [==============================] - 206s 118ms/step - loss: 1.8473e-04 - mae: 0.0074 - val_loss: 8.1848e-04 - val_mae: 0.0113\n",
      "Epoch 75/100\n",
      "1750/1750 [==============================] - 203s 116ms/step - loss: 1.8095e-04 - mae: 0.0074 - val_loss: 8.0346e-04 - val_mae: 0.0114\n",
      "Epoch 76/100\n",
      "1750/1750 [==============================] - 203s 116ms/step - loss: 1.7969e-04 - mae: 0.0074 - val_loss: 8.7852e-04 - val_mae: 0.0116\n",
      "Epoch 77/100\n",
      "1750/1750 [==============================] - 208s 119ms/step - loss: 1.7949e-04 - mae: 0.0074 - val_loss: 7.9859e-04 - val_mae: 0.0112\n",
      "Epoch 78/100\n",
      "1750/1750 [==============================] - 204s 117ms/step - loss: 1.7667e-04 - mae: 0.0073 - val_loss: 8.1808e-04 - val_mae: 0.0113\n",
      "Epoch 79/100\n",
      "1750/1750 [==============================] - 208s 119ms/step - loss: 1.7616e-04 - mae: 0.0073 - val_loss: 8.3329e-04 - val_mae: 0.0114\n",
      "Epoch 80/100\n",
      "1750/1750 [==============================] - 207s 118ms/step - loss: 1.7455e-04 - mae: 0.0073 - val_loss: 7.8872e-04 - val_mae: 0.0113\n",
      "Epoch 81/100\n",
      "1750/1750 [==============================] - 208s 119ms/step - loss: 1.7331e-04 - mae: 0.0073 - val_loss: 7.9170e-04 - val_mae: 0.0113\n",
      "Epoch 82/100\n",
      "1750/1750 [==============================] - 204s 116ms/step - loss: 1.7255e-04 - mae: 0.0073 - val_loss: 8.4263e-04 - val_mae: 0.0116\n",
      "Epoch 83/100\n",
      "1750/1750 [==============================] - 203s 116ms/step - loss: 1.7068e-04 - mae: 0.0073 - val_loss: 7.8279e-04 - val_mae: 0.0112\n",
      "Epoch 84/100\n",
      "1750/1750 [==============================] - 206s 118ms/step - loss: 1.7101e-04 - mae: 0.0073 - val_loss: 7.7628e-04 - val_mae: 0.0112\n",
      "Epoch 85/100\n",
      "1750/1750 [==============================] - 207s 118ms/step - loss: 1.6975e-04 - mae: 0.0073 - val_loss: 8.7392e-04 - val_mae: 0.0118\n",
      "Epoch 86/100\n",
      "1750/1750 [==============================] - 206s 118ms/step - loss: 1.6778e-04 - mae: 0.0072 - val_loss: 7.9436e-04 - val_mae: 0.0113\n",
      "Epoch 87/100\n",
      "1750/1750 [==============================] - 203s 116ms/step - loss: 1.6607e-04 - mae: 0.0072 - val_loss: 7.8285e-04 - val_mae: 0.0113\n",
      "Epoch 88/100\n",
      "1750/1750 [==============================] - 206s 118ms/step - loss: 1.6697e-04 - mae: 0.0072 - val_loss: 8.3241e-04 - val_mae: 0.0115\n",
      "Epoch 89/100\n",
      "1750/1750 [==============================] - 203s 116ms/step - loss: 1.6573e-04 - mae: 0.0072 - val_loss: 8.0083e-04 - val_mae: 0.0113\n",
      "Epoch 90/100\n",
      "1750/1750 [==============================] - 208s 119ms/step - loss: 1.6297e-04 - mae: 0.0072 - val_loss: 7.7473e-04 - val_mae: 0.0113\n",
      "Epoch 91/100\n",
      "1750/1750 [==============================] - 204s 117ms/step - loss: 1.6305e-04 - mae: 0.0072 - val_loss: 7.9689e-04 - val_mae: 0.0114\n",
      "Epoch 92/100\n",
      "1750/1750 [==============================] - 207s 118ms/step - loss: 1.6227e-04 - mae: 0.0072 - val_loss: 7.8886e-04 - val_mae: 0.0113\n",
      "Epoch 93/100\n",
      "1750/1750 [==============================] - 208s 119ms/step - loss: 1.6012e-04 - mae: 0.0071 - val_loss: 8.0703e-04 - val_mae: 0.0114\n",
      "Epoch 94/100\n",
      "1750/1750 [==============================] - 204s 117ms/step - loss: 1.6244e-04 - mae: 0.0071 - val_loss: 8.9544e-04 - val_mae: 0.0118\n",
      "Epoch 95/100\n",
      "1750/1750 [==============================] - 203s 116ms/step - loss: 1.5942e-04 - mae: 0.0071 - val_loss: 9.0761e-04 - val_mae: 0.0118\n",
      "Epoch 96/100\n",
      "1750/1750 [==============================] - 206s 118ms/step - loss: 1.5849e-04 - mae: 0.0071 - val_loss: 8.6464e-04 - val_mae: 0.0116\n",
      "Epoch 97/100\n",
      "1750/1750 [==============================] - 208s 119ms/step - loss: 1.5697e-04 - mae: 0.0071 - val_loss: 8.0879e-04 - val_mae: 0.0114\n",
      "Epoch 98/100\n",
      "1750/1750 [==============================] - 202s 115ms/step - loss: 1.5623e-04 - mae: 0.0071 - val_loss: 7.9809e-04 - val_mae: 0.0114\n",
      "Epoch 99/100\n",
      "1750/1750 [==============================] - 208s 119ms/step - loss: 1.5481e-04 - mae: 0.0070 - val_loss: 7.9316e-04 - val_mae: 0.0114\n",
      "Epoch 100/100\n",
      "1750/1750 [==============================] - 202s 116ms/step - loss: 1.5417e-04 - mae: 0.0070 - val_loss: 8.2799e-04 - val_mae: 0.0115\n"
     ]
    }
   ],
   "source": [
    "history = model.fit(train_image_ds, epochs=100, validation_data= val_image_ds)"
   ]
  },
  {
   "cell_type": "code",
   "execution_count": null,
   "metadata": {},
   "outputs": [],
   "source": []
  },
  {
   "cell_type": "code",
   "execution_count": 63,
   "metadata": {
    "ExecuteTime": {
     "end_time": "2021-08-05T04:13:25.360655Z",
     "start_time": "2021-08-05T04:13:25.345060Z"
    }
   },
   "outputs": [],
   "source": [
    "# #define r_square  epoch==40\n",
    "def r_square(y_true, y_pred):\n",
    "    y_pred1 = tf.cast(y_pred,tf.float64)\n",
    "    y_mean = np.mean(y_true,axis=0)\n",
    "    SSE=np.sum((y_true-y_pred1)**2,axis=0)\n",
    "    SST=np.sum((y_true-y_mean)**2,axis=0)\n",
    "    R1=1-SSE/SST\n",
    "    R2 = np.sum(EVR_weight*R1)\n",
    "    R_2 = tf.convert_to_tensor(R2,name='R_2')\n",
    "    return R_2"
   ]
  },
  {
   "cell_type": "code",
   "execution_count": null,
   "metadata": {},
   "outputs": [],
   "source": []
  },
  {
   "cell_type": "code",
   "execution_count": null,
   "metadata": {},
   "outputs": [],
   "source": []
  },
  {
   "cell_type": "code",
   "execution_count": 64,
   "metadata": {
    "ExecuteTime": {
     "end_time": "2021-08-05T04:13:25.591416Z",
     "start_time": "2021-08-05T04:13:25.362383Z"
    }
   },
   "outputs": [
    {
     "data": {
      "text/plain": [
       "<tf.Tensor: shape=(50,), dtype=float32, numpy=\n",
       "array([-4.30883355e-02, -4.20836285e-02,  2.50272490e-02,  4.07240689e-02,\n",
       "       -4.53085192e-02, -1.58587713e-02,  2.22956249e-03,  2.14466592e-03,\n",
       "        2.38262420e-03,  1.55465468e-03, -8.94777477e-04, -9.21613188e-04,\n",
       "       -1.04316208e-03,  1.28010492e-04, -1.29526563e-03,  3.46283632e-04,\n",
       "       -6.32903830e-04,  2.14942265e-04, -5.82998153e-04,  9.73351533e-04,\n",
       "       -4.08770458e-04, -3.57348123e-04, -1.49566957e-04,  5.13016596e-04,\n",
       "        6.80210127e-04, -8.94736964e-04,  1.60996907e-03,  4.86701261e-04,\n",
       "       -6.52609742e-05,  5.28114731e-04,  9.13247350e-05,  1.18188764e-05,\n",
       "       -1.09754605e-04, -7.84304226e-04,  1.29417138e-04,  6.25380490e-05,\n",
       "       -2.60116882e-04, -3.14131379e-04,  4.09575528e-04, -7.27086881e-05,\n",
       "       -4.68282320e-04, -5.33158134e-04, -3.18657083e-04, -6.06916612e-04,\n",
       "       -3.22951702e-04, -3.81902937e-04,  8.42873356e-04, -4.78955131e-04,\n",
       "        7.51403131e-05,  4.38436284e-04], dtype=float32)>"
      ]
     },
     "execution_count": 64,
     "metadata": {},
     "output_type": "execute_result"
    }
   ],
   "source": [
    "pred = model(imgs)\n",
    "pred[2]"
   ]
  },
  {
   "cell_type": "code",
   "execution_count": 65,
   "metadata": {
    "ExecuteTime": {
     "end_time": "2021-08-05T04:13:25.602024Z",
     "start_time": "2021-08-05T04:13:25.591416Z"
    }
   },
   "outputs": [
    {
     "data": {
      "text/plain": [
       "<tf.Tensor: shape=(50,), dtype=float64, numpy=\n",
       "array([-2.57708811e-02, -6.58571368e-02,  1.69810878e-02,  6.72402330e-02,\n",
       "       -3.76846962e-02,  2.50760964e-03,  2.76460670e-02,  9.04171295e-03,\n",
       "       -1.28370108e-02, -8.46646303e-03,  5.60463488e-03,  7.98004707e-03,\n",
       "       -1.49082811e-02,  1.81113775e-03, -1.03427039e-02,  8.82014252e-03,\n",
       "       -5.98133826e-03,  1.04913610e-02, -2.09087751e-03, -6.06720315e-03,\n",
       "       -5.11861806e-03, -2.47090625e-03, -4.74425006e-03,  3.69088859e-03,\n",
       "        2.13550168e-03,  7.84304369e-03, -4.01076791e-03,  3.12915752e-03,\n",
       "       -3.96496805e-03, -3.47392082e-03,  5.64694121e-03,  2.99321742e-03,\n",
       "        1.46634853e-03,  1.73535505e-03, -2.75987264e-04,  3.13975342e-03,\n",
       "       -4.45040549e-03,  5.06997435e-04,  3.95684365e-03,  1.92724238e-03,\n",
       "       -2.83860026e-03, -3.57210265e-03,  3.89685738e-05,  2.84203058e-03,\n",
       "        1.24850198e-03, -8.52514568e-04, -2.03167112e-03, -9.18847650e-04,\n",
       "       -1.09425891e-03,  2.60901696e-03])>"
      ]
     },
     "execution_count": 65,
     "metadata": {},
     "output_type": "execute_result"
    }
   ],
   "source": [
    "labels[2]"
   ]
  },
  {
   "cell_type": "code",
   "execution_count": 66,
   "metadata": {
    "ExecuteTime": {
     "end_time": "2021-08-05T04:13:25.617672Z",
     "start_time": "2021-08-05T04:13:25.602024Z"
    }
   },
   "outputs": [],
   "source": [
    "# pred1 = pred/EVR_weight"
   ]
  },
  {
   "cell_type": "code",
   "execution_count": 67,
   "metadata": {
    "ExecuteTime": {
     "end_time": "2021-08-05T04:13:25.631064Z",
     "start_time": "2021-08-05T04:13:25.617672Z"
    }
   },
   "outputs": [
    {
     "data": {
      "text/plain": [
       "<tf.Tensor: shape=(), dtype=float64, numpy=0.8009004864985331>"
      ]
     },
     "execution_count": 67,
     "metadata": {},
     "output_type": "execute_result"
    }
   ],
   "source": [
    "r_square(labels, pred)"
   ]
  },
  {
   "cell_type": "code",
   "execution_count": 68,
   "metadata": {
    "ExecuteTime": {
     "end_time": "2021-08-05T04:13:25.646687Z",
     "start_time": "2021-08-05T04:13:25.631064Z"
    }
   },
   "outputs": [],
   "source": [
    "# labels[1]"
   ]
  },
  {
   "cell_type": "code",
   "execution_count": 69,
   "metadata": {
    "ExecuteTime": {
     "end_time": "2021-08-05T04:13:25.669132Z",
     "start_time": "2021-08-05T04:13:25.646687Z"
    }
   },
   "outputs": [],
   "source": [
    "# labels1 = labels/EVR_weight\n",
    "# labels1"
   ]
  },
  {
   "cell_type": "code",
   "execution_count": 70,
   "metadata": {
    "ExecuteTime": {
     "end_time": "2021-08-05T04:13:26.147054Z",
     "start_time": "2021-08-05T04:13:25.669132Z"
    }
   },
   "outputs": [
    {
     "data": {
      "image/png": "[encoded data removed]",
      "text/plain": [
       "<Figure size 1080x648 with 1 Axes>"
      ]
     },
     "metadata": {
      "needs_background": "light"
     },
     "output_type": "display_data"
    }
   ],
   "source": [
    "plt.figure(figsize=(15,9))\n",
    "plt.scatter(np.arange(50)+1, pred[20],label='Predicted value')\n",
    "plt.scatter(np.arange(50)+1, labels[20],label='Ground truth')\n",
    "\n",
    "# plt.ylim(-0.06,0.06)\n",
    "plt.xlim(0,50)\n",
    "plt.xticks(np.arange(50)+1)\n",
    "plt.legend()\n",
    "plt.grid(axis='both',color='grey',which='both',linestyle='--',linewidth='1')"
   ]
  },
  {
   "cell_type": "code",
   "execution_count": null,
   "metadata": {},
   "outputs": [],
   "source": []
  },
  {
   "cell_type": "code",
   "execution_count": null,
   "metadata": {},
   "outputs": [],
   "source": []
  },
  {
   "cell_type": "code",
   "execution_count": 71,
   "metadata": {
    "ExecuteTime": {
     "end_time": "2021-08-05T04:13:28.584909Z",
     "start_time": "2021-08-05T04:13:26.148429Z"
    }
   },
   "outputs": [],
   "source": [
    "pca=PCA(n_components=50)#实例化\n",
    "pca=pca.fit(Y)#拟合模型\n",
    "Y_dr=pca.transform(Y)#获取降维后的新矩阵\n",
    "\n",
    "Y_pred = pca.inverse_transform(pred)\n",
    "Y_true = pca.inverse_transform(labels)"
   ]
  },
  {
   "cell_type": "code",
   "execution_count": 72,
   "metadata": {
    "ExecuteTime": {
     "end_time": "2021-08-05T04:13:28.600338Z",
     "start_time": "2021-08-05T04:13:28.584909Z"
    }
   },
   "outputs": [
    {
     "data": {
      "text/plain": [
       "(32, 501)"
      ]
     },
     "execution_count": 72,
     "metadata": {},
     "output_type": "execute_result"
    }
   ],
   "source": [
    "Y_pred.shape"
   ]
  },
  {
   "cell_type": "code",
   "execution_count": 73,
   "metadata": {
    "ExecuteTime": {
     "end_time": "2021-08-05T04:13:28.611849Z",
     "start_time": "2021-08-05T04:13:28.602270Z"
    }
   },
   "outputs": [
    {
     "data": {
      "text/plain": [
       "(32, 501)"
      ]
     },
     "execution_count": 73,
     "metadata": {},
     "output_type": "execute_result"
    }
   ],
   "source": [
    "Y_true.shape"
   ]
  },
  {
   "cell_type": "code",
   "execution_count": 74,
   "metadata": {
    "ExecuteTime": {
     "end_time": "2021-08-05T04:13:28.881706Z",
     "start_time": "2021-08-05T04:13:28.611849Z"
    }
   },
   "outputs": [
    {
     "name": "stderr",
     "output_type": "stream",
     "text": [
      "<ipython-input-74-1e86d2233e5a>:2: MatplotlibDeprecationWarning: Case-insensitive properties were deprecated in 3.3 and support will be removed two minor releases later\n",
      "  plt.plot(np.arange(501)+1, Y_pred[0],label='Predicted curve-1',color='red',LineWidth=4.0)\n",
      "<ipython-input-74-1e86d2233e5a>:3: MatplotlibDeprecationWarning: Case-insensitive properties were deprecated in 3.3 and support will be removed two minor releases later\n",
      "  plt.plot(np.arange(501)+1, Y_true[0],label='Actual curve-1',color='coral',LineWidth=4.0)\n",
      "<ipython-input-74-1e86d2233e5a>:5: MatplotlibDeprecationWarning: Case-insensitive properties were deprecated in 3.3 and support will be removed two minor releases later\n",
      "  plt.plot(np.arange(501)+1, Y_pred[1],label='Predicted curve-2',color='blue',LineWidth=4.0)\n",
      "<ipython-input-74-1e86d2233e5a>:6: MatplotlibDeprecationWarning: Case-insensitive properties were deprecated in 3.3 and support will be removed two minor releases later\n",
      "  plt.plot(np.arange(501)+1, Y_true[1],label='Actual curve-2',color='steelblue',LineWidth=4.0)\n",
      "<ipython-input-74-1e86d2233e5a>:8: MatplotlibDeprecationWarning: Case-insensitive properties were deprecated in 3.3 and support will be removed two minor releases later\n",
      "  plt.plot(np.arange(501)+1, Y_pred[2],label='Predicted curve-3',color='green',LineWidth=4.0)\n",
      "<ipython-input-74-1e86d2233e5a>:9: MatplotlibDeprecationWarning: Case-insensitive properties were deprecated in 3.3 and support will be removed two minor releases later\n",
      "  plt.plot(np.arange(501)+1, Y_true[2],label='Actual curve-3',color='lightgreen',LineWidth=4.0)\n"
     ]
    },
    {
     "data": {
      "text/plain": [
       "<matplotlib.legend.Legend at 0x1c120864250>"
      ]
     },
     "execution_count": 74,
     "metadata": {},
     "output_type": "execute_result"
    },
    {
     "data": {
      "image/png": "[encoded data removed]",
      "text/plain": [
       "<Figure size 1080x648 with 1 Axes>"
      ]
     },
     "metadata": {
      "needs_background": "light"
     },
     "output_type": "display_data"
    }
   ],
   "source": [
    "plt.figure(figsize=(15,9))\n",
    "plt.plot(np.arange(501)+1, Y_pred[0],label='Predicted curve-1',color='red',LineWidth=4.0)\n",
    "plt.plot(np.arange(501)+1, Y_true[0],label='Actual curve-1',color='coral',LineWidth=4.0)\n",
    "\n",
    "plt.plot(np.arange(501)+1, Y_pred[1],label='Predicted curve-2',color='blue',LineWidth=4.0)\n",
    "plt.plot(np.arange(501)+1, Y_true[1],label='Actual curve-2',color='steelblue',LineWidth=4.0)\n",
    "\n",
    "plt.plot(np.arange(501)+1, Y_pred[2],label='Predicted curve-3',color='green',LineWidth=4.0)\n",
    "plt.plot(np.arange(501)+1, Y_true[2],label='Actual curve-3',color='lightgreen',LineWidth=4.0)\n",
    "\n",
    "plt.ylim(0,0.12)\n",
    "plt.xlim(0,501)\n",
    "plt.title('Comparison of stree-strain curve on training set',fontdict={'size':15})\n",
    "plt.legend()\n",
    "# plt.grid(axis='x',color='grey',which='both',linestyle='--',linewidth='1')"
   ]
  },
  {
   "cell_type": "code",
   "execution_count": null,
   "metadata": {},
   "outputs": [],
   "source": []
  },
  {
   "cell_type": "code",
   "execution_count": 75,
   "metadata": {
    "ExecuteTime": {
     "end_time": "2021-08-05T04:13:28.912948Z",
     "start_time": "2021-08-05T04:13:28.881706Z"
    }
   },
   "outputs": [],
   "source": [
    "val_imgs, val_labels = next(iter(val_image_ds))"
   ]
  },
  {
   "cell_type": "code",
   "execution_count": 76,
   "metadata": {
    "ExecuteTime": {
     "end_time": "2021-08-05T04:13:28.968667Z",
     "start_time": "2021-08-05T04:13:28.912948Z"
    }
   },
   "outputs": [
    {
     "data": {
      "text/plain": [
       "<tf.Tensor: shape=(50,), dtype=float32, numpy=\n",
       "array([-4.9844708e-02,  2.1344896e-01,  3.6139548e-02, -2.1604425e-04,\n",
       "       -4.3730102e-02, -1.3514338e-03, -4.5126737e-03, -8.3063683e-03,\n",
       "       -8.6968793e-03, -9.0061985e-03,  8.8528758e-03, -7.4989409e-03,\n",
       "        4.8321821e-03, -4.8148511e-03, -4.0304139e-03,  5.4361629e-03,\n",
       "        1.1032990e-03, -3.2781060e-03,  2.5350542e-03, -2.5734170e-03,\n",
       "       -1.0114105e-03, -2.6661756e-03,  1.6362969e-03, -2.0949331e-03,\n",
       "       -1.0778691e-04, -2.3171440e-04,  1.0051557e-03,  4.2067200e-04,\n",
       "        6.0816371e-04,  1.3374074e-03,  1.6480603e-03,  7.0082513e-04,\n",
       "       -4.4598547e-04, -1.4831235e-04,  9.4548147e-04,  2.8629458e-04,\n",
       "       -9.5814187e-04, -2.5041495e-04,  6.1195740e-04, -3.9653364e-04,\n",
       "        1.4293136e-04, -1.0231681e-03, -1.3990448e-04,  2.1809479e-04,\n",
       "       -1.0656461e-04, -8.0787792e-04,  2.7361000e-04, -7.6102070e-04,\n",
       "        5.4686400e-04,  3.6538081e-04], dtype=float32)>"
      ]
     },
     "execution_count": 76,
     "metadata": {},
     "output_type": "execute_result"
    }
   ],
   "source": [
    "pred_val = model(val_imgs)\n",
    "pred_val[2]"
   ]
  },
  {
   "cell_type": "code",
   "execution_count": 77,
   "metadata": {
    "ExecuteTime": {
     "end_time": "2021-08-05T04:13:28.981227Z",
     "start_time": "2021-08-05T04:13:28.968667Z"
    }
   },
   "outputs": [
    {
     "data": {
      "text/plain": [
       "<tf.Tensor: shape=(50,), dtype=float64, numpy=\n",
       "array([-2.35271261e-01,  9.74797746e-02, -2.39866658e-02, -1.05997232e-02,\n",
       "       -6.71844455e-03, -5.54825663e-03,  1.08248010e-02,  8.58930021e-03,\n",
       "        1.04623303e-02,  2.53254127e-02, -4.97646618e-04,  7.46900949e-03,\n",
       "        8.00532363e-03, -1.18427326e-02, -1.09875379e-02,  9.15624851e-03,\n",
       "        1.31427793e-02, -5.02001780e-03,  9.90518196e-03, -6.65026499e-03,\n",
       "       -4.83562868e-03, -5.26787822e-03,  4.99987833e-03, -4.76602847e-04,\n",
       "        4.92187380e-03, -2.51218808e-03,  1.45129271e-03,  2.59511329e-03,\n",
       "       -5.85129380e-03,  2.54721269e-03, -8.06613622e-04, -3.25959716e-03,\n",
       "       -2.05661863e-03,  3.56582641e-03, -2.79466246e-03, -1.72065768e-03,\n",
       "        3.91521585e-03,  5.04374411e-04, -1.46079880e-03,  6.56574319e-06,\n",
       "       -3.17231485e-03,  1.64474866e-03,  3.06700542e-04, -2.39806803e-05,\n",
       "        1.00079984e-03, -1.60513806e-03, -1.95909357e-03, -7.29599520e-04,\n",
       "        1.95485119e-03,  6.11882176e-04])>"
      ]
     },
     "execution_count": 77,
     "metadata": {},
     "output_type": "execute_result"
    }
   ],
   "source": [
    "val_labels[2]"
   ]
  },
  {
   "cell_type": "code",
   "execution_count": null,
   "metadata": {},
   "outputs": [],
   "source": []
  },
  {
   "cell_type": "code",
   "execution_count": 78,
   "metadata": {
    "ExecuteTime": {
     "end_time": "2021-08-05T04:13:28.992968Z",
     "start_time": "2021-08-05T04:13:28.981227Z"
    }
   },
   "outputs": [
    {
     "data": {
      "text/plain": [
       "<tf.Tensor: shape=(), dtype=float64, numpy=0.158276495607135>"
      ]
     },
     "execution_count": 78,
     "metadata": {},
     "output_type": "execute_result"
    }
   ],
   "source": [
    "r_square(val_labels, pred_val)"
   ]
  },
  {
   "cell_type": "code",
   "execution_count": null,
   "metadata": {},
   "outputs": [],
   "source": []
  },
  {
   "cell_type": "code",
   "execution_count": 79,
   "metadata": {
    "ExecuteTime": {
     "end_time": "2021-08-05T04:13:29.496552Z",
     "start_time": "2021-08-05T04:13:28.992968Z"
    }
   },
   "outputs": [
    {
     "data": {
      "image/png": "[encoded data removed]",
      "text/plain": [
       "<Figure size 1080x648 with 1 Axes>"
      ]
     },
     "metadata": {
      "needs_background": "light"
     },
     "output_type": "display_data"
    }
   ],
   "source": [
    "plt.figure(figsize=(15,9))\n",
    "plt.scatter(np.arange(50)+1, pred_val[2],label='Predicted value')\n",
    "plt.scatter(np.arange(50)+1, val_labels[2],label='Ground truth')\n",
    "\n",
    "# plt.ylim(-0.06,0.06)\n",
    "plt.xlim(0,50)\n",
    "plt.xticks(np.arange(50)+1)\n",
    "plt.legend()\n",
    "plt.grid(axis='both',color='grey',which='both',linestyle='--',linewidth='1')"
   ]
  },
  {
   "cell_type": "code",
   "execution_count": 80,
   "metadata": {
    "ExecuteTime": {
     "end_time": "2021-08-05T04:13:31.876985Z",
     "start_time": "2021-08-05T04:13:29.496552Z"
    }
   },
   "outputs": [],
   "source": [
    "pca=PCA(n_components=50)#实例化\n",
    "pca=pca.fit(Y)#拟合模型\n",
    "Y_dr=pca.transform(Y)#获取降维后的新矩阵\n",
    "\n",
    "Y_pred_val = pca.inverse_transform(pred_val)\n",
    "Y_true_val = pca.inverse_transform(val_labels)"
   ]
  },
  {
   "cell_type": "code",
   "execution_count": 81,
   "metadata": {
    "ExecuteTime": {
     "end_time": "2021-08-05T04:13:32.151516Z",
     "start_time": "2021-08-05T04:13:31.876985Z"
    }
   },
   "outputs": [
    {
     "name": "stderr",
     "output_type": "stream",
     "text": [
      "<ipython-input-81-68cffa465210>:2: MatplotlibDeprecationWarning: Case-insensitive properties were deprecated in 3.3 and support will be removed two minor releases later\n",
      "  plt.plot(np.arange(501)+1, Y_pred_val[0],label='Predicted curve-1',color='r',LineWidth=4.0)\n",
      "<ipython-input-81-68cffa465210>:3: MatplotlibDeprecationWarning: Case-insensitive properties were deprecated in 3.3 and support will be removed two minor releases later\n",
      "  plt.plot(np.arange(501)+1, Y_true_val[0],label='Actual curve-1',color='coral',LineWidth=4.0)\n",
      "<ipython-input-81-68cffa465210>:5: MatplotlibDeprecationWarning: Case-insensitive properties were deprecated in 3.3 and support will be removed two minor releases later\n",
      "  plt.plot(np.arange(501)+1, Y_pred_val[1],label='Predicted curve-2',color='b',LineWidth=4.0)\n",
      "<ipython-input-81-68cffa465210>:6: MatplotlibDeprecationWarning: Case-insensitive properties were deprecated in 3.3 and support will be removed two minor releases later\n",
      "  plt.plot(np.arange(501)+1, Y_true_val[1],label='Actual curve-2',color='steelblue',LineWidth=4.0)\n",
      "<ipython-input-81-68cffa465210>:8: MatplotlibDeprecationWarning: Case-insensitive properties were deprecated in 3.3 and support will be removed two minor releases later\n",
      "  plt.plot(np.arange(501)+1, Y_pred_val[2],label='Predicted curve-3',color='g',LineWidth=4.0)\n",
      "<ipython-input-81-68cffa465210>:9: MatplotlibDeprecationWarning: Case-insensitive properties were deprecated in 3.3 and support will be removed two minor releases later\n",
      "  plt.plot(np.arange(501)+1, Y_true_val[2],label='Actual curve-3',color='darkgreen',LineWidth=4.0)\n"
     ]
    },
    {
     "data": {
      "text/plain": [
       "<matplotlib.legend.Legend at 0x1c121630cd0>"
      ]
     },
     "execution_count": 81,
     "metadata": {},
     "output_type": "execute_result"
    },
    {
     "data": {
      "image/png": "[encoded data removed]",
      "text/plain": [
       "<Figure size 1080x648 with 1 Axes>"
      ]
     },
     "metadata": {
      "needs_background": "light"
     },
     "output_type": "display_data"
    }
   ],
   "source": [
    "plt.figure(figsize=(15,9))\n",
    "plt.plot(np.arange(501)+1, Y_pred_val[0],label='Predicted curve-1',color='r',LineWidth=4.0)\n",
    "plt.plot(np.arange(501)+1, Y_true_val[0],label='Actual curve-1',color='coral',LineWidth=4.0)\n",
    "\n",
    "plt.plot(np.arange(501)+1, Y_pred_val[1],label='Predicted curve-2',color='b',LineWidth=4.0)\n",
    "plt.plot(np.arange(501)+1, Y_true_val[1],label='Actual curve-2',color='steelblue',LineWidth=4.0)\n",
    "\n",
    "plt.plot(np.arange(501)+1, Y_pred_val[2],label='Predicted curve-3',color='g',LineWidth=4.0)\n",
    "plt.plot(np.arange(501)+1, Y_true_val[2],label='Actual curve-3',color='darkgreen',LineWidth=4.0)\n",
    "\n",
    "plt.ylim(0,0.1)\n",
    "plt.xlim(0,501)\n",
    "plt.title('Comparison of stree-strain curve on test set',fontdict={'size':15})\n",
    "plt.legend()"
   ]
  },
  {
   "cell_type": "code",
   "execution_count": 82,
   "metadata": {
    "ExecuteTime": {
     "end_time": "2021-08-05T04:13:32.269523Z",
     "start_time": "2021-08-05T04:13:32.153513Z"
    }
   },
   "outputs": [],
   "source": [
    "model.save('./model.h5')"
   ]
  },
  {
   "cell_type": "code",
   "execution_count": null,
   "metadata": {},
   "outputs": [],
   "source": []
  },
  {
   "cell_type": "code",
   "execution_count": null,
   "metadata": {},
   "outputs": [],
   "source": []
  },
  {
   "cell_type": "code",
   "execution_count": null,
   "metadata": {},
   "outputs": [],
   "source": []
  }
 ],
 "metadata": {
  "kernelspec": {
   "display_name": "Python 3",
   "language": "python",
   "name": "python3"
  },
  "language_info": {
   "codemirror_mode": {
    "name": "ipython",
    "version": 3
   },
   "file_extension": ".py",
   "mimetype": "text/x-python",
   "name": "python",
   "nbconvert_exporter": "python",
   "pygments_lexer": "ipython3",
   "version": "3.8.10"
  },
  "toc": {
   "base_numbering": 1,
   "nav_menu": {},
   "number_sections": true,
   "sideBar": true,
   "skip_h1_title": false,
   "title_cell": "Table of Contents",
   "title_sidebar": "Contents",
   "toc_cell": false,
   "toc_position": {},
   "toc_section_display": true,
   "toc_window_display": false
  },
  "varInspector": {
   "cols": {
    "lenName": 16,
    "lenType": 16,
    "lenVar": 40
   },
   "kernels_config": {
    "python": {
     "delete_cmd_postfix": "",
     "delete_cmd_prefix": "del ",
     "library": "var_list.py",
     "varRefreshCmd": "print(var_dic_list())"
    },
    "r": {
     "delete_cmd_postfix": ") ",
     "delete_cmd_prefix": "rm(",
     "library": "var_list.r",
     "varRefreshCmd": "cat(var_dic_list()) "
    }
   },
   "types_to_exclude": [
    "module",
    "function",
    "builtin_function_or_method",
    "instance",
    "_Feature"
   ],
   "window_display": false
  }
 },
 "nbformat": 4,
 "nbformat_minor": 4
}
